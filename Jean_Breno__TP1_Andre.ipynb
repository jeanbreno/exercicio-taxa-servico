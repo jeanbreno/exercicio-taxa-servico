{
  "nbformat": 4,
  "nbformat_minor": 0,
  "metadata": {
    "colab": {
      "name": "Jean_Breno_ TP1_Andre",
      "provenance": [],
      "collapsed_sections": [
        "LiqbC0GuxnG5",
        "PnCK0VP0xvML",
        "A6BIrr9SUUqH",
        "v_Rs8QWpfQVA",
        "CKuHYvEpfkEZ",
        "grv_NhAkdrx1",
        "iXDeHjGi2i2O",
        "pXceAZTh2tFJ",
        "aOZUxbs5x1_A",
        "IGUROMmR3YBN",
        "E4XntxGclmNB",
        "LnjUaWbwVFYq",
        "GdYizYuOIPNV",
        "47bgCsyAJeUk",
        "9ab2AZoSJlKc"
      ],
      "include_colab_link": true
    },
    "kernelspec": {
      "name": "python3",
      "display_name": "Python 3"
    }
  },
  "cells": [
    {
      "cell_type": "markdown",
      "metadata": {
        "id": "view-in-github",
        "colab_type": "text"
      },
      "source": [
        "<a href=\"https://colab.research.google.com/github/jeanbreno/pb-arquitetura-comp-redes-so/blob/main/Jean_Breno__TP1_Andre.ipynb\" target=\"_parent\"><img src=\"https://colab.research.google.com/assets/colab-badge.svg\" alt=\"Open In Colab\"/></a>"
      ]
    },
    {
      "cell_type": "markdown",
      "metadata": {
        "id": "sikThjAR8C76"
      },
      "source": [
        "# **INSTITUTO INFNET**\n",
        "##ALUNO: JEAN BRENO LIMA DE OLIVEIRA\n",
        "##CURSO: ENGENHARIA DE SOFTWARE\n",
        "###EMAIL: jean.oliveira@al.infnet.edu.br\n",
        "---\n",
        "FUNDAMENTOS DE DESENVOLVIMENTO PYTHON\n",
        "\n",
        "* TP1\n",
        "\n",
        "PROFESSOR ANDRÉ VICTOR\n",
        "\n",
        "---\n",
        "\n",
        "---\n"
      ]
    },
    {
      "cell_type": "markdown",
      "metadata": {
        "id": "FnA-NkBAWkkS"
      },
      "source": [
        "# ***Listagem do Moodle***\n",
        "---\n",
        "\n",
        " "
      ]
    },
    {
      "cell_type": "markdown",
      "metadata": {
        "id": "LiqbC0GuxnG5"
      },
      "source": [
        "# **1 - Soma de números ímpares**"
      ]
    },
    {
      "cell_type": "code",
      "metadata": {
        "colab": {
          "base_uri": "https://localhost:8080/"
        },
        "id": "gpYQeD0DWAWz",
        "outputId": "9d51c4da-22a4-41a6-c8dd-09db09ed4ba7"
      },
      "source": [
        "n = int(input(\"Digite o número de termos: \"))\n",
        "soma = 0\n",
        "# repetição para somar os ímpares, com o range sendo o n \n",
        "for i in range(1, n+1):\n",
        "  if i%2 > 0: # se o módulo da divisão de i por dois for maior que zero, então o número é ímpar\n",
        "    soma += i\n",
        "\n",
        "print(f\"A soma dos números ímpares até o número {n} é {soma}.\")"
      ],
      "execution_count": null,
      "outputs": [
        {
          "output_type": "stream",
          "text": [
            "Digite o número de termos: 9\n",
            "A soma dos números ímpares até o número 9 é 25.\n"
          ],
          "name": "stdout"
        }
      ]
    },
    {
      "cell_type": "markdown",
      "metadata": {
        "id": "PnCK0VP0xvML"
      },
      "source": [
        "# **2 - Idade em Dias**"
      ]
    },
    {
      "cell_type": "code",
      "metadata": {
        "id": "OxB85xpBWJRy",
        "colab": {
          "base_uri": "https://localhost:8080/"
        },
        "outputId": "eb92ed52-5a7f-49a1-9b60-a3e8a417ad82"
      },
      "source": [
        "data = int(input(\"Digite o dia do seu nascimento: \"))\n",
        "mes = int(input(\"Digite o mês do seu nascimento: \")) \n",
        "ano = int(input(\"Digite o ano do seu nascimento: \")) \n",
        "\n",
        "data2 = int(input(\"\\nDigite o dia atual: \")) \n",
        "mes2 = int(input(\"Digite o mês atual: \")) \n",
        "ano2 = int(input(\"Digite o ano atual: \"))\n",
        "\n",
        "idade_anos = ano2 - ano\n",
        "\n",
        "# verificando se já completou ano\n",
        "if mes >= mes2: \n",
        "    if mes == mes2: \n",
        "        if data > data2: \n",
        "            idade_anos - 1 \n",
        "    else:\n",
        "        idade_anos - 1 \n",
        "\n",
        "dias_passados =  (30 - data) + ((12 - mes)*30) + ((mes2 - 1)*30) + data2 + (idade_anos)*365\n",
        "\n",
        "print(\"\\nVocê viveu\",dias_passados,\"dias.\")"
      ],
      "execution_count": null,
      "outputs": [
        {
          "output_type": "stream",
          "text": [
            "Digite o dia do seu nascimento: 26\n",
            "Digite o mês do seu nascimento: 10\n",
            "Digite o ano do seu nascimento: 1994\n",
            "\n",
            "Digite o dia atual: 11\n",
            "Digite o mês atual: 05\n",
            "Digite o ano atual: 2021\n",
            "Você viveu 10050 dias.\n"
          ],
          "name": "stdout"
        }
      ]
    },
    {
      "cell_type": "markdown",
      "metadata": {
        "id": "A6BIrr9SUUqH"
      },
      "source": [
        "# **3 e 4 - Fatorial**"
      ]
    },
    {
      "cell_type": "code",
      "metadata": {
        "colab": {
          "base_uri": "https://localhost:8080/"
        },
        "id": "jhRwbF7TUWt7",
        "outputId": "45de8db0-4e12-45f9-d1f6-dcb3eac0bfd7"
      },
      "source": [
        "numero = int(input(\"Fatorial de: \") )\n",
        "\n",
        "resultado=1\n",
        "count=1\n",
        "\n",
        "while count <= numero:\n",
        "    resultado *= count\n",
        "    count += 1\n",
        "\n",
        "print(resultado)"
      ],
      "execution_count": null,
      "outputs": [
        {
          "output_type": "stream",
          "text": [
            "Fatorial de: 4\n",
            "24\n"
          ],
          "name": "stdout"
        }
      ]
    },
    {
      "cell_type": "code",
      "metadata": {
        "colab": {
          "base_uri": "https://localhost:8080/"
        },
        "id": "BUunXvkgUmSS",
        "outputId": "1e1f122b-8dd7-4ed8-ff55-fa8dc694e23c"
      },
      "source": [
        "numero = int(input(\"Fatorial de: \") )\n",
        "\n",
        "resultado=1\n",
        "for n in range(1,numero+1):\n",
        "    resultado *= n\n",
        "\n",
        "print(resultado)"
      ],
      "execution_count": null,
      "outputs": [
        {
          "output_type": "stream",
          "text": [
            "Fatorial de: 5\n",
            "120\n"
          ],
          "name": "stdout"
        }
      ]
    },
    {
      "cell_type": "markdown",
      "metadata": {
        "id": "v_Rs8QWpfQVA"
      },
      "source": [
        "# **5 - Trabalhando com Tuplas**"
      ]
    },
    {
      "cell_type": "code",
      "metadata": {
        "id": "nwLWQAb6fhEX",
        "colab": {
          "base_uri": "https://localhost:8080/"
        },
        "outputId": "ce0201a0-52bd-48e1-8ed4-cda7ed1b1d83"
      },
      "source": [
        "#retornar o índice do elemento na tupla\n",
        "elemento = str(input(\"Nome do elemento: \"))\n",
        "tupla1 = (\"abacate\", \"banana\", \"caju\", \"damasco\", \"e\")\n",
        "\n",
        "if elemento in tupla1:\n",
        "  for index in tupla1:\n",
        "    indiceTupla = tupla1.index(elemento) + 1\n",
        "  print(f\"\\nÍndice do elemento {elemento}: {indiceTupla}\")\n",
        "else:\n",
        "  print(\"\\nNão existe na Tupla.\")"
      ],
      "execution_count": null,
      "outputs": [
        {
          "output_type": "stream",
          "text": [
            "Nome do elemento: abacate\n",
            "\n",
            "Índice do elemento abacate: 1\n"
          ],
          "name": "stdout"
        }
      ]
    },
    {
      "cell_type": "code",
      "metadata": {
        "colab": {
          "base_uri": "https://localhost:8080/"
        },
        "id": "kp9Ccx5JP8NC",
        "outputId": "151deaeb-6a31-4fdc-ac46-10d41644ef78"
      },
      "source": [
        "#dividir uma tupla ao meio\n",
        "tupla2 = (\"abacate\", \"banana\", \"caju\", \"damasco\", \"morango\", \"ameixa\")\n",
        "\n",
        "primeira = tupla2[:3]\n",
        "segunda = tupla2[3:]\n",
        "print(primeira)\n",
        "print(segunda)"
      ],
      "execution_count": null,
      "outputs": [
        {
          "output_type": "stream",
          "text": [
            "('abacate', 'banana', 'caju')\n",
            "('damasco', 'morango', 'ameixa')\n"
          ],
          "name": "stdout"
        }
      ]
    },
    {
      "cell_type": "code",
      "metadata": {
        "id": "rkyB95V96U3T",
        "colab": {
          "base_uri": "https://localhost:8080/"
        },
        "outputId": "a4eea322-402c-4871-c621-4a92fcff8ba5"
      },
      "source": [
        "# excluir elemento da tupla\n",
        "tupla3 = ('abacate', 'banana', 'caju', 'damasco', 'morango', 'ameixa')\n",
        "elemento3 = input(\"Nome do elemento: \")\n",
        "\n",
        "listaTupla3 = list(tupla3)\n",
        "if elemento3 in listaTupla3:\n",
        "  ind = listaTupla3.index(elemento3)\n",
        "  remover = listaTupla3.pop(ind)\n",
        "  tupla3 = tuple(listaTupla3)\n",
        "  print(tupla3)\n",
        "else:\n",
        "  print(\"Não existe esse elemento na tupla.\")\n",
        "\n"
      ],
      "execution_count": null,
      "outputs": [
        {
          "output_type": "stream",
          "text": [
            "Nome do elemento: caju\n",
            "('abacate', 'banana', 'damasco', 'morango', 'ameixa')\n"
          ],
          "name": "stdout"
        }
      ]
    },
    {
      "cell_type": "code",
      "metadata": {
        "colab": {
          "base_uri": "https://localhost:8080/"
        },
        "id": "GwbrcSdGAcQY",
        "outputId": "681aed27-e7b4-4416-cb5b-425f337d4e5f"
      },
      "source": [
        "#invertendo uma tupla\n",
        "tupla4 = ('abacate', 'banana', 'caju', 'damasco', 'morango', 'ameixa')\n",
        "a, b, c, d, e, f = tupla4\n",
        "tuplaNova = f, e, d, c, b, a\n",
        "print(tuplaNova)\n"
      ],
      "execution_count": null,
      "outputs": [
        {
          "output_type": "stream",
          "text": [
            "('ameixa', 'morango', 'damasco', 'caju', 'banana', 'abacate')\n"
          ],
          "name": "stdout"
        }
      ]
    },
    {
      "cell_type": "markdown",
      "metadata": {
        "id": "CKuHYvEpfkEZ"
      },
      "source": [
        "# **8 - Tupla/Triângulos**"
      ]
    },
    {
      "cell_type": "code",
      "metadata": {
        "id": "8K0XUIrLfqdI"
      },
      "source": [
        ""
      ],
      "execution_count": null,
      "outputs": []
    },
    {
      "cell_type": "markdown",
      "metadata": {
        "id": "grv_NhAkdrx1"
      },
      "source": [
        "# **17 - Rotacionar String**"
      ]
    },
    {
      "cell_type": "code",
      "metadata": {
        "colab": {
          "base_uri": "https://localhost:8080/",
          "height": 52
        },
        "id": "UpY4CLSGdycX",
        "outputId": "a28eb82b-bd91-43b1-dd58-56f2fd338d56"
      },
      "source": [
        "def rotacionar(texto,qtd):\n",
        "    return texto[qtd:] + texto[:qtd]\n",
        "\n",
        "qtd = 3\n",
        "texto = str(input(\"Digite o texto: \"))\n",
        "rotacionar(texto, qtd)"
      ],
      "execution_count": null,
      "outputs": [
        {
          "output_type": "stream",
          "text": [
            "Digite o texto: python\n"
          ],
          "name": "stdout"
        },
        {
          "output_type": "execute_result",
          "data": {
            "application/vnd.google.colaboratory.intrinsic+json": {
              "type": "string"
            },
            "text/plain": [
              "'honpyt'"
            ]
          },
          "metadata": {
            "tags": []
          },
          "execution_count": 4
        }
      ]
    },
    {
      "cell_type": "markdown",
      "metadata": {
        "id": "Kz9rLgfAWtEG"
      },
      "source": [
        "# ***Listagem Google Drive***\n",
        "\n",
        "---"
      ]
    },
    {
      "cell_type": "markdown",
      "metadata": {
        "id": "iXDeHjGi2i2O"
      },
      "source": [
        "\n",
        "\n",
        "# **Maior ou Menor número**\n"
      ]
    },
    {
      "cell_type": "code",
      "metadata": {
        "id": "2wd6d97Zx1z_",
        "colab": {
          "base_uri": "https://localhost:8080/"
        },
        "outputId": "b0193775-fad8-4281-a11d-21935ac0f90b"
      },
      "source": [
        "qtd = int(input(\"Quantos números serão lidos? \"))\n",
        "if (qtd > 0):\n",
        "  n = int(input(\"Entre com o 1º número: \"))\n",
        "  menor = n\n",
        "  maior = n\n",
        "for i in range(qtd-1):\n",
        "  n = int(input(f\"Entre com o {i+2}º número: \"))\n",
        "  if (n < menor):\n",
        "    menor = n\n",
        "  if (n > maior):\n",
        "    maior = n\n",
        "\n",
        "if (qtd > 0):\n",
        "  print(\"O menor numero é \" + str(menor) + \" e o maior é \" + str(maior))"
      ],
      "execution_count": null,
      "outputs": [
        {
          "output_type": "stream",
          "text": [
            "Quantos números serão lidos? 4\n",
            "Entre com o 1º número: 3\n",
            "Entre com o 2º número: 65\n",
            "Entre com o 3º número: 9\n",
            "Entre com o 4º número: 0\n",
            "O menor numero é 0 e o maior é 65\n"
          ],
          "name": "stdout"
        }
      ]
    },
    {
      "cell_type": "markdown",
      "metadata": {
        "id": "pXceAZTh2tFJ"
      },
      "source": [
        "# **Média do aluno**"
      ]
    },
    {
      "cell_type": "code",
      "metadata": {
        "id": "RRRiytmL3XjR",
        "colab": {
          "base_uri": "https://localhost:8080/"
        },
        "outputId": "57ce9002-4936-495b-a74a-63d7303d4117"
      },
      "source": [
        "def calculoMedia():\n",
        "  totalNotas = []\n",
        "  qtd = int(input(\"Quantas notas você quer adicionar? \"))\n",
        "  for x in range(qtd):\n",
        "    nota = float(input(f\"Entre com a {x+1}ª nota: \"))\n",
        "    while nota > 10:\n",
        "      nota = float(input(f\"As notas são até 10. Digite novamente: \"))\n",
        "    totalNotas.append(nota)\n",
        "  total = sum(totalNotas[:])\n",
        "  media = total/qtd\n",
        "  return (media)\n",
        "\n",
        "def conceito(media):\n",
        "  if media >= 9 and media <= 10:\n",
        "    conceito = 'A'\n",
        "    return (conceito)\n",
        "  elif media >= 7 and media < 9:\n",
        "    conceito = 'B'\n",
        "    return (conceito)\n",
        "  elif media >= 6 and media < 7:\n",
        "    conceito = 'C'\n",
        "    return (conceito)\n",
        "  elif media < 6:\n",
        "    conceito = 'D'\n",
        "    return (conceito)\n",
        "\n",
        "media = calculoMedia()\n",
        "conceito = conceito(media)\n",
        "\n",
        "print(f\"A média do aluno foi {media:.2f} e seu conceito é {conceito}.\")\n"
      ],
      "execution_count": null,
      "outputs": [
        {
          "output_type": "stream",
          "text": [
            "Quantas notas você quer adicionar? 5\n",
            "Entre com a 1ª nota: 9\n",
            "Entre com a 2ª nota: 8\n",
            "Entre com a 3ª nota: 5\n",
            "Entre com a 4ª nota: 8\n",
            "Entre com a 5ª nota: 9\n",
            "A média do aluno foi 7.80 e seu conceito é B.\n"
          ],
          "name": "stdout"
        }
      ]
    },
    {
      "cell_type": "markdown",
      "metadata": {
        "id": "aOZUxbs5x1_A"
      },
      "source": [
        "# **Folha de Pagamento**"
      ]
    },
    {
      "cell_type": "code",
      "metadata": {
        "colab": {
          "base_uri": "https://localhost:8080/"
        },
        "id": "Vkb0zgS_x8iJ",
        "outputId": "d756c830-0634-4eb4-e156-3a80293fb574"
      },
      "source": [
        "def calculoFGTS(salario): # função para calcular o FGTS\n",
        "  fgts = salario * 0.08\n",
        "  return (fgts)\n",
        "\n",
        "def calculoINSS(salario): # função para calcular o INSS\n",
        "  if (salario <= 1100.00):\n",
        "    inss = salario * 0.075\n",
        "    return (inss)\n",
        "  elif (salario <= 2203.48):\n",
        "    inss = salario * 0.09\n",
        "    return (inss)\n",
        "  elif (salario <= 3305.22):\n",
        "    inss = salario * 0.12\n",
        "    return (inss)\n",
        "  elif (salario <= 6433.57):\n",
        "    inss = salario * 0.14\n",
        "    return (inss)\n",
        "  elif (salario > 6433.57):\n",
        "    inss = 751.99\n",
        "    return(inss)\n",
        "\n",
        "def baseCalculo(salario, inss, pensao, dependentes): # função que calcula a base de calculo para o IRRF\n",
        "    base = salario - inss - pensao - (dependentes * 189.59)\n",
        "    return (base)    \n",
        "\n",
        "def calculoIRRF(base): # função que calcula o IRRF\n",
        "  if (base <= 1903.98):\n",
        "    irrf = 0\n",
        "    return (irrf)\n",
        "  elif (base <= 2826.65):\n",
        "    irrf = (base * 0.075) - 142.80\n",
        "    return (irrf)\n",
        "  elif (base <= 3751.05):\n",
        "    irrf = (base * 0.15) - 354.80\n",
        "    return (irrf)\n",
        "  elif (base <= 4664.68):\n",
        "    irrf = (base * 0.225) - 636.13\n",
        "    return (irrf)    \n",
        "  elif (base > 4664.68):\n",
        "    irrf = (base * 0.275) - 869.36\n",
        "    return (irrf)\n",
        "\n",
        "def totalDescontos(inss, irrf, pensao): # função que calcula todos os descontos que o funcionário teve\n",
        "  descontos = inss + irrf + pensao\n",
        "  return (descontos)\n",
        "\n",
        "def salarioLiquido(salario, descontos): # funcao que calcula o salario liquido \n",
        "  liquido = salario - descontos\n",
        "  return (liquido)\n",
        "\n",
        "\n",
        "salario = float(input(\"\\nDigite seu salário bruto: R$ \")) \n",
        "dependentes = int(input(\"\\nNúmeros de dependentes: \"))\n",
        "pensao = int(input(\"\\nPensão: R$ \"))\n",
        "\n",
        "\n",
        "base = baseCalculo(salario, inss, pensao, dependentes)\n",
        "fgts = calculoFGTS(salario)\n",
        "inss = calculoINSS(salario)\n",
        "irrf = calculoIRRF(base)\n",
        "descontos = totalDescontos(inss, irrf, pensao)\n",
        "liquido = salarioLiquido(salario, descontos)\n",
        "\n",
        "\n",
        "\n",
        "\n",
        "diagnostico = (f\"\\n\\nSalário bruto: R$ {salario:.2f} \\nSalário líquido: R$ {liquido:.2f} \\nValor do FGTS: R$ {fgts:.2f} \\n\\nTotal de descontos: R$ {descontos:.2f} \")\n",
        "diagnostico += (f\"\\n\\tValor do INSS: R$ {inss:.2f} \\n\\tValor do IRRF: R$ {irrf:.2f} \\n\\tValor da Pensão: R$ {pensao:.2f} \")\n",
        "print(diagnostico)\n"
      ],
      "execution_count": null,
      "outputs": [
        {
          "output_type": "stream",
          "text": [
            "\n",
            "Digite seu salário bruto: R$ 1000\n",
            "\n",
            "Números de dependentes: 0\n",
            "\n",
            "Pensão: R$ 1\n",
            "\n",
            "\n",
            "Salário bruto: R$ 1000.00 \n",
            "Salário líquido: R$ 924.00 \n",
            "Valor do FGTS: R$ 80.00 \n",
            "\n",
            "Total de descontos: R$ 76.00 \n",
            "\tValor do INSS: R$ 75.00 \n",
            "\tValor do IRRF: R$ 0.00 \n",
            "\tValor da Pensão: R$ 1.00 \n"
          ],
          "name": "stdout"
        }
      ]
    },
    {
      "cell_type": "markdown",
      "metadata": {
        "id": "IGUROMmR3YBN"
      },
      "source": [
        "# **Equação do Segundo Grau**"
      ]
    },
    {
      "cell_type": "code",
      "metadata": {
        "id": "gGa0kWG93bzy",
        "colab": {
          "base_uri": "https://localhost:8080/"
        },
        "outputId": "134eb19c-465b-4889-bae3-6d37f96ad32f"
      },
      "source": [
        "def raizes(a, b, c):\n",
        "  D = (b**2 - 4*a*c)\n",
        "  x1 = (-b + D**(1/2)) / (2*a)\n",
        "  x2 = (-b - D**(1/2)) / (2*a)\n",
        "  if D < 0:\n",
        "    print(\"\\n\\nNão possui raízes reais.\")\n",
        "  else:\n",
        "    print(f\"\\n\\nValor de x1: {x1:.2f}\")\n",
        "    print(f\"\\nValor de x2: {x2:.2f}\")\n",
        "  \n",
        "\n",
        "\n",
        "while True:\n",
        "  a = float(input(\"Entre com o valor de a: \"))\n",
        "  if (a == 0):\n",
        "    break\n",
        "  b = float(input(\"Entre com o valor de b: \"))\n",
        "  c = float(input(\"Entre com o valor de c: \"))\n",
        "\n",
        "  raizes(a, b, c)\n",
        "  break"
      ],
      "execution_count": null,
      "outputs": [
        {
          "output_type": "stream",
          "text": [
            "Entre com o valor de a: 1\n",
            "Entre com o valor de b: 2\n",
            "Entre com o valor de c: -15\n",
            "\n",
            "\n",
            "Valor de x1: 3.00\n",
            "\n",
            "Valor de x2: -5.00\n"
          ],
          "name": "stdout"
        }
      ]
    },
    {
      "cell_type": "markdown",
      "metadata": {
        "id": "E4XntxGclmNB"
      },
      "source": [
        "# **Somando os números de uma lista**"
      ]
    },
    {
      "cell_type": "code",
      "metadata": {
        "colab": {
          "base_uri": "https://localhost:8080/"
        },
        "id": "DAb-FM0chl8n",
        "outputId": "eb6418d8-38f5-4354-9d5a-86cbff02b64e"
      },
      "source": [
        "#na raça\n",
        "soma = 0\n",
        "x = None\n",
        "print(\"Digite zero(0) para parar.\")\n",
        "while x != 0:\n",
        "  x = int(input(\"Informe o valor: \"))\n",
        "  soma += x  \n",
        "if x == 0:\n",
        "  print(soma)"
      ],
      "execution_count": null,
      "outputs": [
        {
          "output_type": "stream",
          "text": [
            "Informe o valor: 6\n",
            "Informe o valor: 5\n",
            "Informe o valor: 4\n",
            "Informe o valor: 1\n",
            "Informe o valor: 0\n",
            "16\n"
          ],
          "name": "stdout"
        }
      ]
    },
    {
      "cell_type": "code",
      "metadata": {
        "colab": {
          "base_uri": "https://localhost:8080/"
        },
        "id": "WN8lQAohlZO6",
        "outputId": "f923a80d-bdc4-4e48-b033-b1ef9b3530d6"
      },
      "source": [
        "#com conceito de listas\n",
        "soma = 0\n",
        "x = None # declarado como None p entrar no while\n",
        "lista = []\n",
        "while x != 0:\n",
        "  x = int(input(\"Informe o valor: \"))\n",
        "  lista.append(x)\n",
        "if x == 0:\n",
        "  soma = sum(lista[:])\n",
        "print(soma)\n",
        "print(lista)"
      ],
      "execution_count": null,
      "outputs": [
        {
          "output_type": "stream",
          "text": [
            "Informe o valor: 5\n",
            "Informe o valor: 6\n",
            "Informe o valor: 1\n",
            "Informe o valor: 8\n",
            "Informe o valor: 2\n",
            "Informe o valor: 4\n",
            "Informe o valor: 4\n",
            "Informe o valor: 0\n",
            "30\n",
            "[5, 6, 1, 8, 2, 4, 4, 0]\n"
          ],
          "name": "stdout"
        }
      ]
    },
    {
      "cell_type": "markdown",
      "metadata": {
        "id": "LnjUaWbwVFYq"
      },
      "source": [
        "# **Bomba de gasolina**"
      ]
    },
    {
      "cell_type": "code",
      "metadata": {
        "colab": {
          "base_uri": "https://localhost:8080/"
        },
        "id": "fnl3rRmAVKAb",
        "outputId": "26cad970-74e5-400f-e0f2-a7df42245ace"
      },
      "source": [
        "def gasolina(litros, precoGasolina): \n",
        "  if litros > 20: # verificando se a quantidade de litros é maior que 20 e, se for, aplica 5% de desconto no litro\n",
        "    preco *= 0.95\n",
        "    total = litros * precoGasolina\n",
        "    total = (f\"\\n\\tCombustível: Gasolina \\n\\tValor do litro: R$ {precoGasolina:.2f}\\n\\tTotal de litros abastecido: {litros} L \\n\\tValor com desconto de 5%: R$ {total:.2f}\")\n",
        "    return (total)    \n",
        "  total = litros * precoGasolina # se nao for maior que 20, o calculo é feita com o valor informado pelo usuario\n",
        "  total = (f\"\\n\\tCombustível: Gasolina \\n\\tValor do litro: R$ {precoGasolina:.2f}\\n\\tTotal de litros abastecido: {litros} L \\n\\tValor: R$  {total:.2f}\")\n",
        "  return (total)\n",
        "\n",
        "def gasolinaAditivada(litros, precoGasolina):\n",
        "  precoAditivada = precoGasolina * 1.20\n",
        "  total = precoAditivada * litros # calculo do total com o acrescimo de 20% no valor do litro \n",
        "  total = (f\"\\n\\tCombustível: Gasolina Aditivada \\n\\tValor do litro: R$ {precoAditivada:.2f}\\n\\tTotal de litros abastecido: {litros} L \\n\\tValor: R$  {total:.2f}\")\n",
        "  return (total)\n",
        "\n",
        "def etanol(litros, precoAlcool):\n",
        "  if litros > 20: # verificando se a quantidade de litros é maior que 20 e, se for, aplica 7% de desconto no litro\n",
        "    preco *= 0.93\n",
        "    total = litros * precoAlcool\n",
        "    total = (f\"\\n\\tCombustível: Álcool \\n\\tValor do litro: R$ {precoAlcool:.2f}\\n\\tTotal de litros abastecido: {litros} L \\n\\tValor com desconto de 7%: R$  {total:.2f}\")\n",
        "    return (total)    \n",
        "  total = litros * precoAlcool # se nao for maior que 20, o calculo é feita com o valor informado pelo usuario\n",
        "  total = (f\"\\n\\tCombustível: Álcool \\n\\tValor do litro: R$ {precoAlcool:.2f}\\n\\tTotal de litros abastecido: {litros} L \\n\\tValor: R$  {total:.2f}\")\n",
        "  return (total)\n",
        "\n",
        "\n",
        "\n",
        "litros = float(input(\"Quantidade de litros que foi abastecido: \"))\n",
        "precoAlcool = float(2.50)\n",
        "precoGasolina = float(3.50)\n",
        "\n",
        "\n",
        "tipoCombustivel = str(input(\"\\n\\tA - Álcool \\n\\tG - Gasolina \\n\\tTipo de combustível:  \"))\n",
        "# tudo que o usuario sera transcristo em caixa alta\n",
        "tipoCombustivel = tipoCombustivel.upper()\n",
        "if tipoCombustivel == 'ALCOOL' or tipoCombustivel == 'A':\n",
        " total = etanol(litros, precoAlcool)\n",
        "elif tipoCombustivel == 'GASOLINA' or tipoCombustivel == 'G':\n",
        "  aditivada = str(input(\"\\n\\tÉ Adivitada? \\n\\t (Sim ou Não): \"))\n",
        "  # tudo que o usuario sera transcristo em caixa alta\n",
        "  aditivada = aditivada.upper()\n",
        "  if aditivada == 'SIM' or aditivada == 'S': #se for aditivada, chama a função de aditivada\n",
        "    total = gasolinaAditivada(litros, precoGasolina)\n",
        "  else: #se nao, chama a função da gasolina comum\n",
        "    total = gasolina(litros, precoGasolina)\n",
        "\n",
        "print(total)"
      ],
      "execution_count": null,
      "outputs": [
        {
          "output_type": "stream",
          "text": [
            "Quantidade de litros que foi abastecido: 10\n",
            "\n",
            "\tA - Álcool \n",
            "\tG - Gasolina \n",
            "\tTipo de combustível:  g\n",
            "\n",
            "\tÉ Adivitada? \n",
            "\t (Sim ou Não): s\n",
            "\n",
            "\tCombustível: Gasolina Aditivada \n",
            "\tValor do litro: R$ 4.20\n",
            "\tTotal de litros abastecido: 10.0 L \n",
            "\tValor: R$  42.00\n"
          ],
          "name": "stdout"
        }
      ]
    },
    {
      "cell_type": "markdown",
      "metadata": {
        "id": "GdYizYuOIPNV"
      },
      "source": [
        "# **Empréstimo**\n"
      ]
    },
    {
      "cell_type": "code",
      "metadata": {
        "id": "LWRN0X2tIa6U",
        "colab": {
          "base_uri": "https://localhost:8080/"
        },
        "outputId": "83ad3138-1918-41fd-a219-a6bf93b69123"
      },
      "source": [
        "#calcula o total do financimanento: valor contratado + os juros\n",
        "def financiamento(prazoDoFinanciamento, parcelasDoFinanciamento):\n",
        "  totalFinanciamento = prazoDoFinanciamento * parcelasDoFinanciamento\n",
        "  return (totalFinanciamento)\n",
        "\n",
        "# calcula a porcentagem do valor total de juros\n",
        "def agio(totalFinanciamento, valorContratado):\n",
        "  diferenca = ((totalFinanciamento - valorContratado) / valorContratado) * 100\n",
        "  return (diferenca)\n",
        "\n",
        "#valida se a axa de juros está boa, e se n tiver, recomenda a renda fixa com 2% de rentabilidade ao mes\n",
        "def validar(diferenca, prazoDoFinanciamento, valorContratado):\n",
        "  percentualMensal = diferenca / prazoDoFinanciamento\n",
        "  if (percentualMensal == 0):\n",
        "    return (\"Seu financiamento não tem juros!\")\n",
        "  elif (percentualMensal > 0 and percentualMensal <= 2):\n",
        "    return (f\"Um bom empréstimo! Sua taxa de Juros Mensais está em {percentualMensal:.2f}.\")\n",
        "  elif (percentualMensal > 2):\n",
        "    rendaFixa = (valorContratado * 0.02) * prazoDoFinanciamento\n",
        "    result = (f\" Sua taxa de juros: {percentualMensal:.2f} % mensais. \\nAtenção! Sua taxa está acima de 2 %. \\n\\t Consideramos acima de 2% uma taxa muito alta!\") \n",
        "    result += (f\"\\nSe você aplicar R$ {valorContratado:.2f} no fundo de Renda Fixa, ao final do prazo de {prazoDoFinanciamento} meses, \\nseu rendimento será de R$ {rendaFixa+valorContratado:.2f}\")\n",
        "    return (result)\n",
        "\n",
        "# calcula o valor total dos juros\n",
        "def valorDoAgio(diferenca, totalFinanciamento):\n",
        "  valor = (diferenca * valorContratado) / 100\n",
        "  return (valor)\n",
        "\n",
        "valorContratado = float(input(\"Digite o valor contratado: R$ \"))\n",
        "prazoDoFinanciamento = int(input(\"Digite o prazo do financiamento(Meses): \"))\n",
        "parcelasDoFinanciamento = int(input(\"Digite o valor das parcelas do financiamento: R$ \"))\n",
        "\n",
        "totalFinanciamento = financiamento(prazoDoFinanciamento, parcelasDoFinanciamento)\n",
        "diferenca = agio(totalFinanciamento, valorContratado)\n",
        "validacao = validar(diferenca, prazoDoFinanciamento, valorContratado)\n",
        "valor = valorDoAgio(diferenca, totalFinanciamento)\n",
        "\n",
        "\n",
        "print(f\"\\n\\nTotal do financiamento: R$ {totalFinanciamento:.2f}.\")\n",
        "print(f\"Juros a ser pago: R$ {valor:.2f}\")\n",
        "print(f\"Percentual de Juros Total sobre o valor contratado: {diferenca:.2f} %\")\n",
        "print(validacao)\n",
        "\n"
      ],
      "execution_count": null,
      "outputs": [
        {
          "output_type": "stream",
          "text": [
            "Digite o valor contratado: R$ 1000\n",
            "Digite o prazo do financiamento(Meses): 10\n",
            "Digite o valor das parcelas do financiamento: R$ 130\n",
            "\n",
            "\n",
            "Total do financiamento: R$ 1300.00.\n",
            "Juros a ser pago: R$ 300.00\n",
            "Percentual de Juros Total sobre o valor contratado: 30.00 %\n",
            " Sua taxa de juros: 3.00 % mensais. \n",
            "Atenção! Sua taxa está acima de 2 %. \n",
            "\t Consideramos acima de 2% uma taxa muito alta!\n",
            "Se você aplicar R$ 1000.00 no fundo de Renda Fixa, ao final do prazo de 10 meses, \n",
            "seu rendimento será de R$ 1200.00\n"
          ],
          "name": "stdout"
        }
      ]
    },
    {
      "cell_type": "markdown",
      "metadata": {
        "id": "47bgCsyAJeUk"
      },
      "source": [
        "# **Intervalos [0-25], [26-50], [51-75] e [76-100]**"
      ]
    },
    {
      "cell_type": "code",
      "metadata": {
        "colab": {
          "base_uri": "https://localhost:8080/"
        },
        "id": "f01vO6w0Jk6W",
        "outputId": "beaa5bc2-5b04-4858-ef64-864bfeb84dac"
      },
      "source": [
        "numero = 0\n",
        "intervalo = [0, 0, 0, 0]\n",
        "print(\"Digite um número negativo para parar.\\n\")\n",
        "while (numero >= 0):\n",
        "  numero = int(input(\"Digite um número: \"))\n",
        "  if (numero >= 0):\n",
        "    if (numero <= 25):\n",
        "      intervalo[0] = intervalo[0] + 1\n",
        "    elif (numero <= 50):\n",
        "      intervalo[1] = intervalo[1] + 1\n",
        "    elif (numero <= 75):\n",
        "     intervalo[2] = intervalo[2] + 1\n",
        "    elif (numero <= 100):\n",
        "     intervalo[3] = intervalo[3] + 1\n",
        "\n",
        "print(\"Quantidade de números no intervalo [0-25]:\", intervalo[0])\n",
        "print(\"Quantidade de números no intervalo [26-50]:\", intervalo[1])\n",
        "print(\"Quantidade de números no intervalo [51-75]:\", intervalo[2])\n",
        "print(\"Quantidade de números no intervalo [76-100]:\", intervalo[3])\n"
      ],
      "execution_count": null,
      "outputs": [
        {
          "output_type": "stream",
          "text": [
            "Digite um número negativo para parar.\n",
            "\n",
            "Digite um número: 1\n",
            "Digite um número: 2\n",
            "Digite um número: 3\n",
            "Digite um número: 26\n",
            "Digite um número: 50\n",
            "Digite um número: 51\n",
            "Digite um número: 75\n",
            "Digite um número: 76\n",
            "Digite um número: 100\n",
            "Digite um número: -1\n",
            "Quantidade de números no intervalo [0-25]: 3\n",
            "Quantidade de números no intervalo [26-50]: 2\n",
            "Quantidade de números no intervalo [51-75]: 2\n",
            "Quantidade de números no intervalo [76-100]: 2\n"
          ],
          "name": "stdout"
        }
      ]
    },
    {
      "cell_type": "markdown",
      "metadata": {
        "id": "9ab2AZoSJlKc"
      },
      "source": [
        "# **Eleição municipal**"
      ]
    },
    {
      "cell_type": "code",
      "metadata": {
        "id": "v9Q-OUQ0JocH",
        "colab": {
          "base_uri": "https://localhost:8080/",
          "height": 697
        },
        "outputId": "18bfa88e-8600-4631-9db1-9efa59913d7d"
      },
      "source": [
        "t = ('Marcelo ', 'Marcia  ', 'Joaquim', 'Valter  ', 'Branco  ', 'Nulo    ')\n",
        "d = {t[0]: 0, t[1]: 0, t[2]: 0, t[3]: 0, t[4]: 0, t[5]: 0}\n",
        "\n",
        "print(\"\\nMarcelo    15\\nMarcia     13\\nJoaquim    55\\nValter     21\\nBranco     00\\nNulo       99\\n\")\n",
        "for i in range(5):\n",
        "    voto = int(input('Informe o número do seu candidato: '))\n",
        "   \n",
        "    if voto == 15:  \n",
        "      d[t[0]] += 1\n",
        "    elif voto == 13: \n",
        "      d[t[1]] += 1\n",
        "    elif voto == 21:\n",
        "      d[t[2]] += 1\n",
        "    elif voto == 55: \n",
        "      d[t[3]] += 1\n",
        "    elif voto == 0: \n",
        "      d[t[4]] += 1\n",
        "    else: \n",
        "      d[t[5]] += 1"
      ],
      "execution_count": null,
      "outputs": [
        {
          "output_type": "stream",
          "text": [
            "\n",
            "Marcelo    15\n",
            "Marcia     13\n",
            "Joaquim    55\n",
            "Valter     21\n",
            "Branco     00\n",
            "Nulo       99\n",
            "\n"
          ],
          "name": "stdout"
        },
        {
          "output_type": "error",
          "ename": "KeyboardInterrupt",
          "evalue": "ignored",
          "traceback": [
            "\u001b[0;31m---------------------------------------------------------------------------\u001b[0m",
            "\u001b[0;31mKeyboardInterrupt\u001b[0m                         Traceback (most recent call last)",
            "\u001b[0;32m/usr/local/lib/python3.7/dist-packages/ipykernel/kernelbase.py\u001b[0m in \u001b[0;36m_input_request\u001b[0;34m(self, prompt, ident, parent, password)\u001b[0m\n\u001b[1;32m    728\u001b[0m             \u001b[0;32mtry\u001b[0m\u001b[0;34m:\u001b[0m\u001b[0;34m\u001b[0m\u001b[0;34m\u001b[0m\u001b[0m\n\u001b[0;32m--> 729\u001b[0;31m                 \u001b[0mident\u001b[0m\u001b[0;34m,\u001b[0m \u001b[0mreply\u001b[0m \u001b[0;34m=\u001b[0m \u001b[0mself\u001b[0m\u001b[0;34m.\u001b[0m\u001b[0msession\u001b[0m\u001b[0;34m.\u001b[0m\u001b[0mrecv\u001b[0m\u001b[0;34m(\u001b[0m\u001b[0mself\u001b[0m\u001b[0;34m.\u001b[0m\u001b[0mstdin_socket\u001b[0m\u001b[0;34m,\u001b[0m \u001b[0;36m0\u001b[0m\u001b[0;34m)\u001b[0m\u001b[0;34m\u001b[0m\u001b[0;34m\u001b[0m\u001b[0m\n\u001b[0m\u001b[1;32m    730\u001b[0m             \u001b[0;32mexcept\u001b[0m \u001b[0mException\u001b[0m\u001b[0;34m:\u001b[0m\u001b[0;34m\u001b[0m\u001b[0;34m\u001b[0m\u001b[0m\n",
            "\u001b[0;32m/usr/local/lib/python3.7/dist-packages/jupyter_client/session.py\u001b[0m in \u001b[0;36mrecv\u001b[0;34m(self, socket, mode, content, copy)\u001b[0m\n\u001b[1;32m    802\u001b[0m         \u001b[0;32mtry\u001b[0m\u001b[0;34m:\u001b[0m\u001b[0;34m\u001b[0m\u001b[0;34m\u001b[0m\u001b[0m\n\u001b[0;32m--> 803\u001b[0;31m             \u001b[0mmsg_list\u001b[0m \u001b[0;34m=\u001b[0m \u001b[0msocket\u001b[0m\u001b[0;34m.\u001b[0m\u001b[0mrecv_multipart\u001b[0m\u001b[0;34m(\u001b[0m\u001b[0mmode\u001b[0m\u001b[0;34m,\u001b[0m \u001b[0mcopy\u001b[0m\u001b[0;34m=\u001b[0m\u001b[0mcopy\u001b[0m\u001b[0;34m)\u001b[0m\u001b[0;34m\u001b[0m\u001b[0;34m\u001b[0m\u001b[0m\n\u001b[0m\u001b[1;32m    804\u001b[0m         \u001b[0;32mexcept\u001b[0m \u001b[0mzmq\u001b[0m\u001b[0;34m.\u001b[0m\u001b[0mZMQError\u001b[0m \u001b[0;32mas\u001b[0m \u001b[0me\u001b[0m\u001b[0;34m:\u001b[0m\u001b[0;34m\u001b[0m\u001b[0;34m\u001b[0m\u001b[0m\n",
            "\u001b[0;32m/usr/local/lib/python3.7/dist-packages/zmq/sugar/socket.py\u001b[0m in \u001b[0;36mrecv_multipart\u001b[0;34m(self, flags, copy, track)\u001b[0m\n\u001b[1;32m    582\u001b[0m         \"\"\"\n\u001b[0;32m--> 583\u001b[0;31m         \u001b[0mparts\u001b[0m \u001b[0;34m=\u001b[0m \u001b[0;34m[\u001b[0m\u001b[0mself\u001b[0m\u001b[0;34m.\u001b[0m\u001b[0mrecv\u001b[0m\u001b[0;34m(\u001b[0m\u001b[0mflags\u001b[0m\u001b[0;34m,\u001b[0m \u001b[0mcopy\u001b[0m\u001b[0;34m=\u001b[0m\u001b[0mcopy\u001b[0m\u001b[0;34m,\u001b[0m \u001b[0mtrack\u001b[0m\u001b[0;34m=\u001b[0m\u001b[0mtrack\u001b[0m\u001b[0;34m)\u001b[0m\u001b[0;34m]\u001b[0m\u001b[0;34m\u001b[0m\u001b[0;34m\u001b[0m\u001b[0m\n\u001b[0m\u001b[1;32m    584\u001b[0m         \u001b[0;31m# have first part already, only loop while more to receive\u001b[0m\u001b[0;34m\u001b[0m\u001b[0;34m\u001b[0m\u001b[0;34m\u001b[0m\u001b[0m\n",
            "\u001b[0;32mzmq/backend/cython/socket.pyx\u001b[0m in \u001b[0;36mzmq.backend.cython.socket.Socket.recv\u001b[0;34m()\u001b[0m\n",
            "\u001b[0;32mzmq/backend/cython/socket.pyx\u001b[0m in \u001b[0;36mzmq.backend.cython.socket.Socket.recv\u001b[0;34m()\u001b[0m\n",
            "\u001b[0;32mzmq/backend/cython/socket.pyx\u001b[0m in \u001b[0;36mzmq.backend.cython.socket._recv_copy\u001b[0;34m()\u001b[0m\n",
            "\u001b[0;32m/usr/local/lib/python3.7/dist-packages/zmq/backend/cython/checkrc.pxd\u001b[0m in \u001b[0;36mzmq.backend.cython.checkrc._check_rc\u001b[0;34m()\u001b[0m\n",
            "\u001b[0;31mKeyboardInterrupt\u001b[0m: ",
            "\nDuring handling of the above exception, another exception occurred:\n",
            "\u001b[0;31mKeyboardInterrupt\u001b[0m                         Traceback (most recent call last)",
            "\u001b[0;32m<ipython-input-64-77542a377e0d>\u001b[0m in \u001b[0;36m<module>\u001b[0;34m()\u001b[0m\n\u001b[1;32m      6\u001b[0m \u001b[0mprint\u001b[0m\u001b[0;34m(\u001b[0m\u001b[0;34m\"\\nMarcelo    15\\nMarcia     13\\nJoaquim    55\\nValter     21\\nBranco     00\\nNulo       99\\n\"\u001b[0m\u001b[0;34m)\u001b[0m\u001b[0;34m\u001b[0m\u001b[0;34m\u001b[0m\u001b[0m\n\u001b[1;32m      7\u001b[0m \u001b[0;32mfor\u001b[0m \u001b[0mi\u001b[0m \u001b[0;32min\u001b[0m \u001b[0mrange\u001b[0m\u001b[0;34m(\u001b[0m\u001b[0;36m5\u001b[0m\u001b[0;34m)\u001b[0m\u001b[0;34m:\u001b[0m\u001b[0;34m\u001b[0m\u001b[0;34m\u001b[0m\u001b[0m\n\u001b[0;32m----> 8\u001b[0;31m     \u001b[0mvoto\u001b[0m \u001b[0;34m=\u001b[0m \u001b[0mint\u001b[0m\u001b[0;34m(\u001b[0m\u001b[0minput\u001b[0m\u001b[0;34m(\u001b[0m\u001b[0;34m'Informe o número do seu candidato: '\u001b[0m\u001b[0;34m)\u001b[0m\u001b[0;34m)\u001b[0m\u001b[0;34m\u001b[0m\u001b[0;34m\u001b[0m\u001b[0m\n\u001b[0m\u001b[1;32m      9\u001b[0m \u001b[0;34m\u001b[0m\u001b[0m\n\u001b[1;32m     10\u001b[0m     \u001b[0;32mif\u001b[0m \u001b[0mvoto\u001b[0m \u001b[0;34m==\u001b[0m \u001b[0;36m15\u001b[0m\u001b[0;34m:\u001b[0m\u001b[0;34m\u001b[0m\u001b[0;34m\u001b[0m\u001b[0m\n",
            "\u001b[0;32m/usr/local/lib/python3.7/dist-packages/ipykernel/kernelbase.py\u001b[0m in \u001b[0;36mraw_input\u001b[0;34m(self, prompt)\u001b[0m\n\u001b[1;32m    702\u001b[0m             \u001b[0mself\u001b[0m\u001b[0;34m.\u001b[0m\u001b[0m_parent_ident\u001b[0m\u001b[0;34m,\u001b[0m\u001b[0;34m\u001b[0m\u001b[0;34m\u001b[0m\u001b[0m\n\u001b[1;32m    703\u001b[0m             \u001b[0mself\u001b[0m\u001b[0;34m.\u001b[0m\u001b[0m_parent_header\u001b[0m\u001b[0;34m,\u001b[0m\u001b[0;34m\u001b[0m\u001b[0;34m\u001b[0m\u001b[0m\n\u001b[0;32m--> 704\u001b[0;31m             \u001b[0mpassword\u001b[0m\u001b[0;34m=\u001b[0m\u001b[0;32mFalse\u001b[0m\u001b[0;34m,\u001b[0m\u001b[0;34m\u001b[0m\u001b[0;34m\u001b[0m\u001b[0m\n\u001b[0m\u001b[1;32m    705\u001b[0m         )\n\u001b[1;32m    706\u001b[0m \u001b[0;34m\u001b[0m\u001b[0m\n",
            "\u001b[0;32m/usr/local/lib/python3.7/dist-packages/ipykernel/kernelbase.py\u001b[0m in \u001b[0;36m_input_request\u001b[0;34m(self, prompt, ident, parent, password)\u001b[0m\n\u001b[1;32m    732\u001b[0m             \u001b[0;32mexcept\u001b[0m \u001b[0mKeyboardInterrupt\u001b[0m\u001b[0;34m:\u001b[0m\u001b[0;34m\u001b[0m\u001b[0;34m\u001b[0m\u001b[0m\n\u001b[1;32m    733\u001b[0m                 \u001b[0;31m# re-raise KeyboardInterrupt, to truncate traceback\u001b[0m\u001b[0;34m\u001b[0m\u001b[0;34m\u001b[0m\u001b[0;34m\u001b[0m\u001b[0m\n\u001b[0;32m--> 734\u001b[0;31m                 \u001b[0;32mraise\u001b[0m \u001b[0mKeyboardInterrupt\u001b[0m\u001b[0;34m\u001b[0m\u001b[0;34m\u001b[0m\u001b[0m\n\u001b[0m\u001b[1;32m    735\u001b[0m             \u001b[0;32melse\u001b[0m\u001b[0;34m:\u001b[0m\u001b[0;34m\u001b[0m\u001b[0;34m\u001b[0m\u001b[0m\n\u001b[1;32m    736\u001b[0m                 \u001b[0;32mbreak\u001b[0m\u001b[0;34m\u001b[0m\u001b[0;34m\u001b[0m\u001b[0m\n",
            "\u001b[0;31mKeyboardInterrupt\u001b[0m: "
          ]
        }
      ]
    },
    {
      "cell_type": "code",
      "metadata": {
        "id": "ySkv0XN-Qxef"
      },
      "source": [
        ""
      ],
      "execution_count": null,
      "outputs": []
    },
    {
      "cell_type": "code",
      "metadata": {
        "id": "hRD24rVuSIX_"
      },
      "source": [
        "#Percentual do candidato = ((num. votos candidato) / (total de votos - num. votos nulos))*100\n",
        "#tive dificuldade em desenvolver a questao\n",
        "#tentei implementar o conceito de dicionario e tuplas\n",
        "\n",
        "t = ('Marcelo ', 'Marcia  ', 'Joaquim', 'Valter  ', 'Branco  ', 'Nulo    ')\n",
        "d = {t[0]: 0, t[1]: 0, t[2]: 0, t[3]: 0, t[4]: 0, t[5]: 0}\n",
        "\n",
        "print(\"\\nMarcelo    15\\nMarcia     13\\nJoaquim    55\\nValter     21\\nBranco     00\\nNulo       99\\n\")\n",
        "for i in range(5):\n",
        "    voto = int(input('Informe o número do seu candidato: '))\n",
        "   \n",
        "    if voto == 15:  \n",
        "      d[t[0]] += 1\n",
        "    elif voto == 13: \n",
        "      d[t[1]] += 1\n",
        "    elif voto == 21:\n",
        "      d[t[2]] += 1\n",
        "    elif voto == 55: \n",
        "      d[t[3]] += 1\n",
        "    elif voto == 0: \n",
        "      d[t[4]] += 1\n",
        "    else: \n",
        "      d[t[5]] += 1"
      ],
      "execution_count": null,
      "outputs": []
    }
  ]
}