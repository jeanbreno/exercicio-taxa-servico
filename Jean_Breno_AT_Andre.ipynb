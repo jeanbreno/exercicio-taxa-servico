{
  "nbformat": 4,
  "nbformat_minor": 0,
  "metadata": {
    "colab": {
      "name": "Jean_Breno_AT_Andre.ipynb",
      "provenance": [],
      "collapsed_sections": [],
      "mount_file_id": "1dLxmOSNYAiDE8tP30NtjAr-3WqVNrepl",
      "authorship_tag": "ABX9TyOPla4K/3sPUuGjtqAuhSzf",
      "include_colab_link": true
    },
    "kernelspec": {
      "name": "python3",
      "display_name": "Python 3"
    }
  },
  "cells": [
    {
      "cell_type": "markdown",
      "metadata": {
        "id": "view-in-github",
        "colab_type": "text"
      },
      "source": [
        "<a href=\"https://colab.research.google.com/github/jeanbreno/pb-arquitetura-comp-redes-so/blob/main/Jean_Breno_AT_Andre.ipynb\" target=\"_parent\"><img src=\"https://colab.research.google.com/assets/colab-badge.svg\" alt=\"Open In Colab\"/></a>"
      ]
    },
    {
      "cell_type": "markdown",
      "metadata": {
        "id": "sikThjAR8C76"
      },
      "source": [
        "# **INSTITUTO INFNET**\n",
        "##ALUNO: JEAN BRENO LIMA DE OLIVEIRA\n",
        "##CURSO: ENGENHARIA DE SOFTWARE\n",
        "###EMAIL: jean.oliveira@al.infnet.edu.br\n",
        "---\n",
        "FUNDAMENTOS DE DESENVOLVIMENTO PYTHON\n",
        "* AT\n",
        "\n",
        "PROFESSOR ANDRÉ VICTOR\n",
        "\n",
        "---\n",
        "\n",
        "---\n"
      ]
    },
    {
      "cell_type": "markdown",
      "metadata": {
        "id": "M14r54mbst6g"
      },
      "source": [
        "# **Moodle**"
      ]
    },
    {
      "cell_type": "markdown",
      "metadata": {
        "id": "0HXn3V8hsrxU"
      },
      "source": [
        "## **1 - Tupla e ordem crescente**"
      ]
    },
    {
      "cell_type": "code",
      "metadata": {
        "colab": {
          "base_uri": "https://localhost:8080/"
        },
        "id": "KrIYanDDsnJP",
        "outputId": "0f4cdd6d-24f9-4516-d778-806f5d31d311"
      },
      "source": [
        "numeros_inteiros = (5,4,7)\n",
        "print(sorted(numeros_inteiros))"
      ],
      "execution_count": null,
      "outputs": [
        {
          "output_type": "stream",
          "text": [
            "[4, 5, 7]\n"
          ],
          "name": "stdout"
        }
      ]
    },
    {
      "cell_type": "markdown",
      "metadata": {
        "id": "UFa9m9gxtUZB"
      },
      "source": [
        "## **2 - Soma de números pares**"
      ]
    },
    {
      "cell_type": "code",
      "metadata": {
        "colab": {
          "base_uri": "https://localhost:8080/"
        },
        "id": "OtKoCc3ntb8t",
        "outputId": "2b0b92c4-4e73-4d4e-cbf0-c38f6998c2ee"
      },
      "source": [
        "numero = int(input(\"Digite o número de termos: \"))\n",
        "soma = 0\n",
        "n_par = []\n",
        "for i in range(1, numero + 1):\n",
        "    if i % 2 == 0:\n",
        "      soma += i\n",
        "      n_par.append(i)\n",
        "print(f\"A soma dos números pares até {numero} é: {soma}.\")\n",
        "print(f\"Números pares até {numero}: {n_par}.\")"
      ],
      "execution_count": null,
      "outputs": [
        {
          "output_type": "stream",
          "text": [
            "Digite o número de termos: 10\n",
            "A soma dos números pares até 10 é: 30.\n",
            "Números pares até 10: [2, 4, 6, 8, 10].\n"
          ],
          "name": "stdout"
        }
      ]
    },
    {
      "cell_type": "markdown",
      "metadata": {
        "id": "yU_CDHfvxBBB"
      },
      "source": [
        "## **3 - Potencia**"
      ]
    },
    {
      "cell_type": "code",
      "metadata": {
        "id": "OhbxnpDLxEAd"
      },
      "source": [
        "def potencia(A, B):\n",
        "  if (A == 0):\n",
        "    return 0\n",
        "  elif (B == 1):\n",
        "    return A\n",
        "  elif (B == 0):\n",
        "    return 1\n",
        "  elif (B < 0):\n",
        "    exp_menor_qzero = \"Expoente negativo.\"\n",
        "    return exp_menor_qzero\n",
        "  else:\n",
        "    total = 1\n",
        "    for i in range(B):\n",
        "      total = total * A\n",
        "    return total"
      ],
      "execution_count": null,
      "outputs": []
    },
    {
      "cell_type": "code",
      "metadata": {
        "colab": {
          "base_uri": "https://localhost:8080/"
        },
        "id": "2FWgq4muI76G",
        "outputId": "d06c20d2-bdcc-4dea-c5ca-85a7cbe26ec7"
      },
      "source": [
        "base = int(input(\"Digite o valor para base: \"))\n",
        "expoente = int(input(\"Digite o valor para o expoente: \"))\n",
        "resultado_potencia = potencia(base, expoente)\n",
        "print(f\"O resultado de {base} elevado ao expoente {expoente} é: {resultado_potencia}.\")"
      ],
      "execution_count": null,
      "outputs": [
        {
          "output_type": "stream",
          "text": [
            "Digite o valor para base: 2\n",
            "Digite o valor para o expoente: 7\n",
            "O resultado de 2 elevado ao expoente 7 é: 128.\n"
          ],
          "name": "stdout"
        }
      ]
    },
    {
      "cell_type": "code",
      "metadata": {
        "colab": {
          "base_uri": "https://localhost:8080/"
        },
        "id": "fgcdyO90zvG6",
        "outputId": "a57bdf93-cbe1-4e9a-bdb1-bfe5a5631000"
      },
      "source": [
        "potencia(0,2)"
      ],
      "execution_count": null,
      "outputs": [
        {
          "output_type": "execute_result",
          "data": {
            "text/plain": [
              "0"
            ]
          },
          "metadata": {
            "tags": []
          },
          "execution_count": 31
        }
      ]
    },
    {
      "cell_type": "code",
      "metadata": {
        "colab": {
          "base_uri": "https://localhost:8080/"
        },
        "id": "10gkBPPdzrHk",
        "outputId": "f6cd13d6-b257-44e8-dcee-36395341f7d9"
      },
      "source": [
        "potencia(8,1)"
      ],
      "execution_count": null,
      "outputs": [
        {
          "output_type": "execute_result",
          "data": {
            "text/plain": [
              "8"
            ]
          },
          "metadata": {
            "tags": []
          },
          "execution_count": 32
        }
      ]
    },
    {
      "cell_type": "code",
      "metadata": {
        "colab": {
          "base_uri": "https://localhost:8080/"
        },
        "id": "r8TkeKIqz6Zh",
        "outputId": "5b99e3e5-ecd8-4dd2-f41c-631cc4c499a2"
      },
      "source": [
        "potencia(8,0)"
      ],
      "execution_count": null,
      "outputs": [
        {
          "output_type": "execute_result",
          "data": {
            "text/plain": [
              "1"
            ]
          },
          "metadata": {
            "tags": []
          },
          "execution_count": 33
        }
      ]
    },
    {
      "cell_type": "code",
      "metadata": {
        "colab": {
          "base_uri": "https://localhost:8080/",
          "height": 35
        },
        "id": "zdl6vh_pzrSB",
        "outputId": "c59bbb51-5ead-45e3-aa62-5d2dabd33ff8"
      },
      "source": [
        "potencia(8,-1)"
      ],
      "execution_count": null,
      "outputs": [
        {
          "output_type": "execute_result",
          "data": {
            "application/vnd.google.colaboratory.intrinsic+json": {
              "type": "string"
            },
            "text/plain": [
              "'Expoente negativo.'"
            ]
          },
          "metadata": {
            "tags": []
          },
          "execution_count": 34
        }
      ]
    },
    {
      "cell_type": "code",
      "metadata": {
        "colab": {
          "base_uri": "https://localhost:8080/"
        },
        "id": "rzndcfpUyj7D",
        "outputId": "4f7cdf63-eb6f-44b7-8d12-0edcc670cb08"
      },
      "source": [
        "potencia(8,2)"
      ],
      "execution_count": null,
      "outputs": [
        {
          "output_type": "execute_result",
          "data": {
            "text/plain": [
              "64"
            ]
          },
          "metadata": {
            "tags": []
          },
          "execution_count": 37
        }
      ]
    },
    {
      "cell_type": "markdown",
      "metadata": {
        "id": "XlCNdNP-KFcB"
      },
      "source": [
        "## **4 - Invertendo um Vetor**"
      ]
    },
    {
      "cell_type": "code",
      "metadata": {
        "id": "XRgqwVvmKJjf"
      },
      "source": [
        "import random"
      ],
      "execution_count": null,
      "outputs": []
    },
    {
      "cell_type": "code",
      "metadata": {
        "colab": {
          "base_uri": "https://localhost:8080/"
        },
        "id": "tja-xTJHK_mH",
        "outputId": "5b6ed7b0-874e-4d2e-eb61-186ddf631541"
      },
      "source": [
        "vetor_q4 = []\n",
        "for i in range(1, 6):\n",
        "  elemento_q4 = random.randrange(50)\n",
        "  vetor_q4.append(elemento_q4)\n",
        "\n",
        "print(f\"Lista original: {vetor_q4}\")\n",
        "vetor_q4.reverse()\n",
        "print(f\"Lista invertida: {vetor_q4}\")\n",
        "\n"
      ],
      "execution_count": null,
      "outputs": [
        {
          "output_type": "stream",
          "text": [
            "Lista original: [44, 38, 13, 37, 7]\n",
            "Lista invertida: [7, 37, 13, 38, 44]\n"
          ],
          "name": "stdout"
        }
      ]
    },
    {
      "cell_type": "markdown",
      "metadata": {
        "id": "TMCpmBqcPfm7"
      },
      "source": [
        "## **6 - Tupla pares e ímpares**"
      ]
    },
    {
      "cell_type": "code",
      "metadata": {
        "id": "oRZcwl1dPqcj"
      },
      "source": [
        "import random"
      ],
      "execution_count": null,
      "outputs": []
    },
    {
      "cell_type": "code",
      "metadata": {
        "id": "uhxov7zjP0pD"
      },
      "source": [
        "def separador_pares_impares():\n",
        "  lista_q6 = []\n",
        "  lista_impares = []\n",
        "  lista_pares = []\n",
        "  lista_indice_pares = []\n",
        "  for j in range(10):\n",
        "    elemento_q6 = random.randrange(40)\n",
        "    lista_q6.append(elemento_q6)\n",
        "    if elemento_q6 % 2 != 0:\n",
        "      lista_impares.append(elemento_q6)\n",
        "    else:\n",
        "      lista_pares.append(elemento_q6)\n",
        "      indice_pares = lista_q6.index(elemento_q6)\n",
        "      lista_indice_pares.append(indice_pares)\n",
        "\n",
        "  resultado_q6 = f\"Lista original: {lista_q6}\\n\"  \n",
        "  resultado_q6 += f\"Lista dos números ímpares: {lista_impares}\\n\"\n",
        "  resultado_q6 += f\"Lista com os números pares: {lista_pares}\\n\"\n",
        "  resultado_q6 += f\"Tupla com os índices dos números pares: {tuple(lista_indice_pares)}\\n\"\n",
        "  print(resultado_q6)\n"
      ],
      "execution_count": null,
      "outputs": []
    },
    {
      "cell_type": "code",
      "metadata": {
        "colab": {
          "base_uri": "https://localhost:8080/"
        },
        "id": "iM5V9NWaQvF4",
        "outputId": "a604f3da-9a4f-4913-e4b5-914d485c001b"
      },
      "source": [
        "separador_pares_impares()"
      ],
      "execution_count": null,
      "outputs": [
        {
          "output_type": "stream",
          "text": [
            "Lista original: [7, 9, 1, 14, 3, 35, 10, 38, 36, 1]\n",
            "Lista dos números ímpares: [7, 9, 1, 3, 35, 1]\n",
            "Lista com os números pares: [14, 10, 38, 36]\n",
            "Tupla com os índices dos números pares: (3, 6, 7, 8)\n",
            "\n"
          ],
          "name": "stdout"
        }
      ]
    },
    {
      "cell_type": "markdown",
      "metadata": {
        "id": "G2pCgVUEXT2O"
      },
      "source": [
        "# **Análise de Dados**\n",
        "\n",
        "\n",
        "> Carregue o dataset Video_Games_Sales_as_at_22_Dec_2016.csv que contém as vendas de games em todo mundo\n",
        "\n",
        "Dataset disponível em https://www.kaggle.com/sidtwr/videogames-sales-dataset?select=Video_Games_Sales_as_at_22_Dec_2016.csv\n",
        "\n",
        "---\n",
        "\n",
        "\n"
      ]
    },
    {
      "cell_type": "code",
      "metadata": {
        "id": "6gIEt3ltZTZH"
      },
      "source": [
        "import pandas as pd"
      ],
      "execution_count": null,
      "outputs": []
    },
    {
      "cell_type": "code",
      "metadata": {
        "colab": {
          "base_uri": "https://localhost:8080/"
        },
        "id": "8WGict4OgAf4",
        "outputId": "89fc4f7a-b69d-4236-eb8b-03cb14845d8c"
      },
      "source": [
        "from google.colab import drive\n",
        "drive.mount('/content/drive')"
      ],
      "execution_count": null,
      "outputs": [
        {
          "output_type": "stream",
          "text": [
            "Drive already mounted at /content/drive; to attempt to forcibly remount, call drive.mount(\"/content/drive\", force_remount=True).\n"
          ],
          "name": "stdout"
        }
      ]
    },
    {
      "cell_type": "code",
      "metadata": {
        "id": "3eHbI98ygDj2"
      },
      "source": [
        "import os\n",
        "os.chdir(\"/content/drive/MyDrive/AT - Fundamentos Python\")"
      ],
      "execution_count": null,
      "outputs": []
    },
    {
      "cell_type": "code",
      "metadata": {
        "colab": {
          "base_uri": "https://localhost:8080/"
        },
        "id": "Ol-gW0TUgQvv",
        "outputId": "2ec57671-1357-49af-f9a6-ad19029a0e5b"
      },
      "source": [
        "!ls -la"
      ],
      "execution_count": null,
      "outputs": [
        {
          "output_type": "stream",
          "text": [
            "total 1706\n",
            "-rw------- 1 root root   26654 Jun 22 03:01 Jean_Breno_AT.ipynb\n",
            "-rw------- 1 root root   67304 Oct 23  2019 PS4_GamesSales.csv\n",
            "-rw------- 1 root root 1610764 Jun 22 02:12 Video_Games_Sales_as_at_22_Dec_2016.csv\n",
            "-rw------- 1 root root   40876 Oct 23  2019 XboxOne_GameSales.csv\n"
          ],
          "name": "stdout"
        }
      ]
    },
    {
      "cell_type": "code",
      "metadata": {
        "colab": {
          "base_uri": "https://localhost:8080/",
          "height": 609
        },
        "id": "MO2BHuN8gV99",
        "outputId": "671d5e88-681f-457e-f85a-d6ed9bd14b99"
      },
      "source": [
        "video_games = pd.read_csv('Video_Games_Sales_as_at_22_Dec_2016.csv')\n",
        "video_games"
      ],
      "execution_count": null,
      "outputs": [
        {
          "output_type": "execute_result",
          "data": {
            "text/html": [
              "<div>\n",
              "<style scoped>\n",
              "    .dataframe tbody tr th:only-of-type {\n",
              "        vertical-align: middle;\n",
              "    }\n",
              "\n",
              "    .dataframe tbody tr th {\n",
              "        vertical-align: top;\n",
              "    }\n",
              "\n",
              "    .dataframe thead th {\n",
              "        text-align: right;\n",
              "    }\n",
              "</style>\n",
              "<table border=\"1\" class=\"dataframe\">\n",
              "  <thead>\n",
              "    <tr style=\"text-align: right;\">\n",
              "      <th></th>\n",
              "      <th>Name</th>\n",
              "      <th>Platform</th>\n",
              "      <th>Year_of_Release</th>\n",
              "      <th>Genre</th>\n",
              "      <th>Publisher</th>\n",
              "      <th>NA_Sales</th>\n",
              "      <th>EU_Sales</th>\n",
              "      <th>JP_Sales</th>\n",
              "      <th>Other_Sales</th>\n",
              "      <th>Global_Sales</th>\n",
              "      <th>Critic_Score</th>\n",
              "      <th>Critic_Count</th>\n",
              "      <th>User_Score</th>\n",
              "      <th>User_Count</th>\n",
              "      <th>Developer</th>\n",
              "      <th>Rating</th>\n",
              "    </tr>\n",
              "  </thead>\n",
              "  <tbody>\n",
              "    <tr>\n",
              "      <th>0</th>\n",
              "      <td>Wii Sports</td>\n",
              "      <td>Wii</td>\n",
              "      <td>2006.0</td>\n",
              "      <td>Sports</td>\n",
              "      <td>Nintendo</td>\n",
              "      <td>41.36</td>\n",
              "      <td>28.96</td>\n",
              "      <td>3.77</td>\n",
              "      <td>8.45</td>\n",
              "      <td>82.53</td>\n",
              "      <td>76.0</td>\n",
              "      <td>51.0</td>\n",
              "      <td>8.0</td>\n",
              "      <td>322.0</td>\n",
              "      <td>Nintendo</td>\n",
              "      <td>E</td>\n",
              "    </tr>\n",
              "    <tr>\n",
              "      <th>1</th>\n",
              "      <td>Super Mario Bros.</td>\n",
              "      <td>NES</td>\n",
              "      <td>1985.0</td>\n",
              "      <td>Platform</td>\n",
              "      <td>Nintendo</td>\n",
              "      <td>29.08</td>\n",
              "      <td>3.58</td>\n",
              "      <td>6.81</td>\n",
              "      <td>0.77</td>\n",
              "      <td>40.24</td>\n",
              "      <td>NaN</td>\n",
              "      <td>NaN</td>\n",
              "      <td>NaN</td>\n",
              "      <td>NaN</td>\n",
              "      <td>NaN</td>\n",
              "      <td>NaN</td>\n",
              "    </tr>\n",
              "    <tr>\n",
              "      <th>2</th>\n",
              "      <td>Mario Kart Wii</td>\n",
              "      <td>Wii</td>\n",
              "      <td>2008.0</td>\n",
              "      <td>Racing</td>\n",
              "      <td>Nintendo</td>\n",
              "      <td>15.68</td>\n",
              "      <td>12.76</td>\n",
              "      <td>3.79</td>\n",
              "      <td>3.29</td>\n",
              "      <td>35.52</td>\n",
              "      <td>82.0</td>\n",
              "      <td>73.0</td>\n",
              "      <td>8.3</td>\n",
              "      <td>709.0</td>\n",
              "      <td>Nintendo</td>\n",
              "      <td>E</td>\n",
              "    </tr>\n",
              "    <tr>\n",
              "      <th>3</th>\n",
              "      <td>Wii Sports Resort</td>\n",
              "      <td>Wii</td>\n",
              "      <td>2009.0</td>\n",
              "      <td>Sports</td>\n",
              "      <td>Nintendo</td>\n",
              "      <td>15.61</td>\n",
              "      <td>10.93</td>\n",
              "      <td>3.28</td>\n",
              "      <td>2.95</td>\n",
              "      <td>32.77</td>\n",
              "      <td>80.0</td>\n",
              "      <td>73.0</td>\n",
              "      <td>8.0</td>\n",
              "      <td>192.0</td>\n",
              "      <td>Nintendo</td>\n",
              "      <td>E</td>\n",
              "    </tr>\n",
              "    <tr>\n",
              "      <th>4</th>\n",
              "      <td>Pokemon Red/Pokemon Blue</td>\n",
              "      <td>GB</td>\n",
              "      <td>1996.0</td>\n",
              "      <td>Role-Playing</td>\n",
              "      <td>Nintendo</td>\n",
              "      <td>11.27</td>\n",
              "      <td>8.89</td>\n",
              "      <td>10.22</td>\n",
              "      <td>1.00</td>\n",
              "      <td>31.37</td>\n",
              "      <td>NaN</td>\n",
              "      <td>NaN</td>\n",
              "      <td>NaN</td>\n",
              "      <td>NaN</td>\n",
              "      <td>NaN</td>\n",
              "      <td>NaN</td>\n",
              "    </tr>\n",
              "    <tr>\n",
              "      <th>...</th>\n",
              "      <td>...</td>\n",
              "      <td>...</td>\n",
              "      <td>...</td>\n",
              "      <td>...</td>\n",
              "      <td>...</td>\n",
              "      <td>...</td>\n",
              "      <td>...</td>\n",
              "      <td>...</td>\n",
              "      <td>...</td>\n",
              "      <td>...</td>\n",
              "      <td>...</td>\n",
              "      <td>...</td>\n",
              "      <td>...</td>\n",
              "      <td>...</td>\n",
              "      <td>...</td>\n",
              "      <td>...</td>\n",
              "    </tr>\n",
              "    <tr>\n",
              "      <th>16714</th>\n",
              "      <td>Samurai Warriors: Sanada Maru</td>\n",
              "      <td>PS3</td>\n",
              "      <td>2016.0</td>\n",
              "      <td>Action</td>\n",
              "      <td>Tecmo Koei</td>\n",
              "      <td>0.00</td>\n",
              "      <td>0.00</td>\n",
              "      <td>0.01</td>\n",
              "      <td>0.00</td>\n",
              "      <td>0.01</td>\n",
              "      <td>NaN</td>\n",
              "      <td>NaN</td>\n",
              "      <td>NaN</td>\n",
              "      <td>NaN</td>\n",
              "      <td>NaN</td>\n",
              "      <td>NaN</td>\n",
              "    </tr>\n",
              "    <tr>\n",
              "      <th>16715</th>\n",
              "      <td>LMA Manager 2007</td>\n",
              "      <td>X360</td>\n",
              "      <td>2006.0</td>\n",
              "      <td>Sports</td>\n",
              "      <td>Codemasters</td>\n",
              "      <td>0.00</td>\n",
              "      <td>0.01</td>\n",
              "      <td>0.00</td>\n",
              "      <td>0.00</td>\n",
              "      <td>0.01</td>\n",
              "      <td>NaN</td>\n",
              "      <td>NaN</td>\n",
              "      <td>NaN</td>\n",
              "      <td>NaN</td>\n",
              "      <td>NaN</td>\n",
              "      <td>NaN</td>\n",
              "    </tr>\n",
              "    <tr>\n",
              "      <th>16716</th>\n",
              "      <td>Haitaka no Psychedelica</td>\n",
              "      <td>PSV</td>\n",
              "      <td>2016.0</td>\n",
              "      <td>Adventure</td>\n",
              "      <td>Idea Factory</td>\n",
              "      <td>0.00</td>\n",
              "      <td>0.00</td>\n",
              "      <td>0.01</td>\n",
              "      <td>0.00</td>\n",
              "      <td>0.01</td>\n",
              "      <td>NaN</td>\n",
              "      <td>NaN</td>\n",
              "      <td>NaN</td>\n",
              "      <td>NaN</td>\n",
              "      <td>NaN</td>\n",
              "      <td>NaN</td>\n",
              "    </tr>\n",
              "    <tr>\n",
              "      <th>16717</th>\n",
              "      <td>Spirits &amp; Spells</td>\n",
              "      <td>GBA</td>\n",
              "      <td>2003.0</td>\n",
              "      <td>Platform</td>\n",
              "      <td>Wanadoo</td>\n",
              "      <td>0.01</td>\n",
              "      <td>0.00</td>\n",
              "      <td>0.00</td>\n",
              "      <td>0.00</td>\n",
              "      <td>0.01</td>\n",
              "      <td>NaN</td>\n",
              "      <td>NaN</td>\n",
              "      <td>NaN</td>\n",
              "      <td>NaN</td>\n",
              "      <td>NaN</td>\n",
              "      <td>NaN</td>\n",
              "    </tr>\n",
              "    <tr>\n",
              "      <th>16718</th>\n",
              "      <td>Winning Post 8 2016</td>\n",
              "      <td>PSV</td>\n",
              "      <td>2016.0</td>\n",
              "      <td>Simulation</td>\n",
              "      <td>Tecmo Koei</td>\n",
              "      <td>0.00</td>\n",
              "      <td>0.00</td>\n",
              "      <td>0.01</td>\n",
              "      <td>0.00</td>\n",
              "      <td>0.01</td>\n",
              "      <td>NaN</td>\n",
              "      <td>NaN</td>\n",
              "      <td>NaN</td>\n",
              "      <td>NaN</td>\n",
              "      <td>NaN</td>\n",
              "      <td>NaN</td>\n",
              "    </tr>\n",
              "  </tbody>\n",
              "</table>\n",
              "<p>16719 rows × 16 columns</p>\n",
              "</div>"
            ],
            "text/plain": [
              "                                Name Platform  ...  Developer Rating\n",
              "0                         Wii Sports      Wii  ...   Nintendo      E\n",
              "1                  Super Mario Bros.      NES  ...        NaN    NaN\n",
              "2                     Mario Kart Wii      Wii  ...   Nintendo      E\n",
              "3                  Wii Sports Resort      Wii  ...   Nintendo      E\n",
              "4           Pokemon Red/Pokemon Blue       GB  ...        NaN    NaN\n",
              "...                              ...      ...  ...        ...    ...\n",
              "16714  Samurai Warriors: Sanada Maru      PS3  ...        NaN    NaN\n",
              "16715               LMA Manager 2007     X360  ...        NaN    NaN\n",
              "16716        Haitaka no Psychedelica      PSV  ...        NaN    NaN\n",
              "16717               Spirits & Spells      GBA  ...        NaN    NaN\n",
              "16718            Winning Post 8 2016      PSV  ...        NaN    NaN\n",
              "\n",
              "[16719 rows x 16 columns]"
            ]
          },
          "metadata": {
            "tags": []
          },
          "execution_count": 66
        }
      ]
    },
    {
      "cell_type": "markdown",
      "metadata": {
        "id": "-Wl4Rn0bJqOR"
      },
      "source": [
        "## **1) Explique quantos atributos têm esse dataset e faça uma breve explicação sobre o conteúdo de cada um**\n"
      ]
    },
    {
      "cell_type": "markdown",
      "metadata": {
        "id": "87T4JCjjlIHF"
      },
      "source": [
        "No dataset existem 16 atributos(colunas), como mostrado abaixo. \n"
      ]
    },
    {
      "cell_type": "code",
      "metadata": {
        "id": "s7QJXGE3JZyy",
        "colab": {
          "base_uri": "https://localhost:8080/"
        },
        "outputId": "391b5402-4fbd-488f-e8a9-b1bf1a04b995"
      },
      "source": [
        "video_games.shape"
      ],
      "execution_count": null,
      "outputs": [
        {
          "output_type": "execute_result",
          "data": {
            "text/plain": [
              "(16719, 16)"
            ]
          },
          "metadata": {
            "tags": []
          },
          "execution_count": 20
        }
      ]
    },
    {
      "cell_type": "code",
      "metadata": {
        "colab": {
          "base_uri": "https://localhost:8080/"
        },
        "id": "-hKlWPkNkx8t",
        "outputId": "a0f31a29-53e8-48b8-b569-5940d8a9d6c4"
      },
      "source": [
        "colunas = video_games.columns\n",
        "colunas_serie = pd.Series(colunas)\n",
        "colunas_serie"
      ],
      "execution_count": null,
      "outputs": [
        {
          "output_type": "execute_result",
          "data": {
            "text/plain": [
              "0                Name\n",
              "1            Platform\n",
              "2     Year_of_Release\n",
              "3               Genre\n",
              "4           Publisher\n",
              "5            NA_Sales\n",
              "6            EU_Sales\n",
              "7            JP_Sales\n",
              "8         Other_Sales\n",
              "9        Global_Sales\n",
              "10       Critic_Score\n",
              "11       Critic_Count\n",
              "12         User_Score\n",
              "13         User_Count\n",
              "14          Developer\n",
              "15             Rating\n",
              "dtype: object"
            ]
          },
          "metadata": {
            "tags": []
          },
          "execution_count": 50
        }
      ]
    },
    {
      "cell_type": "markdown",
      "metadata": {
        "id": "A22Bye2wmyI4"
      },
      "source": [
        "* **Name:** Nome do Jogo\n",
        "* **Platform:** Plataforma para que foi desenvolvido\n",
        "* **Year_of_Release:** Ano de lançamento\n",
        "* **Genre:** Gênero do Jogo\n",
        "* **Publisher:** Quem publicou o jogo\n",
        "* **NA_Sales:** Quantidade de vendas na América do Norte\n",
        "* **EU_Sales:** Quantidade de vendas na Europa\n",
        "* **JP_Sales:** Quantidade de vendas no Japão\n",
        "* **Other_Sales:** Quantidade de vendas em outros países\n",
        "* **Global_Sales:** Quantidade de vendas Global\n",
        "* **Critic_Score:**\n",
        "* **Critic_Count:**\n",
        "* **User_Score:**\n",
        "* **User_Count:**\n",
        "* **Developer:** Quem desenvolveu o jogo\n",
        "* **Rating:** Avaliação do jogo"
      ]
    },
    {
      "cell_type": "markdown",
      "metadata": {
        "id": "qZSGSnBFKFF9"
      },
      "source": [
        "## **2) Quantos games estão disponíveis no dataset ?**"
      ]
    },
    {
      "cell_type": "code",
      "metadata": {
        "id": "FZBFrQacHR55",
        "colab": {
          "base_uri": "https://localhost:8080/"
        },
        "outputId": "2d53355e-aa96-4404-8a43-23b75a9f9423"
      },
      "source": [
        "video_games.shape"
      ],
      "execution_count": null,
      "outputs": [
        {
          "output_type": "execute_result",
          "data": {
            "text/plain": [
              "(16719, 16)"
            ]
          },
          "metadata": {
            "tags": []
          },
          "execution_count": 125
        }
      ]
    },
    {
      "cell_type": "code",
      "metadata": {
        "colab": {
          "base_uri": "https://localhost:8080/"
        },
        "id": "RQtyZgCifQPU",
        "outputId": "d96e5de5-980e-4ce7-eb35-2c4fe53f602c"
      },
      "source": [
        "video_games['Name'].value_counts()"
      ],
      "execution_count": null,
      "outputs": [
        {
          "output_type": "execute_result",
          "data": {
            "text/plain": [
              "Need for Speed: Most Wanted                 12\n",
              "Madden NFL 07                                9\n",
              "Ratatouille                                  9\n",
              "FIFA 14                                      9\n",
              "LEGO Marvel Super Heroes                     9\n",
              "                                            ..\n",
              "Star Soldier: Vanishing Earth                1\n",
              "Wario: Master of Disguise                    1\n",
              "Grisaia no Rakuen: Le Eden de la Grisaia     1\n",
              "Genma Onimusha                               1\n",
              "Earth Defense Force 2017                     1\n",
              "Name: Name, Length: 11562, dtype: int64"
            ]
          },
          "metadata": {
            "tags": []
          },
          "execution_count": 126
        }
      ]
    },
    {
      "cell_type": "code",
      "metadata": {
        "colab": {
          "base_uri": "https://localhost:8080/"
        },
        "id": "TZdWtRvbfhou",
        "outputId": "159d8fb9-7fbd-4fd0-a589-49eb33ff0cc6"
      },
      "source": [
        "video_games['Name'].value_counts().sum()"
      ],
      "execution_count": null,
      "outputs": [
        {
          "output_type": "execute_result",
          "data": {
            "text/plain": [
              "16717"
            ]
          },
          "metadata": {
            "tags": []
          },
          "execution_count": 127
        }
      ]
    },
    {
      "cell_type": "markdown",
      "metadata": {
        "id": "eyjNalHDpRi0"
      },
      "source": [
        "De acordo com a pesquisa, 11562 jogos estão disponíveis no dataset. Pois, a diferença encontrada entre o total de linhas do atributo e o número total de games se dá pq existem jogos repetidos no dataset."
      ]
    },
    {
      "cell_type": "markdown",
      "metadata": {
        "id": "kPvccjCeKLWD"
      },
      "source": [
        "## **3) Existe algum atributo nesse dataset que não está preenchido (valores nulos) ?**"
      ]
    },
    {
      "cell_type": "code",
      "metadata": {
        "id": "UHewe4HaKeww",
        "colab": {
          "base_uri": "https://localhost:8080/"
        },
        "outputId": "f1792e97-46ea-4602-9631-5c5544860081"
      },
      "source": [
        "video_games.isnull().sum()"
      ],
      "execution_count": null,
      "outputs": [
        {
          "output_type": "execute_result",
          "data": {
            "text/plain": [
              "Name                  2\n",
              "Platform              0\n",
              "Year_of_Release     269\n",
              "Genre                 2\n",
              "Publisher            54\n",
              "NA_Sales              0\n",
              "EU_Sales              0\n",
              "JP_Sales              0\n",
              "Other_Sales           0\n",
              "Global_Sales          0\n",
              "Critic_Score       8582\n",
              "Critic_Count       8582\n",
              "User_Score         9129\n",
              "User_Count         9129\n",
              "Developer          6623\n",
              "Rating             6769\n",
              "dtype: int64"
            ]
          },
          "metadata": {
            "tags": []
          },
          "execution_count": 123
        }
      ]
    },
    {
      "cell_type": "markdown",
      "metadata": {
        "id": "I6_Sx511bwda"
      },
      "source": [
        "Sim. Como mostra a pesquisa acima, existem alguns atributos que não estão \n",
        "preenchidos.\n",
        "\n",
        "\n",
        "> Valores diferentes de 0\n",
        "\n"
      ]
    },
    {
      "cell_type": "markdown",
      "metadata": {
        "id": "V1Fabwt2KfNm"
      },
      "source": [
        "## **4) Cria 3 séries distintas de valores de vendas: uma para a America do Norte, outra para a Europa e outra para o Japão. Todas indexados pelo nome do game**"
      ]
    },
    {
      "cell_type": "code",
      "metadata": {
        "id": "_dqONw1UH8qw",
        "colab": {
          "base_uri": "https://localhost:8080/"
        },
        "outputId": "8931a8f1-e608-4899-d7f6-34583e4c6f46"
      },
      "source": [
        "video_games.groupby(['Name']).sum()['NA_Sales']"
      ],
      "execution_count": null,
      "outputs": [
        {
          "output_type": "execute_result",
          "data": {
            "text/plain": [
              "Name\n",
              " Beyblade Burst                 0.00\n",
              " Fire Emblem Fates              0.81\n",
              " Frozen: Olaf's Quest           0.48\n",
              " Haikyu!! Cross Team Match!     0.00\n",
              " Tales of Xillia 2              0.20\n",
              "                                ... \n",
              "thinkSMART: Chess for Kids      0.01\n",
              "uDraw Studio                    1.65\n",
              "uDraw Studio: Instant Artist    0.07\n",
              "wwe Smackdown vs. Raw 2006      1.57\n",
              "¡Shin Chan Flipa en colores!    0.00\n",
              "Name: NA_Sales, Length: 11562, dtype: float64"
            ]
          },
          "metadata": {
            "tags": []
          },
          "execution_count": 305
        }
      ]
    },
    {
      "cell_type": "code",
      "metadata": {
        "colab": {
          "base_uri": "https://localhost:8080/"
        },
        "id": "yH-s84P47pr6",
        "outputId": "258c4501-4fa2-4b43-c986-6849ac771b89"
      },
      "source": [
        "video_games.groupby(['Name']).sum()['EU_Sales']"
      ],
      "execution_count": null,
      "outputs": [
        {
          "output_type": "execute_result",
          "data": {
            "text/plain": [
              "Name\n",
              " Beyblade Burst                 0.00\n",
              " Fire Emblem Fates              0.23\n",
              " Frozen: Olaf's Quest           0.53\n",
              " Haikyu!! Cross Team Match!     0.00\n",
              " Tales of Xillia 2              0.12\n",
              "                                ... \n",
              "thinkSMART: Chess for Kids      0.00\n",
              "uDraw Studio                    0.57\n",
              "uDraw Studio: Instant Artist    0.10\n",
              "wwe Smackdown vs. Raw 2006      1.02\n",
              "¡Shin Chan Flipa en colores!    0.00\n",
              "Name: EU_Sales, Length: 11562, dtype: float64"
            ]
          },
          "metadata": {
            "tags": []
          },
          "execution_count": 306
        }
      ]
    },
    {
      "cell_type": "code",
      "metadata": {
        "colab": {
          "base_uri": "https://localhost:8080/"
        },
        "id": "glKm_I2r7sO6",
        "outputId": "da32041c-5a23-45c6-f015-ec0d67c6496f"
      },
      "source": [
        "video_games.groupby(['Name']).sum()['JP_Sales']"
      ],
      "execution_count": null,
      "outputs": [
        {
          "output_type": "execute_result",
          "data": {
            "text/plain": [
              "Name\n",
              " Beyblade Burst                 0.03\n",
              " Fire Emblem Fates              0.52\n",
              " Frozen: Olaf's Quest           0.00\n",
              " Haikyu!! Cross Team Match!     0.04\n",
              " Tales of Xillia 2              0.45\n",
              "                                ... \n",
              "thinkSMART: Chess for Kids      0.00\n",
              "uDraw Studio                    0.00\n",
              "uDraw Studio: Instant Artist    0.00\n",
              "wwe Smackdown vs. Raw 2006      0.00\n",
              "¡Shin Chan Flipa en colores!    0.14\n",
              "Name: JP_Sales, Length: 11562, dtype: float64"
            ]
          },
          "metadata": {
            "tags": []
          },
          "execution_count": 307
        }
      ]
    },
    {
      "cell_type": "markdown",
      "metadata": {
        "id": "VnOSLahgNdDr"
      },
      "source": [
        "## **5) Converta o atributo Year_of_Release no dataframe para inteiro**"
      ]
    },
    {
      "cell_type": "code",
      "metadata": {
        "colab": {
          "base_uri": "https://localhost:8080/"
        },
        "id": "WFULeEpWDdb6",
        "outputId": "31103d43-3ad7-47c1-aa60-3e58c6b5c7c0"
      },
      "source": [
        "video_games.info()"
      ],
      "execution_count": null,
      "outputs": [
        {
          "output_type": "stream",
          "text": [
            "<class 'pandas.core.frame.DataFrame'>\n",
            "RangeIndex: 16719 entries, 0 to 16718\n",
            "Data columns (total 16 columns):\n",
            " #   Column           Non-Null Count  Dtype  \n",
            "---  ------           --------------  -----  \n",
            " 0   Name             16717 non-null  object \n",
            " 1   Platform         16719 non-null  object \n",
            " 2   Year_of_Release  16450 non-null  float64\n",
            " 3   Genre            16717 non-null  object \n",
            " 4   Publisher        16665 non-null  object \n",
            " 5   NA_Sales         16719 non-null  float64\n",
            " 6   EU_Sales         16719 non-null  float64\n",
            " 7   JP_Sales         16719 non-null  float64\n",
            " 8   Other_Sales      16719 non-null  float64\n",
            " 9   Global_Sales     16719 non-null  float64\n",
            " 10  Critic_Score     8137 non-null   float64\n",
            " 11  Critic_Count     8137 non-null   float64\n",
            " 12  User_Score       7590 non-null   float64\n",
            " 13  User_Count       7590 non-null   float64\n",
            " 14  Developer        10096 non-null  object \n",
            " 15  Rating           9950 non-null   object \n",
            "dtypes: float64(10), object(6)\n",
            "memory usage: 2.0+ MB\n"
          ],
          "name": "stdout"
        }
      ]
    },
    {
      "cell_type": "code",
      "metadata": {
        "colab": {
          "base_uri": "https://localhost:8080/"
        },
        "id": "igM-3nrhK1yS",
        "outputId": "22a4e0a2-319c-40da-af6c-aaf3b0d4d534"
      },
      "source": [
        "video_games.isnull().sum()"
      ],
      "execution_count": null,
      "outputs": [
        {
          "output_type": "execute_result",
          "data": {
            "text/plain": [
              "Name                  2\n",
              "Platform              0\n",
              "Year_of_Release     269\n",
              "Genre                 2\n",
              "Publisher            54\n",
              "NA_Sales              0\n",
              "EU_Sales              0\n",
              "JP_Sales              0\n",
              "Other_Sales           0\n",
              "Global_Sales          0\n",
              "Critic_Score       8582\n",
              "Critic_Count       8582\n",
              "User_Score         9129\n",
              "User_Count         9129\n",
              "Developer          6623\n",
              "Rating             6769\n",
              "dtype: int64"
            ]
          },
          "metadata": {
            "tags": []
          },
          "execution_count": 72
        }
      ]
    },
    {
      "cell_type": "code",
      "metadata": {
        "id": "l2x5Ur06LF1n"
      },
      "source": [
        "ano_lan = video_games['Year_of_Release']"
      ],
      "execution_count": null,
      "outputs": []
    },
    {
      "cell_type": "code",
      "metadata": {
        "id": "mq1mSvDtL3aR"
      },
      "source": [
        "ano_lan_D=ano_lan.dropna(axis=0)"
      ],
      "execution_count": null,
      "outputs": []
    },
    {
      "cell_type": "code",
      "metadata": {
        "colab": {
          "base_uri": "https://localhost:8080/"
        },
        "id": "WLHOlbvnI7Z6",
        "outputId": "2e5de8f5-0d8d-4149-fb00-03b07b8c3ae7"
      },
      "source": [
        "ano_lan_D.astype(int)"
      ],
      "execution_count": null,
      "outputs": [
        {
          "output_type": "execute_result",
          "data": {
            "text/plain": [
              "0        2006\n",
              "1        1985\n",
              "2        2008\n",
              "3        2009\n",
              "4        1996\n",
              "         ... \n",
              "16714    2016\n",
              "16715    2006\n",
              "16716    2016\n",
              "16717    2003\n",
              "16718    2016\n",
              "Name: Year_of_Release, Length: 16450, dtype: int64"
            ]
          },
          "metadata": {
            "tags": []
          },
          "execution_count": 82
        }
      ]
    },
    {
      "cell_type": "markdown",
      "metadata": {
        "id": "3hv-ziQYN2M8"
      },
      "source": [
        "## **6) Remova as linhas que tenham algum atributo nulo entre os atributos de vendas pelo mundo (considere apenas NA, EU e JP)**"
      ]
    },
    {
      "cell_type": "code",
      "metadata": {
        "id": "ACx8ZuQAOJEj",
        "colab": {
          "base_uri": "https://localhost:8080/"
        },
        "outputId": "c9072729-d2db-4a88-f349-86dd4cc49067"
      },
      "source": [
        "video_games.isnull().sum()"
      ],
      "execution_count": null,
      "outputs": [
        {
          "output_type": "execute_result",
          "data": {
            "text/plain": [
              "Name                  2\n",
              "Platform              0\n",
              "Year_of_Release     269\n",
              "Genre                 2\n",
              "Publisher            54\n",
              "NA_Sales              0\n",
              "EU_Sales              0\n",
              "JP_Sales              0\n",
              "Other_Sales           0\n",
              "Global_Sales          0\n",
              "Critic_Score       8582\n",
              "Critic_Count       8582\n",
              "User_Score         9129\n",
              "User_Count         9129\n",
              "Developer          6623\n",
              "Rating             6769\n",
              "dtype: int64"
            ]
          },
          "metadata": {
            "tags": []
          },
          "execution_count": 84
        }
      ]
    },
    {
      "cell_type": "markdown",
      "metadata": {
        "id": "K8u4pAb8Mesp"
      },
      "source": [
        "De acordo com a pesquisa, não há nenhum valor nulo nos atributos NA, EU e JP."
      ]
    },
    {
      "cell_type": "markdown",
      "metadata": {
        "id": "ybyQMWXeOKCf"
      },
      "source": [
        "## **7) Quantos valores distintos existem para cada série ?**"
      ]
    },
    {
      "cell_type": "code",
      "metadata": {
        "id": "sDpif7Y1OTFc",
        "colab": {
          "base_uri": "https://localhost:8080/"
        },
        "outputId": "3af9424e-ccb2-4963-8e82-e8cb23912740"
      },
      "source": [
        "video_games.info()"
      ],
      "execution_count": null,
      "outputs": [
        {
          "output_type": "stream",
          "text": [
            "<class 'pandas.core.frame.DataFrame'>\n",
            "RangeIndex: 16719 entries, 0 to 16718\n",
            "Data columns (total 16 columns):\n",
            " #   Column           Non-Null Count  Dtype  \n",
            "---  ------           --------------  -----  \n",
            " 0   Name             16717 non-null  object \n",
            " 1   Platform         16719 non-null  object \n",
            " 2   Year_of_Release  16450 non-null  float64\n",
            " 3   Genre            16717 non-null  object \n",
            " 4   Publisher        16665 non-null  object \n",
            " 5   NA_Sales         16719 non-null  float64\n",
            " 6   EU_Sales         16719 non-null  float64\n",
            " 7   JP_Sales         16719 non-null  float64\n",
            " 8   Other_Sales      16719 non-null  float64\n",
            " 9   Global_Sales     16719 non-null  float64\n",
            " 10  Critic_Score     8137 non-null   float64\n",
            " 11  Critic_Count     8137 non-null   float64\n",
            " 12  User_Score       7590 non-null   float64\n",
            " 13  User_Count       7590 non-null   float64\n",
            " 14  Developer        10096 non-null  object \n",
            " 15  Rating           9950 non-null   object \n",
            "dtypes: float64(10), object(6)\n",
            "memory usage: 2.0+ MB\n"
          ],
          "name": "stdout"
        }
      ]
    },
    {
      "cell_type": "markdown",
      "metadata": {
        "id": "wOMQ2VbMOatt"
      },
      "source": [
        "## **8) Qual o game mais vendido na América do Norte ?**"
      ]
    },
    {
      "cell_type": "code",
      "metadata": {
        "colab": {
          "base_uri": "https://localhost:8080/"
        },
        "id": "If6-3Dp_A9Xv",
        "outputId": "494e0a66-bf8f-48c3-ff0f-f76d197577d4"
      },
      "source": [
        "mais_vendidos_NA = pd.read_csv('Video_Games_Sales_as_at_22_Dec_2016.csv', usecols=['Name', 'NA_Sales'], index_col=['Name'], squeeze=True)\n",
        "mais_vendidos_NA.sort_values(ascending=False)"
      ],
      "execution_count": null,
      "outputs": [
        {
          "output_type": "execute_result",
          "data": {
            "text/plain": [
              "Name\n",
              "Wii Sports                                                         41.36\n",
              "Super Mario Bros.                                                  29.08\n",
              "Duck Hunt                                                          26.93\n",
              "Tetris                                                             23.20\n",
              "Mario Kart Wii                                                     15.68\n",
              "                                                                   ...  \n",
              "Toukiden 2                                                          0.00\n",
              "SD Gundam G Generation Genesis                                      0.00\n",
              "Pachitte Chonmage Tatsujin 13: Pachinko Hissatsu Shigotojin III     0.00\n",
              "Theme Park                                                          0.00\n",
              "Bomberman B-Daman                                                   0.00\n",
              "Name: NA_Sales, Length: 16719, dtype: float64"
            ]
          },
          "metadata": {
            "tags": []
          },
          "execution_count": 93
        }
      ]
    },
    {
      "cell_type": "markdown",
      "metadata": {
        "id": "U85VB_rwTqxG"
      },
      "source": [
        "O game mais vendido na América do Norte é o Wii Sports."
      ]
    },
    {
      "cell_type": "markdown",
      "metadata": {
        "id": "UIIPqtG-OgBF"
      },
      "source": [
        "## **9) Qual o game mais vendido na Europa ?**"
      ]
    },
    {
      "cell_type": "code",
      "metadata": {
        "id": "RFLWjYNSPJXx",
        "colab": {
          "base_uri": "https://localhost:8080/"
        },
        "outputId": "ddebffe3-5544-45e0-c32a-f14b0baa4ca9"
      },
      "source": [
        "mais_vendidos_EU = pd.read_csv('Video_Games_Sales_as_at_22_Dec_2016.csv', usecols=['Name', 'EU_Sales'], index_col=['Name'], squeeze=True)\n",
        "mais_vendidos_EU.sort_values(ascending=False)"
      ],
      "execution_count": null,
      "outputs": [
        {
          "output_type": "execute_result",
          "data": {
            "text/plain": [
              "Name\n",
              "Wii Sports                                      28.96\n",
              "Mario Kart Wii                                  12.76\n",
              "Nintendogs                                      10.95\n",
              "Wii Sports Resort                               10.93\n",
              "Brain Age: Train Your Brain in Minutes a Day     9.20\n",
              "                                                ...  \n",
              "Draglade                                         0.00\n",
              "All Kamen Rider: Rider Generation 2              0.00\n",
              "Darius Gaiden                                    0.00\n",
              "KORG DS-10 Synthesizer Plus                      0.00\n",
              "Bomberman B-Daman                                0.00\n",
              "Name: EU_Sales, Length: 16719, dtype: float64"
            ]
          },
          "metadata": {
            "tags": []
          },
          "execution_count": 96
        }
      ]
    },
    {
      "cell_type": "markdown",
      "metadata": {
        "id": "CVpMTxsLTuq6"
      },
      "source": [
        "O game mais vendido na Europa é o Wii Sports."
      ]
    },
    {
      "cell_type": "markdown",
      "metadata": {
        "id": "GWtFHY5sPJsF"
      },
      "source": [
        "## **10) Qual o game mais vendido no Japão ?**"
      ]
    },
    {
      "cell_type": "code",
      "metadata": {
        "id": "Ug2kEatDQMmN",
        "colab": {
          "base_uri": "https://localhost:8080/"
        },
        "outputId": "26abd7f4-505a-4f58-8afa-11904cd167f8"
      },
      "source": [
        "mais_vendidos_JP = pd.read_csv('Video_Games_Sales_as_at_22_Dec_2016.csv', usecols=['Name', 'JP_Sales'], index_col=['Name'], squeeze=True)\n",
        "mais_vendidos_JP.sort_values(ascending=False)"
      ],
      "execution_count": null,
      "outputs": [
        {
          "output_type": "execute_result",
          "data": {
            "text/plain": [
              "Name\n",
              "Pokemon Red/Pokemon Blue         10.22\n",
              "Pokemon Gold/Pokemon Silver       7.20\n",
              "Super Mario Bros.                 6.81\n",
              "New Super Mario Bros.             6.50\n",
              "Pokemon Diamond/Pokemon Pearl     6.04\n",
              "                                 ...  \n",
              "Mega Man & Bass                   0.00\n",
              "Airblade                          0.00\n",
              "Again                             0.00\n",
              "Grand Slam Tennis 2               0.00\n",
              "Board Game: Top Shop              0.00\n",
              "Name: JP_Sales, Length: 16719, dtype: float64"
            ]
          },
          "metadata": {
            "tags": []
          },
          "execution_count": 102
        }
      ]
    },
    {
      "cell_type": "markdown",
      "metadata": {
        "id": "j4Y-6q4FTy9B"
      },
      "source": [
        "O game mais vendido no Japão é o Pokemon Red/Pokemon Blue."
      ]
    },
    {
      "cell_type": "markdown",
      "metadata": {
        "id": "672Rr2t4Qjfi"
      },
      "source": [
        "## **11) Qual das 3 localidades (America do Norte, Europa e Japão) tem a maior média de games vendida ?**"
      ]
    },
    {
      "cell_type": "code",
      "metadata": {
        "colab": {
          "base_uri": "https://localhost:8080/"
        },
        "id": "4U2qq6ipUmCn",
        "outputId": "e2ef6f61-97bb-4da5-8109-f443d901257f"
      },
      "source": [
        "mais_vendidos_NA.mean()"
      ],
      "execution_count": null,
      "outputs": [
        {
          "output_type": "execute_result",
          "data": {
            "text/plain": [
              "0.07760212931394815"
            ]
          },
          "metadata": {
            "tags": []
          },
          "execution_count": 110
        }
      ]
    },
    {
      "cell_type": "code",
      "metadata": {
        "colab": {
          "base_uri": "https://localhost:8080/"
        },
        "id": "T8y-MR9jUmuS",
        "outputId": "c4bcfc1d-3e04-4e48-c3fd-2b0240ef49ba"
      },
      "source": [
        "mais_vendidos_EU.mean()"
      ],
      "execution_count": null,
      "outputs": [
        {
          "output_type": "execute_result",
          "data": {
            "text/plain": [
              "0.14502482205876838"
            ]
          },
          "metadata": {
            "tags": []
          },
          "execution_count": 111
        }
      ]
    },
    {
      "cell_type": "code",
      "metadata": {
        "id": "s9nB8qUWQoPw",
        "colab": {
          "base_uri": "https://localhost:8080/"
        },
        "outputId": "5d9a46f7-2611-42e7-da1d-187e2f3868be"
      },
      "source": [
        "mais_vendidos_JP.mean()"
      ],
      "execution_count": null,
      "outputs": [
        {
          "output_type": "execute_result",
          "data": {
            "text/plain": [
              "0.07760212931394815"
            ]
          },
          "metadata": {
            "tags": []
          },
          "execution_count": 112
        }
      ]
    },
    {
      "cell_type": "markdown",
      "metadata": {
        "id": "lh3MYcIIVaWK"
      },
      "source": [
        "A Europa tem a maior média de jogos vendidos."
      ]
    },
    {
      "cell_type": "markdown",
      "metadata": {
        "id": "WNTeDAJZQM4r"
      },
      "source": [
        "## **12) Qual o game menos vendido no mundo em números absolutos ?**"
      ]
    },
    {
      "cell_type": "code",
      "metadata": {
        "id": "cEduz_GZJaup",
        "colab": {
          "base_uri": "https://localhost:8080/"
        },
        "outputId": "73e1c9f1-8d74-4f1f-90a1-9ab9a5000db2"
      },
      "source": [
        "menos_vendidos_GLOBAL = pd.read_csv('Video_Games_Sales_as_at_22_Dec_2016.csv', usecols=['Name', 'Global_Sales'], index_col=['Name'], squeeze=True)\n",
        "menos_vendidos_GLOBAL.sort_values(ascending=True)"
      ],
      "execution_count": null,
      "outputs": [
        {
          "output_type": "execute_result",
          "data": {
            "text/plain": [
              "Name\n",
              "Winning Post 8 2016                                            0.01\n",
              "AKB1/48: Idol to Guam de Koishitara...                         0.01\n",
              "Casper                                                         0.01\n",
              "Simple 2000 Series Vol. 120: The Saigo no Nippon Tsuwamono     0.01\n",
              "Rave Master: Special Attack Force!                             0.01\n",
              "                                                              ...  \n",
              "Pokemon Red/Pokemon Blue                                      31.37\n",
              "Wii Sports Resort                                             32.77\n",
              "Mario Kart Wii                                                35.52\n",
              "Super Mario Bros.                                             40.24\n",
              "Wii Sports                                                    82.53\n",
              "Name: Global_Sales, Length: 16719, dtype: float64"
            ]
          },
          "metadata": {
            "tags": []
          },
          "execution_count": 108
        }
      ]
    },
    {
      "cell_type": "markdown",
      "metadata": {
        "id": "PMoVUG5aV9ip"
      },
      "source": [
        "O game menos vendido no mundo é o Winning Post 8 2016."
      ]
    },
    {
      "cell_type": "markdown",
      "metadata": {
        "id": "BY8zUzzKQfcw"
      },
      "source": [
        "## **13) Separe numa série a parte os 5% de games mais vendidos na NA. Compare a semelhança e diferença com as outras duas localidades**"
      ]
    },
    {
      "cell_type": "code",
      "metadata": {
        "id": "hoxygcTa3O_c"
      },
      "source": [
        "def percentual(tamanho_series):\n",
        "  tam = tamanho_series\n",
        "  porcent = (tam * 5) / 100\n",
        "  return porcent\n"
      ],
      "execution_count": null,
      "outputs": []
    },
    {
      "cell_type": "code",
      "metadata": {
        "id": "8Vx5LfoPVJR6",
        "colab": {
          "base_uri": "https://localhost:8080/"
        },
        "outputId": "1dc575b3-4b23-4073-a842-56c9a2901c37"
      },
      "source": [
        "serie_mais_vendidos_NA = pd.read_csv('Video_Games_Sales_as_at_22_Dec_2016.csv', usecols=['Name', 'NA_Sales'], index_col=['Name'], squeeze=True)\n",
        "serie_mais_vendidos_NA.sort_values(ascending=False)"
      ],
      "execution_count": null,
      "outputs": [
        {
          "output_type": "execute_result",
          "data": {
            "text/plain": [
              "Name\n",
              "Wii Sports                                                         41.36\n",
              "Super Mario Bros.                                                  29.08\n",
              "Duck Hunt                                                          26.93\n",
              "Tetris                                                             23.20\n",
              "Mario Kart Wii                                                     15.68\n",
              "                                                                   ...  \n",
              "Toukiden 2                                                          0.00\n",
              "SD Gundam G Generation Genesis                                      0.00\n",
              "Pachitte Chonmage Tatsujin 13: Pachinko Hissatsu Shigotojin III     0.00\n",
              "Theme Park                                                          0.00\n",
              "Bomberman B-Daman                                                   0.00\n",
              "Name: NA_Sales, Length: 16719, dtype: float64"
            ]
          },
          "metadata": {
            "tags": []
          },
          "execution_count": 295
        }
      ]
    },
    {
      "cell_type": "code",
      "metadata": {
        "colab": {
          "base_uri": "https://localhost:8080/"
        },
        "id": "abPuCNBd0ZIQ",
        "outputId": "779004e8-64c6-4bc0-b499-27458afdf593"
      },
      "source": [
        "tamanho_da_serie = len(serie_mais_vendidos_NA)\n",
        "#chamada da função\n",
        "percent = percentual(tamanho_da_serie)\n",
        "percent"
      ],
      "execution_count": null,
      "outputs": [
        {
          "output_type": "execute_result",
          "data": {
            "text/plain": [
              "835.95"
            ]
          },
          "metadata": {
            "tags": []
          },
          "execution_count": 296
        }
      ]
    },
    {
      "cell_type": "code",
      "metadata": {
        "id": "t25GtClN1vdP"
      },
      "source": [
        "total_5p_NA = serie_mais_vendidos_NA.iloc[0 : round(percent)].sum()"
      ],
      "execution_count": null,
      "outputs": []
    },
    {
      "cell_type": "code",
      "metadata": {
        "colab": {
          "base_uri": "https://localhost:8080/"
        },
        "id": "dwHlbZ9I2A2I",
        "outputId": "98a0aeae-ec80-4c37-b324-b44ddb67a58f"
      },
      "source": [
        "serie_mais_vendidos_EU = pd.read_csv('Video_Games_Sales_as_at_22_Dec_2016.csv', usecols=['Name', 'EU_Sales'], index_col=['Name'], squeeze=True)\n",
        "serie_mais_vendidos_EU.sort_values(ascending=False)"
      ],
      "execution_count": null,
      "outputs": [
        {
          "output_type": "execute_result",
          "data": {
            "text/plain": [
              "Name\n",
              "Wii Sports                                      28.96\n",
              "Mario Kart Wii                                  12.76\n",
              "Nintendogs                                      10.95\n",
              "Wii Sports Resort                               10.93\n",
              "Brain Age: Train Your Brain in Minutes a Day     9.20\n",
              "                                                ...  \n",
              "Draglade                                         0.00\n",
              "All Kamen Rider: Rider Generation 2              0.00\n",
              "Darius Gaiden                                    0.00\n",
              "KORG DS-10 Synthesizer Plus                      0.00\n",
              "Bomberman B-Daman                                0.00\n",
              "Name: EU_Sales, Length: 16719, dtype: float64"
            ]
          },
          "metadata": {
            "tags": []
          },
          "execution_count": 290
        }
      ]
    },
    {
      "cell_type": "code",
      "metadata": {
        "id": "P77g2cYj2jnk"
      },
      "source": [
        "total_5p_EU = serie_mais_vendidos_EU.iloc[0 : round(percent)].sum()"
      ],
      "execution_count": null,
      "outputs": []
    },
    {
      "cell_type": "code",
      "metadata": {
        "colab": {
          "base_uri": "https://localhost:8080/"
        },
        "id": "yAYph_Wi2pwg",
        "outputId": "5c58999e-85c1-4ba4-9efe-3cd0e62716a7"
      },
      "source": [
        "serie_mais_vendidos_JP = pd.read_csv('Video_Games_Sales_as_at_22_Dec_2016.csv', usecols=['Name', 'JP_Sales'], index_col=['Name'], squeeze=True)\n",
        "serie_mais_vendidos_JP.sort_values(ascending=False)"
      ],
      "execution_count": null,
      "outputs": [
        {
          "output_type": "execute_result",
          "data": {
            "text/plain": [
              "Name\n",
              "Pokemon Red/Pokemon Blue         10.22\n",
              "Pokemon Gold/Pokemon Silver       7.20\n",
              "Super Mario Bros.                 6.81\n",
              "New Super Mario Bros.             6.50\n",
              "Pokemon Diamond/Pokemon Pearl     6.04\n",
              "                                 ...  \n",
              "Mega Man & Bass                   0.00\n",
              "Airblade                          0.00\n",
              "Again                             0.00\n",
              "Grand Slam Tennis 2               0.00\n",
              "Board Game: Top Shop              0.00\n",
              "Name: JP_Sales, Length: 16719, dtype: float64"
            ]
          },
          "metadata": {
            "tags": []
          },
          "execution_count": 274
        }
      ]
    },
    {
      "cell_type": "code",
      "metadata": {
        "id": "KPjKeFnA27Lw"
      },
      "source": [
        "total_5p_JP = serie_mais_vendidos_JP.iloc[0 : round(percent)].sum()"
      ],
      "execution_count": null,
      "outputs": []
    },
    {
      "cell_type": "code",
      "metadata": {
        "colab": {
          "base_uri": "https://localhost:8080/"
        },
        "id": "ESROz0895tS-",
        "outputId": "802eb0cb-e246-4a1b-d3fe-6ac783615382"
      },
      "source": [
        "print(f\"5% dos jogos vendidos na NA: {round(total_5p_NA)} jogos\")\n",
        "print(f\"5% dos jogos vendidos na EU: {round(total_5p_EU)} jogos\")\n",
        "print(f\"5% dos jogos vendidos no JP: {round(total_5p_JP)} jogos\")"
      ],
      "execution_count": null,
      "outputs": [
        {
          "output_type": "stream",
          "text": [
            "5% dos jogos vendidos na NA: 1928 jogos\n",
            "5% dos jogos vendidos na EU: 1172 jogos\n",
            "5% dos jogos vendidos no JP: 513 jogos\n"
          ],
          "name": "stdout"
        }
      ]
    },
    {
      "cell_type": "markdown",
      "metadata": {
        "id": "HTICSVmsVJx0"
      },
      "source": [
        "## **14) Qual a plataforma de games com maior número de games neste dataset?**"
      ]
    },
    {
      "cell_type": "code",
      "metadata": {
        "id": "7ATwClWJIceF",
        "colab": {
          "base_uri": "https://localhost:8080/"
        },
        "outputId": "cdfc297a-17c3-4818-f8b6-ee8db621bdec"
      },
      "source": [
        "plataformas = pd.read_csv('Video_Games_Sales_as_at_22_Dec_2016.csv', usecols=['Name', 'Platform'], index_col=['Platform'], squeeze=True)\n",
        "plataformas"
      ],
      "execution_count": null,
      "outputs": [
        {
          "output_type": "execute_result",
          "data": {
            "text/plain": [
              "Platform\n",
              "Wii                        Wii Sports\n",
              "NES                 Super Mario Bros.\n",
              "Wii                    Mario Kart Wii\n",
              "Wii                 Wii Sports Resort\n",
              "GB           Pokemon Red/Pokemon Blue\n",
              "                    ...              \n",
              "PS3     Samurai Warriors: Sanada Maru\n",
              "X360                 LMA Manager 2007\n",
              "PSV           Haitaka no Psychedelica\n",
              "GBA                  Spirits & Spells\n",
              "PSV               Winning Post 8 2016\n",
              "Name: Name, Length: 16719, dtype: object"
            ]
          },
          "metadata": {
            "tags": []
          },
          "execution_count": 239
        }
      ]
    },
    {
      "cell_type": "code",
      "metadata": {
        "colab": {
          "base_uri": "https://localhost:8080/"
        },
        "id": "XYQZGwvDZeBZ",
        "outputId": "2fb17637-4a72-49b0-d2b1-19e56929dd3b"
      },
      "source": [
        "plataformas.loc['Wii']"
      ],
      "execution_count": null,
      "outputs": [
        {
          "output_type": "execute_result",
          "data": {
            "text/plain": [
              "Platform\n",
              "Wii                                           Wii Sports\n",
              "Wii                                       Mario Kart Wii\n",
              "Wii                                    Wii Sports Resort\n",
              "Wii                                             Wii Play\n",
              "Wii                            New Super Mario Bros. Wii\n",
              "                             ...                        \n",
              "Wii                                            Bomberman\n",
              "Wii                     The Ultimate Battle of the Sexes\n",
              "Wii             Mahou Sensei Negima!? Neo-Pactio Fight!!\n",
              "Wii                Help Wanted: 50 Wacky Jobs (jp sales)\n",
              "Wii    Yattaman Wii: BikkuriDokkiri Machine de Mou Ra...\n",
              "Name: Name, Length: 1320, dtype: object"
            ]
          },
          "metadata": {
            "tags": []
          },
          "execution_count": 240
        }
      ]
    },
    {
      "cell_type": "code",
      "metadata": {
        "colab": {
          "base_uri": "https://localhost:8080/"
        },
        "id": "WmBqD6nnzB_u",
        "outputId": "23fabec0-d42f-4bd7-a9cb-18718fe39b06"
      },
      "source": [
        "plataformas.loc['PS2']"
      ],
      "execution_count": null,
      "outputs": [
        {
          "output_type": "execute_result",
          "data": {
            "text/plain": [
              "Platform\n",
              "PS2                       Grand Theft Auto: San Andreas\n",
              "PS2                         Grand Theft Auto: Vice City\n",
              "PS2                              Gran Turismo 3: A-Spec\n",
              "PS2                                Grand Theft Auto III\n",
              "PS2                                      Gran Turismo 4\n",
              "                             ...                       \n",
              "PS2        Sugar + Spice! Anoko no Suteki na Nanimokamo\n",
              "PS2                                      Kanokon: Esuii\n",
              "PS2                    Scarlett: Nichijou no Kyoukaisen\n",
              "PS2                                           Real Rode\n",
              "PS2    SCORE International Baja 1000: The Official Game\n",
              "Name: Name, Length: 2161, dtype: object"
            ]
          },
          "metadata": {
            "tags": []
          },
          "execution_count": 247
        }
      ]
    },
    {
      "cell_type": "code",
      "metadata": {
        "colab": {
          "base_uri": "https://localhost:8080/"
        },
        "id": "esUGE4EizuxU",
        "outputId": "740279ed-cb2c-4978-e909-3cc76177f4a3"
      },
      "source": [
        "plataformas.loc['X360']"
      ],
      "execution_count": null,
      "outputs": [
        {
          "output_type": "execute_result",
          "data": {
            "text/plain": [
              "Platform\n",
              "X360                 Kinect Adventures!\n",
              "X360                 Grand Theft Auto V\n",
              "X360     Call of Duty: Modern Warfare 3\n",
              "X360            Call of Duty: Black Ops\n",
              "X360         Call of Duty: Black Ops II\n",
              "                     ...               \n",
              "X360           Dragon Ball Z for Kinect\n",
              "X360    World Snooker Championship 2007\n",
              "X360        Metal Gear Solid HD Edition\n",
              "X360                 Ben 10 Omniverse 2\n",
              "X360                   LMA Manager 2007\n",
              "Name: Name, Length: 1262, dtype: object"
            ]
          },
          "metadata": {
            "tags": []
          },
          "execution_count": 253
        }
      ]
    },
    {
      "cell_type": "markdown",
      "metadata": {
        "id": "glAU-1mcKYIM"
      },
      "source": [
        "## **15) Verifique se as plataformas com maior total de vendas em cada região são as mesmas**"
      ]
    },
    {
      "cell_type": "code",
      "metadata": {
        "id": "FSBvJJRmLhCo",
        "colab": {
          "base_uri": "https://localhost:8080/"
        },
        "outputId": "bbf508a2-253c-4235-ccac-a8e70a4ced8c"
      },
      "source": [
        "video_games.groupby(['Platform']).sum()['NA_Sales']"
      ],
      "execution_count": null,
      "outputs": [
        {
          "output_type": "execute_result",
          "data": {
            "text/plain": [
              "Platform\n",
              "2600     90.60\n",
              "3DO       0.00\n",
              "3DS      83.49\n",
              "DC        5.43\n",
              "DS      382.67\n",
              "GB      114.32\n",
              "GBA     187.54\n",
              "GC      133.46\n",
              "GEN      21.05\n",
              "GG        0.00\n",
              "N64     139.02\n",
              "NES     125.94\n",
              "NG        0.00\n",
              "PC       94.53\n",
              "PCFX      0.00\n",
              "PS      336.52\n",
              "PS2     583.84\n",
              "PS3     393.49\n",
              "PS4     108.74\n",
              "PSP     109.17\n",
              "PSV      12.58\n",
              "SAT       0.72\n",
              "SCD       1.00\n",
              "SNES     61.23\n",
              "TG16      0.00\n",
              "WS        0.00\n",
              "Wii     496.90\n",
              "WiiU     38.10\n",
              "X360    602.47\n",
              "XB      186.69\n",
              "XOne     93.12\n",
              "Name: NA_Sales, dtype: float64"
            ]
          },
          "metadata": {
            "tags": []
          },
          "execution_count": 155
        }
      ]
    },
    {
      "cell_type": "code",
      "metadata": {
        "colab": {
          "base_uri": "https://localhost:8080/"
        },
        "id": "xVrbdP-Cljou",
        "outputId": "7fe5f3e3-c0e0-4ede-8aa4-12aa3e9c5e69"
      },
      "source": [
        "video_games.groupby(['Platform']).sum()['EU_Sales']"
      ],
      "execution_count": null,
      "outputs": [
        {
          "output_type": "execute_result",
          "data": {
            "text/plain": [
              "Platform\n",
              "2600      5.47\n",
              "3DO       0.00\n",
              "3DS      61.48\n",
              "DC        1.69\n",
              "DS      188.89\n",
              "GB       47.82\n",
              "GBA      75.25\n",
              "GC       38.71\n",
              "GEN       6.05\n",
              "GG        0.00\n",
              "N64      41.06\n",
              "NES      21.15\n",
              "NG        0.00\n",
              "PC      142.44\n",
              "PCFX      0.00\n",
              "PS      213.61\n",
              "PS2     339.29\n",
              "PS3     330.29\n",
              "PS4     141.09\n",
              "PSP      66.68\n",
              "PSV      13.12\n",
              "SAT       0.54\n",
              "SCD       0.36\n",
              "SNES     19.04\n",
              "TG16      0.00\n",
              "WS        0.00\n",
              "Wii     262.21\n",
              "WiiU     25.13\n",
              "X360    270.76\n",
              "XB       60.95\n",
              "XOne     51.59\n",
              "Name: EU_Sales, dtype: float64"
            ]
          },
          "metadata": {
            "tags": []
          },
          "execution_count": 156
        }
      ]
    },
    {
      "cell_type": "code",
      "metadata": {
        "colab": {
          "base_uri": "https://localhost:8080/"
        },
        "id": "uw9W8K3GlrDM",
        "outputId": "caea5479-20ed-4782-d53a-f4d41d8784d2"
      },
      "source": [
        "video_games.groupby(['Platform']).sum()['JP_Sales']"
      ],
      "execution_count": null,
      "outputs": [
        {
          "output_type": "execute_result",
          "data": {
            "text/plain": [
              "Platform\n",
              "2600      0.00\n",
              "3DO       0.10\n",
              "3DS     100.67\n",
              "DC        8.56\n",
              "DS      175.57\n",
              "GB       85.12\n",
              "GBA      47.33\n",
              "GC       21.58\n",
              "GEN       2.70\n",
              "GG        0.04\n",
              "N64      34.22\n",
              "NES      98.65\n",
              "NG        1.44\n",
              "PC        0.17\n",
              "PCFX      0.03\n",
              "PS      139.82\n",
              "PS2     139.20\n",
              "PS3      80.19\n",
              "PS4      16.00\n",
              "PSP      76.78\n",
              "PSV      21.93\n",
              "SAT      32.26\n",
              "SCD       0.45\n",
              "SNES    116.55\n",
              "TG16      0.16\n",
              "WS        1.42\n",
              "Wii      69.33\n",
              "WiiU     13.01\n",
              "X360     12.43\n",
              "XB        1.38\n",
              "XOne      0.34\n",
              "Name: JP_Sales, dtype: float64"
            ]
          },
          "metadata": {
            "tags": []
          },
          "execution_count": 157
        }
      ]
    },
    {
      "cell_type": "code",
      "metadata": {
        "colab": {
          "base_uri": "https://localhost:8080/"
        },
        "id": "R_mSfPr-l2zR",
        "outputId": "93e0fcc5-35d1-41b1-cbe3-6ea02371987c"
      },
      "source": [
        "video_games.groupby(['Platform']).sum()['Other_Sales']"
      ],
      "execution_count": null,
      "outputs": [
        {
          "output_type": "execute_result",
          "data": {
            "text/plain": [
              "Platform\n",
              "2600      0.91\n",
              "3DO       0.00\n",
              "3DS      13.36\n",
              "DC        0.27\n",
              "DS       59.28\n",
              "GB        8.20\n",
              "GBA       7.73\n",
              "GC        5.18\n",
              "GEN       0.97\n",
              "GG        0.00\n",
              "N64       4.38\n",
              "NES       5.31\n",
              "NG        0.00\n",
              "PC       22.38\n",
              "PCFX      0.00\n",
              "PS       40.91\n",
              "PS2     193.44\n",
              "PS3     135.68\n",
              "PS4      48.35\n",
              "PSP      41.42\n",
              "PSV       6.46\n",
              "SAT       0.07\n",
              "SCD       0.05\n",
              "SNES      3.22\n",
              "TG16      0.00\n",
              "WS        0.00\n",
              "Wii      79.07\n",
              "WiiU      5.95\n",
              "X360     85.76\n",
              "XB        8.72\n",
              "XOne     14.27\n",
              "Name: Other_Sales, dtype: float64"
            ]
          },
          "metadata": {
            "tags": []
          },
          "execution_count": 158
        }
      ]
    },
    {
      "cell_type": "code",
      "metadata": {
        "colab": {
          "base_uri": "https://localhost:8080/"
        },
        "id": "WdjtRJFol9AK",
        "outputId": "5af06974-200c-4fce-8b18-c1f94286cb70"
      },
      "source": [
        "video_games.groupby(['Platform']).sum()['Global_Sales']"
      ],
      "execution_count": null,
      "outputs": [
        {
          "output_type": "execute_result",
          "data": {
            "text/plain": [
              "Platform\n",
              "2600      97.08\n",
              "3DO        0.10\n",
              "3DS      259.09\n",
              "DC        15.97\n",
              "DS       807.10\n",
              "GB       255.45\n",
              "GBA      318.50\n",
              "GC       199.36\n",
              "GEN       30.78\n",
              "GG         0.04\n",
              "N64      218.88\n",
              "NES      251.07\n",
              "NG         1.44\n",
              "PC       260.30\n",
              "PCFX       0.03\n",
              "PS       730.68\n",
              "PS2     1255.64\n",
              "PS3      939.43\n",
              "PS4      314.23\n",
              "PSP      294.30\n",
              "PSV       54.12\n",
              "SAT       33.59\n",
              "SCD        1.87\n",
              "SNES     200.05\n",
              "TG16       0.16\n",
              "WS         1.42\n",
              "Wii      908.13\n",
              "WiiU      82.16\n",
              "X360     971.63\n",
              "XB       258.26\n",
              "XOne     159.44\n",
              "Name: Global_Sales, dtype: float64"
            ]
          },
          "metadata": {
            "tags": []
          },
          "execution_count": 159
        }
      ]
    },
    {
      "cell_type": "markdown",
      "metadata": {
        "id": "GopQKjUZLh6r"
      },
      "source": [
        "## **16) Verifique qual o total de vendas de jogos de Sports no Xbox na América do Norte**"
      ]
    },
    {
      "cell_type": "code",
      "metadata": {
        "id": "6vbj19YwZPfd",
        "colab": {
          "base_uri": "https://localhost:8080/",
          "height": 450
        },
        "outputId": "b6aed512-6e89-49db-80cd-4b34baea5efd"
      },
      "source": [
        "serie_game_xbox = pd.read_csv('Video_Games_Sales_as_at_22_Dec_2016.csv', usecols=['Name', 'Platform', 'Genre', 'NA_Sales'], index_col=['Genre'])\n",
        "serie_game_xbox"
      ],
      "execution_count": null,
      "outputs": [
        {
          "output_type": "execute_result",
          "data": {
            "text/html": [
              "<div>\n",
              "<style scoped>\n",
              "    .dataframe tbody tr th:only-of-type {\n",
              "        vertical-align: middle;\n",
              "    }\n",
              "\n",
              "    .dataframe tbody tr th {\n",
              "        vertical-align: top;\n",
              "    }\n",
              "\n",
              "    .dataframe thead th {\n",
              "        text-align: right;\n",
              "    }\n",
              "</style>\n",
              "<table border=\"1\" class=\"dataframe\">\n",
              "  <thead>\n",
              "    <tr style=\"text-align: right;\">\n",
              "      <th></th>\n",
              "      <th>Name</th>\n",
              "      <th>Platform</th>\n",
              "      <th>NA_Sales</th>\n",
              "    </tr>\n",
              "    <tr>\n",
              "      <th>Genre</th>\n",
              "      <th></th>\n",
              "      <th></th>\n",
              "      <th></th>\n",
              "    </tr>\n",
              "  </thead>\n",
              "  <tbody>\n",
              "    <tr>\n",
              "      <th>Sports</th>\n",
              "      <td>Wii Sports</td>\n",
              "      <td>Wii</td>\n",
              "      <td>41.36</td>\n",
              "    </tr>\n",
              "    <tr>\n",
              "      <th>Platform</th>\n",
              "      <td>Super Mario Bros.</td>\n",
              "      <td>NES</td>\n",
              "      <td>29.08</td>\n",
              "    </tr>\n",
              "    <tr>\n",
              "      <th>Racing</th>\n",
              "      <td>Mario Kart Wii</td>\n",
              "      <td>Wii</td>\n",
              "      <td>15.68</td>\n",
              "    </tr>\n",
              "    <tr>\n",
              "      <th>Sports</th>\n",
              "      <td>Wii Sports Resort</td>\n",
              "      <td>Wii</td>\n",
              "      <td>15.61</td>\n",
              "    </tr>\n",
              "    <tr>\n",
              "      <th>Role-Playing</th>\n",
              "      <td>Pokemon Red/Pokemon Blue</td>\n",
              "      <td>GB</td>\n",
              "      <td>11.27</td>\n",
              "    </tr>\n",
              "    <tr>\n",
              "      <th>...</th>\n",
              "      <td>...</td>\n",
              "      <td>...</td>\n",
              "      <td>...</td>\n",
              "    </tr>\n",
              "    <tr>\n",
              "      <th>Action</th>\n",
              "      <td>Samurai Warriors: Sanada Maru</td>\n",
              "      <td>PS3</td>\n",
              "      <td>0.00</td>\n",
              "    </tr>\n",
              "    <tr>\n",
              "      <th>Sports</th>\n",
              "      <td>LMA Manager 2007</td>\n",
              "      <td>X360</td>\n",
              "      <td>0.00</td>\n",
              "    </tr>\n",
              "    <tr>\n",
              "      <th>Adventure</th>\n",
              "      <td>Haitaka no Psychedelica</td>\n",
              "      <td>PSV</td>\n",
              "      <td>0.00</td>\n",
              "    </tr>\n",
              "    <tr>\n",
              "      <th>Platform</th>\n",
              "      <td>Spirits &amp; Spells</td>\n",
              "      <td>GBA</td>\n",
              "      <td>0.01</td>\n",
              "    </tr>\n",
              "    <tr>\n",
              "      <th>Simulation</th>\n",
              "      <td>Winning Post 8 2016</td>\n",
              "      <td>PSV</td>\n",
              "      <td>0.00</td>\n",
              "    </tr>\n",
              "  </tbody>\n",
              "</table>\n",
              "<p>16719 rows × 3 columns</p>\n",
              "</div>"
            ],
            "text/plain": [
              "                                       Name Platform  NA_Sales\n",
              "Genre                                                         \n",
              "Sports                           Wii Sports      Wii     41.36\n",
              "Platform                  Super Mario Bros.      NES     29.08\n",
              "Racing                       Mario Kart Wii      Wii     15.68\n",
              "Sports                    Wii Sports Resort      Wii     15.61\n",
              "Role-Playing       Pokemon Red/Pokemon Blue       GB     11.27\n",
              "...                                     ...      ...       ...\n",
              "Action        Samurai Warriors: Sanada Maru      PS3      0.00\n",
              "Sports                     LMA Manager 2007     X360      0.00\n",
              "Adventure           Haitaka no Psychedelica      PSV      0.00\n",
              "Platform                   Spirits & Spells      GBA      0.01\n",
              "Simulation              Winning Post 8 2016      PSV      0.00\n",
              "\n",
              "[16719 rows x 3 columns]"
            ]
          },
          "metadata": {
            "tags": []
          },
          "execution_count": 183
        }
      ]
    },
    {
      "cell_type": "code",
      "metadata": {
        "colab": {
          "base_uri": "https://localhost:8080/",
          "height": 450
        },
        "id": "aFvtp3DLoiMZ",
        "outputId": "30f8369d-843c-433d-fdad-a8cfa286de18"
      },
      "source": [
        "serie_game_xbox.groupby(['Genre', 'Platform']).sum()"
      ],
      "execution_count": null,
      "outputs": [
        {
          "output_type": "execute_result",
          "data": {
            "text/html": [
              "<div>\n",
              "<style scoped>\n",
              "    .dataframe tbody tr th:only-of-type {\n",
              "        vertical-align: middle;\n",
              "    }\n",
              "\n",
              "    .dataframe tbody tr th {\n",
              "        vertical-align: top;\n",
              "    }\n",
              "\n",
              "    .dataframe thead th {\n",
              "        text-align: right;\n",
              "    }\n",
              "</style>\n",
              "<table border=\"1\" class=\"dataframe\">\n",
              "  <thead>\n",
              "    <tr style=\"text-align: right;\">\n",
              "      <th></th>\n",
              "      <th></th>\n",
              "      <th>NA_Sales</th>\n",
              "    </tr>\n",
              "    <tr>\n",
              "      <th>Genre</th>\n",
              "      <th>Platform</th>\n",
              "      <th></th>\n",
              "    </tr>\n",
              "  </thead>\n",
              "  <tbody>\n",
              "    <tr>\n",
              "      <th rowspan=\"5\" valign=\"top\">Action</th>\n",
              "      <th>2600</th>\n",
              "      <td>27.39</td>\n",
              "    </tr>\n",
              "    <tr>\n",
              "      <th>3DS</th>\n",
              "      <td>19.80</td>\n",
              "    </tr>\n",
              "    <tr>\n",
              "      <th>DC</th>\n",
              "      <td>0.41</td>\n",
              "    </tr>\n",
              "    <tr>\n",
              "      <th>DS</th>\n",
              "      <td>65.00</td>\n",
              "    </tr>\n",
              "    <tr>\n",
              "      <th>GB</th>\n",
              "      <td>4.07</td>\n",
              "    </tr>\n",
              "    <tr>\n",
              "      <th>...</th>\n",
              "      <th>...</th>\n",
              "      <td>...</td>\n",
              "    </tr>\n",
              "    <tr>\n",
              "      <th rowspan=\"5\" valign=\"top\">Strategy</th>\n",
              "      <th>Wii</th>\n",
              "      <td>2.32</td>\n",
              "    </tr>\n",
              "    <tr>\n",
              "      <th>WiiU</th>\n",
              "      <td>0.49</td>\n",
              "    </tr>\n",
              "    <tr>\n",
              "      <th>X360</th>\n",
              "      <td>6.50</td>\n",
              "    </tr>\n",
              "    <tr>\n",
              "      <th>XB</th>\n",
              "      <td>2.05</td>\n",
              "    </tr>\n",
              "    <tr>\n",
              "      <th>XOne</th>\n",
              "      <td>0.27</td>\n",
              "    </tr>\n",
              "  </tbody>\n",
              "</table>\n",
              "<p>293 rows × 1 columns</p>\n",
              "</div>"
            ],
            "text/plain": [
              "                   NA_Sales\n",
              "Genre    Platform          \n",
              "Action   2600         27.39\n",
              "         3DS          19.80\n",
              "         DC            0.41\n",
              "         DS           65.00\n",
              "         GB            4.07\n",
              "...                     ...\n",
              "Strategy Wii           2.32\n",
              "         WiiU          0.49\n",
              "         X360          6.50\n",
              "         XB            2.05\n",
              "         XOne          0.27\n",
              "\n",
              "[293 rows x 1 columns]"
            ]
          },
          "metadata": {
            "tags": []
          },
          "execution_count": 185
        }
      ]
    },
    {
      "cell_type": "code",
      "metadata": {
        "id": "lAbwdKhGqHrk"
      },
      "source": [
        "df_X360 = serie_game_xbox[serie_game_xbox['Platform'] =='X360']\n",
        "df_XB = serie_game_xbox[serie_game_xbox['Platform'] =='XB']\n",
        "df_XOne = serie_game_xbox[serie_game_xbox['Platform'] =='XOne']"
      ],
      "execution_count": null,
      "outputs": []
    },
    {
      "cell_type": "code",
      "metadata": {
        "colab": {
          "base_uri": "https://localhost:8080/"
        },
        "id": "OPPxYu1Nr61f",
        "outputId": "b3f6f975-3c20-4ddd-8864-5d233af78883"
      },
      "source": [
        "lista_X=[df_X360, df_XB, df_XOne]\n",
        "lista_X"
      ],
      "execution_count": null,
      "outputs": [
        {
          "output_type": "execute_result",
          "data": {
            "text/plain": [
              "[                                     Name Platform  NA_Sales\n",
              " Genre                                                       \n",
              " Misc                   Kinect Adventures!     X360     15.00\n",
              " Action                 Grand Theft Auto V     X360      9.66\n",
              " Shooter    Call of Duty: Modern Warfare 3     X360      9.04\n",
              " Shooter           Call of Duty: Black Ops     X360      9.70\n",
              " Shooter        Call of Duty: Black Ops II     X360      8.25\n",
              " ...                                   ...      ...       ...\n",
              " Fighting         Dragon Ball Z for Kinect     X360      0.01\n",
              " Sports    World Snooker Championship 2007     X360      0.00\n",
              " Action        Metal Gear Solid HD Edition     X360      0.00\n",
              " Action                 Ben 10 Omniverse 2     X360      0.00\n",
              " Sports                   LMA Manager 2007     X360      0.00\n",
              " \n",
              " [1262 rows x 3 columns],\n",
              "                                           Name Platform  NA_Sales\n",
              " Genre                                                            \n",
              " Shooter                                 Halo 2       XB      6.82\n",
              " Shooter                   Halo: Combat Evolved       XB      4.98\n",
              " Action              Tom Clancy's Splinter Cell       XB      1.85\n",
              " Role-Playing  The Elder Scrolls III: Morrowind       XB      2.09\n",
              " Role-Playing                             Fable       XB      1.99\n",
              " ...                                        ...      ...       ...\n",
              " Sports                                 NHL 2K7       XB      0.01\n",
              " Racing                              Powerdrome       XB      0.01\n",
              " Action          Crouching Tiger, Hidden Dragon       XB      0.01\n",
              " Puzzle                        Super Bubble Pop       XB      0.01\n",
              " Sports                    ESPN NBA 2Night 2002       XB      0.01\n",
              " \n",
              " [824 rows x 3 columns],\n",
              "                                                        Name Platform  NA_Sales\n",
              " Genre                                                                         \n",
              " Shooter                           Call of Duty: Black Ops 3     XOne      4.59\n",
              " Action                                   Grand Theft Auto V     XOne      2.81\n",
              " Shooter                      Call of Duty: Advanced Warfare     XOne      3.22\n",
              " Shooter                                   Halo 5: Guardians     XOne      2.78\n",
              " Role-Playing                                      Fallout 4     XOne      2.51\n",
              " ...                                                     ...      ...       ...\n",
              " Racing                             Sébastien Loeb Rally Evo     XOne      0.00\n",
              " Sports                                    Rugby Challenge 3     XOne      0.00\n",
              " Action                                               ZombiU     XOne      0.00\n",
              " Action                                     Prison Architect     XOne      0.01\n",
              " Action        Metal Gear Solid V: The Definitive Experience     XOne      0.01\n",
              " \n",
              " [247 rows x 3 columns]]"
            ]
          },
          "metadata": {
            "tags": []
          },
          "execution_count": 238
        }
      ]
    },
    {
      "cell_type": "code",
      "metadata": {
        "colab": {
          "base_uri": "https://localhost:8080/",
          "height": 111
        },
        "id": "5MgEWzbOsvp6",
        "outputId": "75a3944e-439d-4500-bd15-354f78c4fcb3"
      },
      "source": [
        "df_X360_result = df_X360.groupby(['Genre']).sum()\n",
        "df_X360_result.loc[['Sports']]"
      ],
      "execution_count": null,
      "outputs": [
        {
          "output_type": "execute_result",
          "data": {
            "text/html": [
              "<div>\n",
              "<style scoped>\n",
              "    .dataframe tbody tr th:only-of-type {\n",
              "        vertical-align: middle;\n",
              "    }\n",
              "\n",
              "    .dataframe tbody tr th {\n",
              "        vertical-align: top;\n",
              "    }\n",
              "\n",
              "    .dataframe thead th {\n",
              "        text-align: right;\n",
              "    }\n",
              "</style>\n",
              "<table border=\"1\" class=\"dataframe\">\n",
              "  <thead>\n",
              "    <tr style=\"text-align: right;\">\n",
              "      <th></th>\n",
              "      <th>NA_Sales</th>\n",
              "    </tr>\n",
              "    <tr>\n",
              "      <th>Genre</th>\n",
              "      <th></th>\n",
              "    </tr>\n",
              "  </thead>\n",
              "  <tbody>\n",
              "    <tr>\n",
              "      <th>Sports</th>\n",
              "      <td>90.02</td>\n",
              "    </tr>\n",
              "  </tbody>\n",
              "</table>\n",
              "</div>"
            ],
            "text/plain": [
              "        NA_Sales\n",
              "Genre           \n",
              "Sports     90.02"
            ]
          },
          "metadata": {
            "tags": []
          },
          "execution_count": 237
        }
      ]
    },
    {
      "cell_type": "markdown",
      "metadata": {
        "id": "GvYzIVpBtgVg"
      },
      "source": [
        "**O total de vendas na NA de jogos de esportes da plataforma X360 foi de 90.02.**\n"
      ]
    },
    {
      "cell_type": "code",
      "metadata": {
        "colab": {
          "base_uri": "https://localhost:8080/",
          "height": 111
        },
        "id": "42t0skfps_1D",
        "outputId": "32b171f9-e10d-4e81-91eb-7e6aed8e57aa"
      },
      "source": [
        "df_XB_result = df_XB.groupby(['Genre']).sum()\n",
        "df_XB_result.loc[['Sports']]"
      ],
      "execution_count": null,
      "outputs": [
        {
          "output_type": "execute_result",
          "data": {
            "text/html": [
              "<div>\n",
              "<style scoped>\n",
              "    .dataframe tbody tr th:only-of-type {\n",
              "        vertical-align: middle;\n",
              "    }\n",
              "\n",
              "    .dataframe tbody tr th {\n",
              "        vertical-align: top;\n",
              "    }\n",
              "\n",
              "    .dataframe thead th {\n",
              "        text-align: right;\n",
              "    }\n",
              "</style>\n",
              "<table border=\"1\" class=\"dataframe\">\n",
              "  <thead>\n",
              "    <tr style=\"text-align: right;\">\n",
              "      <th></th>\n",
              "      <th>NA_Sales</th>\n",
              "    </tr>\n",
              "    <tr>\n",
              "      <th>Genre</th>\n",
              "      <th></th>\n",
              "    </tr>\n",
              "  </thead>\n",
              "  <tbody>\n",
              "    <tr>\n",
              "      <th>Sports</th>\n",
              "      <td>41.02</td>\n",
              "    </tr>\n",
              "  </tbody>\n",
              "</table>\n",
              "</div>"
            ],
            "text/plain": [
              "        NA_Sales\n",
              "Genre           \n",
              "Sports     41.02"
            ]
          },
          "metadata": {
            "tags": []
          },
          "execution_count": 236
        }
      ]
    },
    {
      "cell_type": "markdown",
      "metadata": {
        "id": "XYDJ9dpSyFbn"
      },
      "source": [
        "**O total de vendas na NA de jogos de esportes da plataforma XB foi de 41.02.**"
      ]
    },
    {
      "cell_type": "code",
      "metadata": {
        "colab": {
          "base_uri": "https://localhost:8080/",
          "height": 111
        },
        "id": "VquosHrlte2o",
        "outputId": "0b443cbc-f11e-4190-c47c-9bd0ec69119d"
      },
      "source": [
        "df_XOne_result = df_XOne.groupby(['Genre']).sum()\n",
        "df_XOne_result.loc[['Sports']]"
      ],
      "execution_count": null,
      "outputs": [
        {
          "output_type": "execute_result",
          "data": {
            "text/html": [
              "<div>\n",
              "<style scoped>\n",
              "    .dataframe tbody tr th:only-of-type {\n",
              "        vertical-align: middle;\n",
              "    }\n",
              "\n",
              "    .dataframe tbody tr th {\n",
              "        vertical-align: top;\n",
              "    }\n",
              "\n",
              "    .dataframe thead th {\n",
              "        text-align: right;\n",
              "    }\n",
              "</style>\n",
              "<table border=\"1\" class=\"dataframe\">\n",
              "  <thead>\n",
              "    <tr style=\"text-align: right;\">\n",
              "      <th></th>\n",
              "      <th>NA_Sales</th>\n",
              "    </tr>\n",
              "    <tr>\n",
              "      <th>Genre</th>\n",
              "      <th></th>\n",
              "    </tr>\n",
              "  </thead>\n",
              "  <tbody>\n",
              "    <tr>\n",
              "      <th>Sports</th>\n",
              "      <td>15.59</td>\n",
              "    </tr>\n",
              "  </tbody>\n",
              "</table>\n",
              "</div>"
            ],
            "text/plain": [
              "        NA_Sales\n",
              "Genre           \n",
              "Sports     15.59"
            ]
          },
          "metadata": {
            "tags": []
          },
          "execution_count": 235
        }
      ]
    },
    {
      "cell_type": "markdown",
      "metadata": {
        "id": "0AYETGQDyKHz"
      },
      "source": [
        "**O total de vendas na NA de jogos de esportes da plataforma XOne foi de 15.59.**"
      ]
    }
  ]
}