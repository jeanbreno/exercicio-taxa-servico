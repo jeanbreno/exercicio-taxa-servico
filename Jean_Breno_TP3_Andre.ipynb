{
  "nbformat": 4,
  "nbformat_minor": 0,
  "metadata": {
    "colab": {
      "name": "Jean_Breno_TP3_Andre.ipynb",
      "provenance": [],
      "collapsed_sections": [],
      "authorship_tag": "ABX9TyMO3iPQCbNEIIiCVD4w97mU",
      "include_colab_link": true
    },
    "kernelspec": {
      "name": "python3",
      "display_name": "Python 3"
    },
    "language_info": {
      "name": "python"
    }
  },
  "cells": [
    {
      "cell_type": "markdown",
      "metadata": {
        "id": "view-in-github",
        "colab_type": "text"
      },
      "source": [
        "<a href=\"https://colab.research.google.com/github/jeanbreno/pb-arquitetura-comp-redes-so/blob/main/Jean_Breno_TP3_Andre.ipynb\" target=\"_parent\"><img src=\"https://colab.research.google.com/assets/colab-badge.svg\" alt=\"Open In Colab\"/></a>"
      ]
    },
    {
      "cell_type": "markdown",
      "metadata": {
        "id": "sikThjAR8C76"
      },
      "source": [
        "# **INSTITUTO INFNET**\n",
        "##ALUNO: JEAN BRENO LIMA DE OLIVEIRA\n",
        "##CURSO: ENGENHARIA DE SOFTWARE\n",
        "###EMAIL: jean.oliveira@al.infnet.edu.br\n",
        "---\n",
        "FUNDAMENTOS DE DESENVOLVIMENTO PYTHON\n",
        "* TP3\n",
        "\n",
        "PROFESSOR ANDRÉ VICTOR\n",
        "\n",
        "---\n",
        "\n",
        "---\n"
      ]
    },
    {
      "cell_type": "markdown",
      "metadata": {
        "id": "Hmc_ujU1Obph"
      },
      "source": [
        "# **1 - Trabalhando com Listas**\n",
        "\n"
      ]
    },
    {
      "cell_type": "code",
      "metadata": {
        "colab": {
          "base_uri": "https://localhost:8080/"
        },
        "id": "tQoOWD39UXpR",
        "outputId": "ab3fe240-01f5-42dc-a21a-e5397465b20d"
      },
      "source": [
        "lista = []\n",
        "for i in range(1, 6):\n",
        "  lista.append(i)\n",
        "\n",
        "print(lista)  \n"
      ],
      "execution_count": null,
      "outputs": [
        {
          "output_type": "stream",
          "text": [
            "[1, 2, 3, 4, 5]\n"
          ],
          "name": "stdout"
        }
      ]
    },
    {
      "cell_type": "code",
      "metadata": {
        "colab": {
          "base_uri": "https://localhost:8080/"
        },
        "id": "i8XRYMRYU-zG",
        "outputId": "35852251-c11f-43b0-acdc-3c2c6ecb26fb"
      },
      "source": [
        "if 3 in lista and 6 in lista:\n",
        "  print = (f\"Lista antes de remover itens: {lista}\")\n",
        "  print (\"tem o número 3 e 6 na lista! \\nEles foram removidos com sucesso!\")\n",
        "  numero1 = lista.index(6)\n",
        "  numero2 = lista.index(3)\n",
        "  lista.pop(numero1)\n",
        "  lista.pop(numero2)\n",
        "  print(f\"Lista após remover itens: {lista}\")\n",
        "  print(f\"Tamanho da lista: {len(lista)}\")\n",
        "elif 6 in lista:\n",
        "  text = f\"Lista antes de remover item: {lista}\"\n",
        "  print(text)  \n",
        "  print (\"tem o número 6 na lista! Ele foi removido com sucesso\")\n",
        "  numero = lista.index(6)\n",
        "  lista.pop(numero)\n",
        "  print(f\"Lista após remover itens: {lista}\")\n",
        "  print(f\"Tamanho da lista: {len(lista)}\")\n",
        "elif 3 in lista:\n",
        "  text = f\"Lista antes de remover item: {lista}\"\n",
        "  print(text)\n",
        "  print (\"tem o número 3 na lista! Ele foi removido com sucesso\")\n",
        "  numero = lista.index(3)\n",
        "  lista.pop(numero)\n",
        "  print(f\"Lista após remover itens: {lista}\")\n",
        "  print(f\"Tamanho da lista: {len(lista)}\")\n",
        "\n",
        "else:\n",
        "  print(\"nao tem os numeros 3 e 6 na lista!\")\n",
        "\n"
      ],
      "execution_count": null,
      "outputs": [
        {
          "output_type": "stream",
          "text": [
            "Lista antes de remover item: [1, 2, 3, 4, 5]\n",
            "tem o número 3 na lista! Ele foi removido com sucesso\n",
            "Lista após remover itens: [1, 2, 4, 5]\n",
            "Tamanho da lista: 4\n"
          ],
          "name": "stdout"
        }
      ]
    },
    {
      "cell_type": "code",
      "metadata": {
        "colab": {
          "base_uri": "https://localhost:8080/"
        },
        "id": "SVxLUrv6dnyg",
        "outputId": "463ef2a0-1dce-4975-d5dc-0681aae80888"
      },
      "source": [
        "element = lista[-1]\n",
        "print(f\"Último elemento da lista: {element}\")\n",
        "\n",
        "lista[-1] = 6\n",
        "print(f\"Alterando o último elemento para o número 6: {lista}\")\n"
      ],
      "execution_count": null,
      "outputs": [
        {
          "output_type": "stream",
          "text": [
            "Último elemento da lista: 5\n",
            "Alterando o último elemento para o número 6: [1, 2, 4, 6]\n"
          ],
          "name": "stdout"
        }
      ]
    },
    {
      "cell_type": "markdown",
      "metadata": {
        "id": "XACMZBqFOqEv"
      },
      "source": [
        "# **2 - Leitor de Vetor - 5 números**"
      ]
    },
    {
      "cell_type": "code",
      "metadata": {
        "id": "4wpHB3F5OwQ4",
        "colab": {
          "base_uri": "https://localhost:8080/"
        },
        "outputId": "b59815b1-a7d1-4786-d264-cbe31e73a6bb"
      },
      "source": [
        "vetor1 = [1, 2, 3, 4, 5]\n",
        "for elemento in vetor1:\n",
        "  print(elemento)"
      ],
      "execution_count": null,
      "outputs": [
        {
          "output_type": "stream",
          "text": [
            "1\n",
            "2\n",
            "3\n",
            "4\n",
            "5\n"
          ],
          "name": "stdout"
        }
      ]
    },
    {
      "cell_type": "markdown",
      "metadata": {
        "id": "VuoLqatKOx98"
      },
      "source": [
        "# **3 - Leitor de Vetor - Invertendo Vetor**"
      ]
    },
    {
      "cell_type": "code",
      "metadata": {
        "id": "C3AO1FVuO9Fg"
      },
      "source": [
        "vetor2 = [\"Amarelo\", \"Branco\", \"Cinza\", \"Dourado\", \"Escarlate\", \"Ferrugem\", \"Grená\", \"Íris\", \"Jambo\", \"Lilás\"]"
      ],
      "execution_count": null,
      "outputs": []
    },
    {
      "cell_type": "code",
      "metadata": {
        "colab": {
          "base_uri": "https://localhost:8080/"
        },
        "id": "pLibnHTG5LG7",
        "outputId": "ad89f64e-a49f-450f-c0d3-04ced36b1ccb"
      },
      "source": [
        "for k, v in enumerate(vetor2):\n",
        "  print (k, v)"
      ],
      "execution_count": null,
      "outputs": [
        {
          "output_type": "stream",
          "text": [
            "0 Amarelo\n",
            "1 Branco\n",
            "2 Cinza\n",
            "3 Dourado\n",
            "4 Escarlate\n",
            "5 Ferrugem\n",
            "6 Grená\n",
            "7 Íris\n",
            "8 Jambo\n",
            "9 Lilás\n"
          ],
          "name": "stdout"
        }
      ]
    },
    {
      "cell_type": "code",
      "metadata": {
        "colab": {
          "base_uri": "https://localhost:8080/"
        },
        "id": "5wUhkF025Vpd",
        "outputId": "7ace9eab-014d-4c8e-b914-f3f1a6d8a387"
      },
      "source": [
        "vetor2.reverse()\n",
        "print(vetor2)"
      ],
      "execution_count": null,
      "outputs": [
        {
          "output_type": "stream",
          "text": [
            "['Lilás', 'Jambo', 'Íris', 'Grená', 'Ferrugem', 'Escarlate', 'Dourado', 'Cinza', 'Branco', 'Amarelo']\n"
          ],
          "name": "stdout"
        }
      ]
    },
    {
      "cell_type": "code",
      "metadata": {
        "colab": {
          "base_uri": "https://localhost:8080/"
        },
        "id": "5qMf60uy5kSy",
        "outputId": "9f55a413-cbf8-481c-e785-61e96921f7f7"
      },
      "source": [
        "novalista = []\n",
        "for i in vetor2:\n",
        "  separado = i[::-1]\n",
        "  novalista.append(separado)\n",
        "  \n",
        "print(novalista)"
      ],
      "execution_count": null,
      "outputs": [
        {
          "output_type": "stream",
          "text": [
            "['oleramA', 'ocnarB', 'azniC', 'odaruoD', 'etalracsE', 'megurreF', 'ánerG', 'sirÍ', 'obmaJ', 'sáliL']\n"
          ],
          "name": "stdout"
        }
      ]
    },
    {
      "cell_type": "markdown",
      "metadata": {
        "id": "9O6XnrpEPAsA"
      },
      "source": [
        "# **4 - Vetores - Verificar números iguais a 0**"
      ]
    },
    {
      "cell_type": "code",
      "metadata": {
        "id": "8hp84bmpPHkO",
        "colab": {
          "base_uri": "https://localhost:8080/"
        },
        "outputId": "679b79dc-a8f3-4612-ab92-662658dbf287"
      },
      "source": [
        "\n",
        "t = int(input(\"Tamanho do vetor: \"))\n",
        "if t == 0:\n",
        "  print(\"Fim! \")\n",
        "l = []\n",
        "for i in range(t):\n",
        "  n = int(input(f\"Número {i+1}: \"))\n",
        "  l.append(n)\n",
        "\n",
        "repeticoes = l.count(0)\n",
        "if repeticoes == 0:\n",
        "  print(f\"Não existe o número 0 no vetor.\")\n",
        "elif repeticoes == 1:\n",
        "  print(f\"Existe apenas {repeticoes} número 0 no vetor.\")\n",
        "elif repeticoes > 1:\n",
        "  print(f\"Existem {repeticoes} repetições do número 0 no vetor.\")"
      ],
      "execution_count": null,
      "outputs": [
        {
          "output_type": "stream",
          "text": [
            "Tamanho do vetor: 5\n",
            "Número 1: 1\n",
            "Número 2: 0\n",
            "Número 3: 1\n",
            "Número 4: 0\n",
            "Número 5: 1\n",
            "Existem 2 repetições do número 0 no vetor.\n"
          ],
          "name": "stdout"
        }
      ]
    },
    {
      "cell_type": "code",
      "metadata": {
        "id": "kt9GfvyHPKKt",
        "colab": {
          "base_uri": "https://localhost:8080/"
        },
        "outputId": "286c6c6f-088b-4b71-aff5-94288b17f532"
      },
      "source": [
        "print(l)"
      ],
      "execution_count": null,
      "outputs": [
        {
          "output_type": "stream",
          "text": [
            "[1, 0, 1, 0, 1]\n"
          ],
          "name": "stdout"
        }
      ]
    },
    {
      "cell_type": "markdown",
      "metadata": {
        "id": "zQgxI5ewPKdk"
      },
      "source": [
        "# **5 - Alunos e Alturas**"
      ]
    },
    {
      "cell_type": "code",
      "metadata": {
        "colab": {
          "base_uri": "https://localhost:8080/"
        },
        "id": "KLankyeON0LW",
        "outputId": "9f30852a-aaf7-446f-d87a-50e784e7856a"
      },
      "source": [
        "alunos = {}\n",
        "print(\"Digite 'Sair' no nome do aluno para parar a execução do programa.\\n\")\n",
        "flag = True\n",
        "while flag == True:\n",
        "  aluno = str(input(\"Nome do Aluno: \\n\"))\n",
        "  aluno = aluno.upper()\n",
        "  if aluno == 'SAIR':\n",
        "    flag = False\n",
        "    break\n",
        "  altura = float(input(\"Altura do Aluno(m): \\n\"))\n",
        "  alunos[aluno]=altura\n",
        "\n",
        "tamanho = len(alunos)"
      ],
      "execution_count": null,
      "outputs": [
        {
          "output_type": "stream",
          "text": [
            "Digite 'Sair' no nome do aluno para parar a execução do programa.\n",
            "\n",
            "Nome do Aluno: \n",
            "jean\n",
            "Altura do Aluno(m): \n",
            "1.66\n",
            "Nome do Aluno: \n",
            "gabi\n",
            "Altura do Aluno(m): \n",
            "1.55\n",
            "Nome do Aluno: \n",
            "toin\n",
            "Altura do Aluno(m): \n",
            "1.33\n",
            "Nome do Aluno: \n",
            "rob\n",
            "Altura do Aluno(m): \n",
            "1.44\n",
            "Nome do Aluno: \n",
            "sair\n"
          ],
          "name": "stdout"
        }
      ]
    },
    {
      "cell_type": "code",
      "metadata": {
        "colab": {
          "base_uri": "https://localhost:8080/"
        },
        "id": "iIQvPIxyKwOo",
        "outputId": "ed3f98e6-066d-4016-91f0-ad244463d458"
      },
      "source": [
        "total = 0\n",
        "for v in alunos.values():\n",
        "  total = total + v\n",
        "media = total / tamanho\n",
        "\n",
        "print(f\"O somatório das alturas coletadas é: {total} metros.\")\n",
        "print(f\"Foram coletadas {tamanho} alturas. \")\n",
        "print(f\"A média aritmética das alturas coletadas é: {media:.2f} metros.\")"
      ],
      "execution_count": null,
      "outputs": [
        {
          "output_type": "stream",
          "text": [
            "O somatório das alturas coletadas é: 5.98 metros.\n",
            "Foram coletadas 4 alturas. \n",
            "A média aritmética das alturas coletadas é: 1.50 metros.\n"
          ],
          "name": "stdout"
        }
      ]
    },
    {
      "cell_type": "code",
      "metadata": {
        "colab": {
          "base_uri": "https://localhost:8080/"
        },
        "id": "nfl1lmeUogmg",
        "outputId": "f3651d1c-e5f6-4465-df13-094dab01fc46"
      },
      "source": [
        "acima_media = {}\n",
        "for f, a in alunos.items():\n",
        "  if a > media:\n",
        "    acima_media[f] = a\n",
        "print(f\"Alturas acima da média: {acima_media}.\")"
      ],
      "execution_count": null,
      "outputs": [
        {
          "output_type": "stream",
          "text": [
            "Alturas acima da média: {'JEAN': 1.66, 'GABI': 1.55}.\n"
          ],
          "name": "stdout"
        }
      ]
    },
    {
      "cell_type": "code",
      "metadata": {
        "colab": {
          "base_uri": "https://localhost:8080/"
        },
        "id": "RUnYhY6iv_1U",
        "outputId": "e84587f5-d34a-4f7c-97b9-8dd0994d1c3d"
      },
      "source": [
        "for k, v in alunos.items():\n",
        "  print(k ,v)\n",
        " # alunos[aluno]=acima_media"
      ],
      "execution_count": null,
      "outputs": [
        {
          "output_type": "stream",
          "text": [
            "JEAN 1.66\n",
            "GABI 1.55\n",
            "TOIN 1.33\n",
            "ROB 1.44\n"
          ],
          "name": "stdout"
        }
      ]
    },
    {
      "cell_type": "markdown",
      "metadata": {
        "id": "PDd1oO6pPUBm"
      },
      "source": [
        "# **6 - Palavras 'eu' e 'sair'**"
      ]
    },
    {
      "cell_type": "code",
      "metadata": {
        "id": "aI7_uOOuPNxg"
      },
      "source": [
        ""
      ],
      "execution_count": null,
      "outputs": []
    },
    {
      "cell_type": "code",
      "metadata": {
        "id": "C6o2cVOxPbO1",
        "colab": {
          "base_uri": "https://localhost:8080/"
        },
        "outputId": "26cb192a-6321-4c2c-ce02-e9d8643c20de"
      },
      "source": [
        "o = True\n",
        "frases = []\n",
        "separado = []\n",
        "while o == True:\n",
        "  frase = input(\"Digite a frase: \")\n",
        "  if frase == 'sair':\n",
        "    o = False\n",
        "    break\n",
        "  s = frase.split()\n",
        "  separado.append(s)  \n",
        "  frases.append(frase)\n",
        "\n"
      ],
      "execution_count": null,
      "outputs": [
        {
          "output_type": "stream",
          "text": [
            "Digite a frase: eu amor\n",
            "Digite a frase: voce e eu\n",
            "Digite a frase: voce eu e tu\n",
            "Digite a frase: sair\n"
          ],
          "name": "stdout"
        }
      ]
    },
    {
      "cell_type": "code",
      "metadata": {
        "colab": {
          "base_uri": "https://localhost:8080/"
        },
        "id": "m6O0gCmXJuBj",
        "outputId": "616cb015-da5d-40c9-96aa-63ae629066be"
      },
      "source": [
        "print(frases)"
      ],
      "execution_count": null,
      "outputs": [
        {
          "output_type": "stream",
          "text": [
            "['eu amor', 'voce e eu', 'voce eu e tu']\n"
          ],
          "name": "stdout"
        }
      ]
    },
    {
      "cell_type": "code",
      "metadata": {
        "colab": {
          "base_uri": "https://localhost:8080/"
        },
        "id": "3fAbpgvWNWAy",
        "outputId": "68fb4acf-e94a-45e2-84f0-8e6c181f4a09"
      },
      "source": [
        "print(separado)"
      ],
      "execution_count": null,
      "outputs": [
        {
          "output_type": "stream",
          "text": [
            "[['eu', 'amor'], ['voce', 'e', 'eu'], ['voce', 'eu', 'e', 'tu']]\n"
          ],
          "name": "stdout"
        }
      ]
    },
    {
      "cell_type": "code",
      "metadata": {
        "colab": {
          "base_uri": "https://localhost:8080/"
        },
        "id": "L-4pjW_bKl7a",
        "outputId": "ee37611e-c738-40cb-e21d-155f4fd1325f"
      },
      "source": [
        "for i in separado:\n",
        "  if 'eu' in separado:\n",
        "    print(\"achou\")\n",
        "  else:\n",
        "    print(\"nao achou\")"
      ],
      "execution_count": null,
      "outputs": [
        {
          "output_type": "stream",
          "text": [
            "nao achou\n",
            "nao achou\n",
            "nao achou\n"
          ],
          "name": "stdout"
        }
      ]
    },
    {
      "cell_type": "code",
      "metadata": {
        "id": "m_8TW-y2LGs3"
      },
      "source": [
        ""
      ],
      "execution_count": null,
      "outputs": []
    },
    {
      "cell_type": "markdown",
      "metadata": {
        "id": "EKQZxoJKPf4p"
      },
      "source": [
        "# **7 - Trabalhando com listas**"
      ]
    },
    {
      "cell_type": "code",
      "metadata": {
        "colab": {
          "base_uri": "https://localhost:8080/"
        },
        "id": "p1Vgf0dS9LnR",
        "outputId": "c6492955-24e2-4347-e2e0-630438fdb584"
      },
      "source": [
        "def Menu():\n",
        "  print(\"a - Mostrar listas \\n\"\n",
        "        \"b - Incluir elemento \\n\"\n",
        "        \"c - Remover elemento \\n\"\n",
        "        \"d - Apagar todos os elementos da lista \\n\"\n",
        "        \"e - Sair\")\n",
        "  opc = None\n",
        "  opc = str(input(\"Escolha: \"))\n",
        "  return opc\n",
        "\n",
        "list1 = []\n",
        "opc = 1\n",
        "while opc != 'e':\n",
        "  opc = Menu()\n",
        "  if opc == 'a':\n",
        "    print(list1)\n",
        "  elif opc == 'b':\n",
        "    incluir = input(\"Digite: \")\n",
        "    list1.append(incluir)\n",
        "  elif opc == 'c':\n",
        "    excluir = input(\"Digite: \")\n",
        "    indicExcluir =list1.index(excluir)\n",
        "    list1.pop(indicExcluir)\n",
        "  elif opc == 'd':\n",
        "    list1.clear()\n",
        "  elif opc == 'e':\n",
        "    print(\"Fim\")\n",
        "    break"
      ],
      "execution_count": null,
      "outputs": [
        {
          "output_type": "stream",
          "text": [
            "a - Mostrar listas \n",
            "b - Incluir elemento \n",
            "c - Remover elemento \n",
            "d - Apagar todos os elementos da lista \n",
            "e - Sair\n",
            "Escolha: b\n",
            "Digite: oi\n",
            "a - Mostrar listas \n",
            "b - Incluir elemento \n",
            "c - Remover elemento \n",
            "d - Apagar todos os elementos da lista \n",
            "e - Sair\n",
            "Escolha: a\n",
            "['oi']\n",
            "a - Mostrar listas \n",
            "b - Incluir elemento \n",
            "c - Remover elemento \n",
            "d - Apagar todos os elementos da lista \n",
            "e - Sair\n",
            "Escolha: c\n",
            "Digite: oi\n",
            "a - Mostrar listas \n",
            "b - Incluir elemento \n",
            "c - Remover elemento \n",
            "d - Apagar todos os elementos da lista \n",
            "e - Sair\n",
            "Escolha: a\n",
            "[]\n",
            "a - Mostrar listas \n",
            "b - Incluir elemento \n",
            "c - Remover elemento \n",
            "d - Apagar todos os elementos da lista \n",
            "e - Sair\n",
            "Escolha: b\n",
            "Digite: oi\n",
            "a - Mostrar listas \n",
            "b - Incluir elemento \n",
            "c - Remover elemento \n",
            "d - Apagar todos os elementos da lista \n",
            "e - Sair\n",
            "Escolha: b\n",
            "Digite: ola\n",
            "a - Mostrar listas \n",
            "b - Incluir elemento \n",
            "c - Remover elemento \n",
            "d - Apagar todos os elementos da lista \n",
            "e - Sair\n",
            "Escolha: a\n",
            "['oi', 'ola']\n",
            "a - Mostrar listas \n",
            "b - Incluir elemento \n",
            "c - Remover elemento \n",
            "d - Apagar todos os elementos da lista \n",
            "e - Sair\n",
            "Escolha: d\n",
            "a - Mostrar listas \n",
            "b - Incluir elemento \n",
            "c - Remover elemento \n",
            "d - Apagar todos os elementos da lista \n",
            "e - Sair\n",
            "Escolha: a\n",
            "[]\n",
            "a - Mostrar listas \n",
            "b - Incluir elemento \n",
            "c - Remover elemento \n",
            "d - Apagar todos os elementos da lista \n",
            "e - Sair\n",
            "Escolha: e\n",
            "Fim\n"
          ],
          "name": "stdout"
        }
      ]
    },
    {
      "cell_type": "markdown",
      "metadata": {
        "id": "5A-8DLDdPi-_"
      },
      "source": [
        "# **8 - Módulo random()**"
      ]
    },
    {
      "cell_type": "code",
      "metadata": {
        "id": "QXrZUn4DM4Dt",
        "colab": {
          "base_uri": "https://localhost:8080/"
        },
        "outputId": "3ddbba18-9a4d-4f2e-cb07-287609e06fce"
      },
      "source": [
        "import random  # biblioteca com funções prontas para gerar valores aleatórios\n",
        "\n",
        "def lancar_dados():\n",
        "  vt1 = []\n",
        "  for i in range(100):\n",
        "    dado1 = [random.randint(1,6)]\n",
        "    vt1.append(dado1)\n",
        "  print(vt1)\n",
        "  print(len(vt1))\n",
        "\n",
        "lancar_dados()"
      ],
      "execution_count": null,
      "outputs": [
        {
          "output_type": "stream",
          "text": [
            "[[1], [4], [4], [6], [2], [1], [3], [4], [4], [5], [4], [1], [4], [4], [2], [6], [3], [3], [3], [5], [2], [6], [1], [3], [3], [4], [5], [3], [3], [6], [5], [3], [6], [6], [6], [6], [4], [2], [4], [1], [4], [4], [3], [1], [1], [1], [4], [4], [5], [6], [3], [5], [4], [2], [1], [2], [6], [4], [4], [2], [6], [5], [6], [1], [6], [2], [5], [6], [4], [3], [1], [3], [5], [4], [2], [1], [6], [5], [1], [2], [3], [4], [1], [5], [6], [6], [1], [6], [2], [2], [1], [4], [6], [4], [6], [6], [6], [6], [4], [6]]\n",
            "100\n"
          ],
          "name": "stdout"
        }
      ]
    },
    {
      "cell_type": "markdown",
      "metadata": {
        "id": "j2YMRQxMIOzU"
      },
      "source": [
        "# **Questão do Banco**"
      ]
    },
    {
      "cell_type": "code",
      "metadata": {
        "id": "cZpwgMeFISJZ"
      },
      "source": [
        ""
      ],
      "execution_count": null,
      "outputs": []
    }
  ]
}