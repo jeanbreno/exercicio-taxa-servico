# **INSTITUTO INFNET**
##ALUNO: JEAN BRENO LIMA DE OLIVEIRA
##CURSO: ENGENHARIA DE SOFTWARE
###EMAIL: jean.oliveira@al.infnet.edu.br
---
FUNDAMENTOS DE DESENVOLVIMENTO PYTHON
* TP3

PROFESSOR ANDRÉ VICTOR

---

---


# **1 - Trabalhando com Listas**



lista = []
for i in range(1, 6):
  lista.append(i)

print(lista)  


if 3 in lista and 6 in lista:
  print = (f"Lista antes de remover itens: {lista}")
  print ("tem o número 3 e 6 na lista! \nEles foram removidos com sucesso!")
  numero1 = lista.index(6)
  numero2 = lista.index(3)
  lista.pop(numero1)
  lista.pop(numero2)
  print(f"Lista após remover itens: {lista}")
  print(f"Tamanho da lista: {len(lista)}")
elif 6 in lista:
  text = f"Lista antes de remover item: {lista}"
  print(text)  
  print ("tem o número 6 na lista! Ele foi removido com sucesso")
  numero = lista.index(6)
  lista.pop(numero)
  print(f"Lista após remover itens: {lista}")
  print(f"Tamanho da lista: {len(lista)}")
elif 3 in lista:
  text = f"Lista antes de remover item: {lista}"
  print(text)
  print ("tem o número 3 na lista! Ele foi removido com sucesso")
  numero = lista.index(3)
  lista.pop(numero)
  print(f"Lista após remover itens: {lista}")
  print(f"Tamanho da lista: {len(lista)}")

else:
  print("nao tem os numeros 3 e 6 na lista!")



element = lista[-1]
print(f"Último elemento da lista: {element}")

lista[-1] = 6
print(f"Alterando o último elemento para o número 6: {lista}")


# **2 - Leitor de Vetor - 5 números**

vetor1 = [1, 2, 3, 4, 5]
for elemento in vetor1:
  print(elemento)

# **3 - Leitor de Vetor - Invertendo Vetor**

vetor2 = ["Amarelo", "Branco", "Cinza", "Dourado", "Escarlate", "Ferrugem", "Grená", "Íris", "Jambo", "Lilás"]

for k, v in enumerate(vetor2):
  print (k, v)

vetor2.reverse()
print(vetor2)

novalista = []
for i in vetor2:
  separado = i[::-1]
  novalista.append(separado)
  
print(novalista)

# **4 - Vetores - Verificar números iguais a 0**


t = int(input("Tamanho do vetor: "))
if t == 0:
  print("Fim! ")
l = []
for i in range(t):
  n = int(input(f"Número {i+1}: "))
  l.append(n)

repeticoes = l.count(0)
if repeticoes == 0:
  print(f"Não existe o número 0 no vetor.")
elif repeticoes == 1:
  print(f"Existe apenas {repeticoes} número 0 no vetor.")
elif repeticoes > 1:
  print(f"Existem {repeticoes} repetições do número 0 no vetor.")

print(l)

# **5 - Alunos e Alturas**

alunos = {}
print("Digite 'Sair' no nome do aluno para parar a execução do programa.\n")
flag = True
while flag == True:
  aluno = str(input("Nome do Aluno: \n"))
  aluno = aluno.upper()
  if aluno == 'SAIR':
    flag = False
    break
  altura = float(input("Altura do Aluno(m): \n"))
  alunos[aluno]=altura

tamanho = len(alunos)

total = 0
for v in alunos.values():
  total = total + v
media = total / tamanho

print(f"O somatório das alturas coletadas é: {total} metros.")
print(f"Foram coletadas {tamanho} alturas. ")
print(f"A média aritmética das alturas coletadas é: {media:.2f} metros.")

acima_media = {}
for f, a in alunos.items():
  if a > media:
    acima_media[f] = a
print(f"Alturas acima da média: {acima_media}.")

for k, v in alunos.items():
  print(k ,v)
 # alunos[aluno]=acima_media

# **6 - Palavras 'eu' e 'sair'**



o = True
frases = []
separado = []
while o == True:
  frase = input("Digite a frase: ")
  if frase == 'sair':
    o = False
    break
  s = frase.split()
  separado.append(s)  
  frases.append(frase)



print(frases)

print(separado)

for i in separado:
  if 'eu' in separado:
    print("achou")
  else:
    print("nao achou")



# **7 - Trabalhando com listas**

def Menu():
  print("a - Mostrar listas \n"
        "b - Incluir elemento \n"
        "c - Remover elemento \n"
        "d - Apagar todos os elementos da lista \n"
        "e - Sair")
  opc = None
  opc = str(input("Escolha: "))
  return opc

list1 = []
opc = 1
while opc != 'e':
  opc = Menu()
  if opc == 'a':
    print(list1)
  elif opc == 'b':
    incluir = input("Digite: ")
    list1.append(incluir)
  elif opc == 'c':
    excluir = input("Digite: ")
    indicExcluir =list1.index(excluir)
    list1.pop(indicExcluir)
  elif opc == 'd':
    list1.clear()
  elif opc == 'e':
    print("Fim")
    break

# **8 - Módulo random()**

import random  # biblioteca com funções prontas para gerar valores aleatórios

def lancar_dados():
  vt1 = []
  for i in range(100):
    dado1 = [random.randint(1,6)]
    vt1.append(dado1)
  print(vt1)
  print(len(vt1))

lancar_dados()

# **Questão do Banco**

