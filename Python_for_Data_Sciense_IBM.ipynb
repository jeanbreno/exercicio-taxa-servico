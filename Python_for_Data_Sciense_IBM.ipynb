{
  "nbformat": 4,
  "nbformat_minor": 0,
  "metadata": {
    "colab": {
      "name": "Python-for-Data-Sciense-IBM.ipynb",
      "provenance": [],
      "collapsed_sections": [],
      "authorship_tag": "ABX9TyODfZLqz/O3Me7FjO8vF2pl",
      "include_colab_link": true
    },
    "kernelspec": {
      "name": "python3",
      "display_name": "Python 3"
    },
    "language_info": {
      "name": "python"
    }
  },
  "cells": [
    {
      "cell_type": "markdown",
      "metadata": {
        "id": "view-in-github",
        "colab_type": "text"
      },
      "source": [
        "<a href=\"https://colab.research.google.com/github/jeanbreno/pb-arquitetura-comp-redes-so/blob/main/Python_for_Data_Sciense_IBM.ipynb\" target=\"_parent\"><img src=\"https://colab.research.google.com/assets/colab-badge.svg\" alt=\"Open In Colab\"/></a>"
      ]
    },
    {
      "cell_type": "markdown",
      "metadata": {
        "id": "-aHUMm9W5WNl"
      },
      "source": [
        "Python - Homenagem à série. \n",
        "- Python para Ciência de Dados.\n"
      ]
    },
    {
      "cell_type": "code",
      "metadata": {
        "id": "3D4XIghQ2kqN",
        "colab": {
          "base_uri": "https://localhost:8080/"
        },
        "outputId": "65b965d0-54ff-4c61-a64b-63e257b66635"
      },
      "source": [
        "a = 10\n",
        "b = 10\n",
        "c = 10\n",
        "if a > b or a >= c:\n",
        "    print('Primeiro afirmação é verdadeira')\n",
        "elif a == b:\n",
        "    print('Segunda afirmação é verdadeira')\n",
        "else:\n",
        "    print('Nenhuma afirmação é verdadeira')"
      ],
      "execution_count": null,
      "outputs": [
        {
          "output_type": "stream",
          "text": [
            "Primeiro afirmação é verdadeira\n"
          ],
          "name": "stdout"
        }
      ]
    },
    {
      "cell_type": "code",
      "metadata": {
        "colab": {
          "base_uri": "https://localhost:8080/"
        },
        "id": "BCriN65sCJ1Z",
        "outputId": "621141ee-e0fc-46c9-f93f-e055b6e3ed48"
      },
      "source": [
        "a = 0\n",
        "resultado = 'neutro'\n",
        "if a > 0:\n",
        "    resultado = 'positivo'\n",
        "elif a < 0:\n",
        "    resultado = 'negativo'\n",
        "a = resultado\n",
        "print(resultado)\n",
        "print(a)"
      ],
      "execution_count": null,
      "outputs": [
        {
          "output_type": "stream",
          "text": [
            "neutro\n",
            "neutro\n"
          ],
          "name": "stdout"
        }
      ]
    },
    {
      "cell_type": "code",
      "metadata": {
        "colab": {
          "base_uri": "https://localhost:8080/"
        },
        "id": "JhlxQf-fGawE",
        "outputId": "613d9176-bb6f-4efa-baca-0806067b2e1c"
      },
      "source": [
        "for x in range(5):\n",
        "    resultado = x\n",
        "\n",
        "print(x)\n",
        "print(resultado)"
      ],
      "execution_count": null,
      "outputs": [
        {
          "output_type": "stream",
          "text": [
            "4\n",
            "4\n"
          ],
          "name": "stdout"
        }
      ]
    },
    {
      "cell_type": "code",
      "metadata": {
        "colab": {
          "base_uri": "https://localhost:8080/"
        },
        "id": "JohfPNPSGfhD",
        "outputId": "1b882c7f-11c3-49a4-9359-1835b993f94a"
      },
      "source": [
        "a = int(input('Digite um número: '))\n",
        "while a % 2 != 0:\n",
        "    a = int(input('Digite um número: '))"
      ],
      "execution_count": null,
      "outputs": [
        {
          "output_type": "stream",
          "text": [
            "Digite um número: 9\n",
            "Digite um número: 9\n",
            "Digite um número: 99\n",
            "Digite um número: 4\n"
          ],
          "name": "stdout"
        }
      ]
    },
    {
      "cell_type": "code",
      "metadata": {
        "id": "OKSpk85gG1R7",
        "colab": {
          "base_uri": "https://localhost:8080/"
        },
        "outputId": "2b82723f-d05d-449c-d344-750285a5deb0"
      },
      "source": [
        "a = 100\n",
        "range (1, a-5)"
      ],
      "execution_count": null,
      "outputs": [
        {
          "output_type": "execute_result",
          "data": {
            "text/plain": [
              "range(1, 95)"
            ]
          },
          "metadata": {
            "tags": []
          },
          "execution_count": 10
        }
      ]
    },
    {
      "cell_type": "code",
      "metadata": {
        "colab": {
          "base_uri": "https://localhost:8080/"
        },
        "id": "I86LlsSwwFPc",
        "outputId": "d5f57f9f-e1c1-4921-b8f5-653284f37b1d"
      },
      "source": [
        "print(\"Hello\\nWorld!\")"
      ],
      "execution_count": null,
      "outputs": [
        {
          "output_type": "stream",
          "text": [
            "Hello\n",
            "World!\n"
          ],
          "name": "stdout"
        }
      ]
    },
    {
      "cell_type": "code",
      "metadata": {
        "id": "9En6Iuw4wjqp"
      },
      "source": [
        "Numbers=\"0123456\"\n"
      ],
      "execution_count": null,
      "outputs": []
    },
    {
      "cell_type": "code",
      "metadata": {
        "colab": {
          "base_uri": "https://localhost:8080/",
          "height": 35
        },
        "id": "Abfxq3gqz39m",
        "outputId": "0e8c2e98-add5-4fae-e0a6-1b2ddf051f65"
      },
      "source": [
        "Numbers[::2]"
      ],
      "execution_count": null,
      "outputs": [
        {
          "output_type": "execute_result",
          "data": {
            "application/vnd.google.colaboratory.intrinsic+json": {
              "type": "string"
            },
            "text/plain": [
              "'0246'"
            ]
          },
          "metadata": {
            "tags": []
          },
          "execution_count": 3
        }
      ]
    },
    {
      "cell_type": "markdown",
      "metadata": {
        "id": "IjVQJbZV0Evf"
      },
      "source": [
        ".find() método que busca o elemento passado como parametro"
      ]
    },
    {
      "cell_type": "code",
      "metadata": {
        "colab": {
          "base_uri": "https://localhost:8080/"
        },
        "id": "2txLYNlAz7OG",
        "outputId": "f3cf45d5-f8f4-4555-c935-6af88b43f0e3"
      },
      "source": [
        "\"0123456\".find('1')"
      ],
      "execution_count": null,
      "outputs": [
        {
          "output_type": "execute_result",
          "data": {
            "text/plain": [
              "1"
            ]
          },
          "metadata": {
            "tags": []
          },
          "execution_count": 4
        }
      ]
    },
    {
      "cell_type": "code",
      "metadata": {
        "colab": {
          "base_uri": "https://localhost:8080/"
        },
        "id": "n8H3Eu5j0OyO",
        "outputId": "d9a83ef3-523c-499b-fcbd-b9b6742d95f0"
      },
      "source": [
        "3+2*2"
      ],
      "execution_count": null,
      "outputs": [
        {
          "output_type": "execute_result",
          "data": {
            "text/plain": [
              "7"
            ]
          },
          "metadata": {
            "tags": []
          },
          "execution_count": 5
        }
      ]
    },
    {
      "cell_type": "code",
      "metadata": {
        "colab": {
          "base_uri": "https://localhost:8080/"
        },
        "id": "grn2Hf_50tyV",
        "outputId": "b82abbb4-c4e5-4479-9fe2-2f81b48ba7ce"
      },
      "source": [
        "name = 'Lizz'\n",
        "print(name[0:2])"
      ],
      "execution_count": null,
      "outputs": [
        {
          "output_type": "stream",
          "text": [
            "Li\n"
          ],
          "name": "stdout"
        }
      ]
    },
    {
      "cell_type": "markdown",
      "metadata": {
        "id": "EUZh-h6k1Gbe"
      },
      "source": [
        "print(var[start:stop:step])"
      ]
    },
    {
      "cell_type": "code",
      "metadata": {
        "colab": {
          "base_uri": "https://localhost:8080/"
        },
        "id": "sHrq8oYK1Di2",
        "outputId": "b3719b5b-77fc-4fea-8131-ed1e25d51e2a"
      },
      "source": [
        "var = '01234567'\n",
        "print(var[::2])"
      ],
      "execution_count": null,
      "outputs": [
        {
          "output_type": "stream",
          "text": [
            "0246\n"
          ],
          "name": "stdout"
        }
      ]
    },
    {
      "cell_type": "code",
      "metadata": {
        "id": "QrjNFe5B45iG"
      },
      "source": [
        "tuple1=(\"disco\", 10, 1.2)"
      ],
      "execution_count": null,
      "outputs": []
    },
    {
      "cell_type": "code",
      "metadata": {
        "colab": {
          "base_uri": "https://localhost:8080/",
          "height": 35
        },
        "id": "0NYxgFn94-Fe",
        "outputId": "92018bfd-6632-48f5-efed-60f23eac3632"
      },
      "source": [
        "tuple1[0]"
      ],
      "execution_count": null,
      "outputs": [
        {
          "output_type": "execute_result",
          "data": {
            "application/vnd.google.colaboratory.intrinsic+json": {
              "type": "string"
            },
            "text/plain": [
              "'disco'"
            ]
          },
          "metadata": {
            "tags": []
          },
          "execution_count": 15
        }
      ]
    },
    {
      "cell_type": "code",
      "metadata": {
        "colab": {
          "base_uri": "https://localhost:8080/"
        },
        "id": "ESyxva6v5AIs",
        "outputId": "a3dd083e-a043-4dac-97d6-ae2b5f7aebd4"
      },
      "source": [
        "tuple1[1]"
      ],
      "execution_count": null,
      "outputs": [
        {
          "output_type": "execute_result",
          "data": {
            "text/plain": [
              "10"
            ]
          },
          "metadata": {
            "tags": []
          },
          "execution_count": 16
        }
      ]
    },
    {
      "cell_type": "code",
      "metadata": {
        "colab": {
          "base_uri": "https://localhost:8080/"
        },
        "id": "t0zbXGoK5RQD",
        "outputId": "54b776ee-70a7-4975-c7e8-8ad21a4c60fc"
      },
      "source": [
        "tuple1[2]"
      ],
      "execution_count": null,
      "outputs": [
        {
          "output_type": "execute_result",
          "data": {
            "text/plain": [
              "1.2"
            ]
          },
          "metadata": {
            "tags": []
          },
          "execution_count": 17
        }
      ]
    },
    {
      "cell_type": "code",
      "metadata": {
        "id": "_yzwfEku6Psf"
      },
      "source": [
        "l = ['michael jackson', 10.2, 1994]"
      ],
      "execution_count": null,
      "outputs": []
    },
    {
      "cell_type": "code",
      "metadata": {
        "colab": {
          "base_uri": "https://localhost:8080/",
          "height": 35
        },
        "id": "LVySN_wa6Tgs",
        "outputId": "4558136a-6efc-48d0-c459-e701213c6285"
      },
      "source": [
        "l[-3]"
      ],
      "execution_count": null,
      "outputs": [
        {
          "output_type": "execute_result",
          "data": {
            "application/vnd.google.colaboratory.intrinsic+json": {
              "type": "string"
            },
            "text/plain": [
              "'michael jackson'"
            ]
          },
          "metadata": {
            "tags": []
          },
          "execution_count": 23
        }
      ]
    },
    {
      "cell_type": "code",
      "metadata": {
        "colab": {
          "base_uri": "https://localhost:8080/"
        },
        "id": "5NTorVjf6U2J",
        "outputId": "b3ef72cc-d819-44fe-a1c2-2ce9af9d6113"
      },
      "source": [
        "l[-2]"
      ],
      "execution_count": null,
      "outputs": [
        {
          "output_type": "execute_result",
          "data": {
            "text/plain": [
              "10.2"
            ]
          },
          "metadata": {
            "tags": []
          },
          "execution_count": 22
        }
      ]
    },
    {
      "cell_type": "markdown",
      "metadata": {
        "id": "ENa26poJ6wq_"
      },
      "source": [
        "extense vs append\n",
        "\n",
        "split(\",\")"
      ]
    },
    {
      "cell_type": "code",
      "metadata": {
        "id": "jjg9-sjD6aUK"
      },
      "source": [
        "a = [\"rock\", 10, 1.2]"
      ],
      "execution_count": null,
      "outputs": []
    },
    {
      "cell_type": "code",
      "metadata": {
        "id": "_VOCuthh7Rh6"
      },
      "source": [
        "b=a[:]"
      ],
      "execution_count": null,
      "outputs": []
    },
    {
      "cell_type": "code",
      "metadata": {
        "colab": {
          "base_uri": "https://localhost:8080/"
        },
        "id": "jU5z8iMU7TK3",
        "outputId": "1d664e1b-0776-4fa3-e07c-e55f83052afe"
      },
      "source": [
        "print(b)"
      ],
      "execution_count": null,
      "outputs": [
        {
          "output_type": "stream",
          "text": [
            "['rock', 10, 1.2]\n"
          ],
          "name": "stdout"
        }
      ]
    },
    {
      "cell_type": "code",
      "metadata": {
        "id": "_xEYLw1n7XNS"
      },
      "source": [
        "help(b)"
      ],
      "execution_count": null,
      "outputs": []
    },
    {
      "cell_type": "code",
      "metadata": {
        "id": "wAy-JOii7eI_"
      },
      "source": [
        "A=(0,1,2,3)"
      ],
      "execution_count": null,
      "outputs": []
    },
    {
      "cell_type": "code",
      "metadata": {
        "colab": {
          "base_uri": "https://localhost:8080/"
        },
        "id": "Srdvetx47qOP",
        "outputId": "08b725e9-e438-4021-de76-de9cae8c026f"
      },
      "source": [
        "A[-1]"
      ],
      "execution_count": null,
      "outputs": [
        {
          "output_type": "execute_result",
          "data": {
            "text/plain": [
              "3"
            ]
          },
          "metadata": {
            "tags": []
          },
          "execution_count": 30
        }
      ]
    },
    {
      "cell_type": "code",
      "metadata": {
        "id": "NDK7femG7rxA"
      },
      "source": [
        "l = ['michael jackson', 10.2, 1994, 10.2, 1994]"
      ],
      "execution_count": null,
      "outputs": []
    },
    {
      "cell_type": "code",
      "metadata": {
        "id": "pIr0_Tfp8yhl"
      },
      "source": [
        "l_set = set(l)\n",
        "# retorna valores de maneira ordenada e exclui os elementos repetidos"
      ],
      "execution_count": null,
      "outputs": []
    },
    {
      "cell_type": "code",
      "metadata": {
        "colab": {
          "base_uri": "https://localhost:8080/"
        },
        "id": "C3x2jkjo83ru",
        "outputId": "76136d41-75fd-445f-b864-eb45f684c29b"
      },
      "source": [
        "l_set"
      ],
      "execution_count": null,
      "outputs": [
        {
          "output_type": "execute_result",
          "data": {
            "text/plain": [
              "{10.2, 1994, 'michael jackson'}"
            ]
          },
          "metadata": {
            "tags": []
          },
          "execution_count": 33
        }
      ]
    },
    {
      "cell_type": "markdown",
      "metadata": {
        "id": "xR9AE88q90fZ"
      },
      "source": [
        "variavel.issubset(outravariavel)\n",
        "\n",
        "retorna True se tiver, e False se nao tiver\n"
      ]
    },
    {
      "cell_type": "code",
      "metadata": {
        "colab": {
          "base_uri": "https://localhost:8080/"
        },
        "id": "n5L_rDaC855m",
        "outputId": "471a3c7c-d9e2-44ba-9c67-f0d311b5587f"
      },
      "source": [
        "x=3\n",
        "\n",
        "y=1\n",
        "\n",
        "while(y != x):\n",
        "\n",
        "  print(y)\n",
        "\n",
        "  y=y+1"
      ],
      "execution_count": null,
      "outputs": [
        {
          "output_type": "stream",
          "text": [
            "1\n",
            "2\n"
          ],
          "name": "stdout"
        }
      ]
    },
    {
      "cell_type": "code",
      "metadata": {
        "id": "96fopifCDRiW"
      },
      "source": [
        "squares=['red', 'blue', 'green']"
      ],
      "execution_count": null,
      "outputs": []
    },
    {
      "cell_type": "code",
      "metadata": {
        "colab": {
          "base_uri": "https://localhost:8080/"
        },
        "id": "RtmQ8EbmDWIq",
        "outputId": "ea8ee57a-2416-4811-e3fe-34b70679cc1d"
      },
      "source": [
        "for i, square in enumerate(squares):\n",
        "  print(square, i)"
      ],
      "execution_count": null,
      "outputs": [
        {
          "output_type": "stream",
          "text": [
            "red 0\n",
            "blue 1\n",
            "green 2\n"
          ],
          "name": "stdout"
        }
      ]
    },
    {
      "cell_type": "code",
      "metadata": {
        "colab": {
          "base_uri": "https://localhost:8080/"
        },
        "id": "cezSXWP-DdiZ",
        "outputId": "b11f97b6-972e-4fca-d954-dbe2b85d72b3"
      },
      "source": [
        "a=1\n",
        "\n",
        "def add(k):\n",
        "  return a+k\n",
        "\n",
        "c = add(10)\n",
        "print(c)"
      ],
      "execution_count": null,
      "outputs": [
        {
          "output_type": "stream",
          "text": [
            "11\n"
          ],
          "name": "stdout"
        }
      ]
    },
    {
      "cell_type": "code",
      "metadata": {
        "colab": {
          "base_uri": "https://localhost:8080/"
        },
        "id": "eo6a4Z2GENjp",
        "outputId": "b2f29562-da6b-43a1-e820-b8a7d35defd6"
      },
      "source": [
        "def f(*x):\n",
        "  return sum(c)\n",
        "\n",
        "print(c)\n"
      ],
      "execution_count": null,
      "outputs": [
        {
          "output_type": "stream",
          "text": [
            "11\n"
          ],
          "name": "stdout"
        }
      ]
    },
    {
      "cell_type": "markdown",
      "metadata": {
        "id": "u_eWvtNEGVAj"
      },
      "source": [
        "pass ... passa direto, desconsidera"
      ]
    },
    {
      "cell_type": "code",
      "metadata": {
        "id": "rDZqGcHHEt9w"
      },
      "source": [
        "class Circle(object):\n",
        "  def __init__(self, radius, color):\n",
        "    self.radius = radius;\n",
        "    self.color = color;\n",
        "\n",
        "  def add_radius(self, r):\n",
        "    self.radius = self.radius + r\n",
        "    return (self.radius)\n",
        "\n",
        "  def drawCircle(self):\n",
        "    pass"
      ],
      "execution_count": null,
      "outputs": []
    },
    {
      "cell_type": "markdown",
      "metadata": {
        "id": "-3n3AZs_TT3s"
      },
      "source": [
        "pode add valores para parâmetros direto\n",
        "\n",
        "```\n",
        "# class Circle(object):\n",
        "  def __init__(self, radius=3, color='blue'):\n",
        "    self.radius = radius;\n",
        "    self.color = color;\n",
        "\n",
        "  def add_radius(self, r):\n",
        "    self.radius = self.radius + r\n",
        "    return (self.radius)\n",
        "```\n",
        "\n"
      ]
    },
    {
      "cell_type": "code",
      "metadata": {
        "id": "axua6r1ZP2rA"
      },
      "source": [
        "redCircle = Circle(10, 'green')"
      ],
      "execution_count": null,
      "outputs": []
    },
    {
      "cell_type": "code",
      "metadata": {
        "id": "3K3ItyFpQJ5S"
      },
      "source": [
        "redCircle.color = 'black'"
      ],
      "execution_count": null,
      "outputs": []
    },
    {
      "cell_type": "code",
      "metadata": {
        "colab": {
          "base_uri": "https://localhost:8080/",
          "height": 35
        },
        "id": "QiYeMzI3QLgi",
        "outputId": "c2eedba7-5f35-4f41-a368-8dfe945d6970"
      },
      "source": [
        "redCircle.color"
      ],
      "execution_count": null,
      "outputs": [
        {
          "output_type": "execute_result",
          "data": {
            "application/vnd.google.colaboratory.intrinsic+json": {
              "type": "string"
            },
            "text/plain": [
              "'black'"
            ]
          },
          "metadata": {
            "tags": []
          },
          "execution_count": 57
        }
      ]
    },
    {
      "cell_type": "code",
      "metadata": {
        "id": "NsfElD-SQvjr"
      },
      "source": [
        "c1 = Circle(2, 'white')"
      ],
      "execution_count": null,
      "outputs": []
    },
    {
      "cell_type": "code",
      "metadata": {
        "id": "IKiXLJyxSH_n"
      },
      "source": [
        "c1.add_radius(8)"
      ],
      "execution_count": null,
      "outputs": []
    },
    {
      "cell_type": "code",
      "metadata": {
        "colab": {
          "base_uri": "https://localhost:8080/"
        },
        "id": "lY4QLGOZSbge",
        "outputId": "a317d1ab-a739-46e0-91bd-523773cf5101"
      },
      "source": [
        "c1.radius"
      ],
      "execution_count": null,
      "outputs": [
        {
          "output_type": "execute_result",
          "data": {
            "text/plain": [
              "10"
            ]
          },
          "metadata": {
            "tags": []
          },
          "execution_count": 62
        }
      ]
    },
    {
      "cell_type": "code",
      "metadata": {
        "id": "Ij0dMIHZSgDf"
      },
      "source": [
        "c1.drawCircle()"
      ],
      "execution_count": null,
      "outputs": []
    },
    {
      "cell_type": "code",
      "metadata": {
        "id": "ouJXAiX4TyX0"
      },
      "source": [
        "blueCircle=Circle(5, 'blue')"
      ],
      "execution_count": null,
      "outputs": []
    },
    {
      "cell_type": "code",
      "metadata": {
        "colab": {
          "base_uri": "https://localhost:8080/"
        },
        "id": "Nd31GWg0Ujcr",
        "outputId": "d5be0746-0cb6-4b18-e4a6-dbbfcaa9abd7"
      },
      "source": [
        "blueCircle.radius"
      ],
      "execution_count": null,
      "outputs": [
        {
          "output_type": "execute_result",
          "data": {
            "text/plain": [
              "5"
            ]
          },
          "metadata": {
            "tags": []
          },
          "execution_count": 72
        }
      ]
    },
    {
      "cell_type": "code",
      "metadata": {
        "colab": {
          "base_uri": "https://localhost:8080/",
          "height": 35
        },
        "id": "ixUJABHDUmEi",
        "outputId": "84d4be0f-eb91-4230-9537-923e20ba9de5"
      },
      "source": [
        "blueCircle.color"
      ],
      "execution_count": null,
      "outputs": [
        {
          "output_type": "execute_result",
          "data": {
            "application/vnd.google.colaboratory.intrinsic+json": {
              "type": "string"
            },
            "text/plain": [
              "'blue'"
            ]
          },
          "metadata": {
            "tags": []
          },
          "execution_count": 73
        }
      ]
    },
    {
      "cell_type": "code",
      "metadata": {
        "id": "JWPwqlWgUoSI"
      },
      "source": [
        "blueCircle.drawCircle()"
      ],
      "execution_count": null,
      "outputs": []
    },
    {
      "cell_type": "code",
      "metadata": {
        "id": "kTD6AGotUsIC"
      },
      "source": [
        "class Car(object):\n",
        "  def __init__(self, make, model, color):\n",
        "    self.make = make;\n",
        "    self.model = model;\n",
        "    self.color = color;"
      ],
      "execution_count": null,
      "outputs": []
    },
    {
      "cell_type": "code",
      "metadata": {
        "id": "Q03R-merVo9p"
      },
      "source": [
        "carro1=Car('Honda', 'Accord', 'blue')"
      ],
      "execution_count": null,
      "outputs": []
    },
    {
      "cell_type": "code",
      "metadata": {
        "colab": {
          "base_uri": "https://localhost:8080/",
          "height": 35
        },
        "id": "ewB56ksIVx8f",
        "outputId": "0dee0f79-470a-463d-dcf7-40b80d1b43ac"
      },
      "source": [
        "carro1.color"
      ],
      "execution_count": null,
      "outputs": [
        {
          "output_type": "execute_result",
          "data": {
            "application/vnd.google.colaboratory.intrinsic+json": {
              "type": "string"
            },
            "text/plain": [
              "'blue'"
            ]
          },
          "metadata": {
            "tags": []
          },
          "execution_count": 84
        }
      ]
    },
    {
      "cell_type": "code",
      "metadata": {
        "colab": {
          "base_uri": "https://localhost:8080/",
          "height": 35
        },
        "id": "Pd47OQ1iVz9_",
        "outputId": "2e34c98d-76f6-4f44-8697-051584e1b6c7"
      },
      "source": [
        "carro1.model"
      ],
      "execution_count": null,
      "outputs": [
        {
          "output_type": "execute_result",
          "data": {
            "application/vnd.google.colaboratory.intrinsic+json": {
              "type": "string"
            },
            "text/plain": [
              "'Accord'"
            ]
          },
          "metadata": {
            "tags": []
          },
          "execution_count": 85
        }
      ]
    },
    {
      "cell_type": "code",
      "metadata": {
        "colab": {
          "base_uri": "https://localhost:8080/",
          "height": 35
        },
        "id": "cC4Q0WxNWHk-",
        "outputId": "501bdc6b-e284-4310-cc92-fb7d1eb22c72"
      },
      "source": [
        "carro1.make"
      ],
      "execution_count": null,
      "outputs": [
        {
          "output_type": "execute_result",
          "data": {
            "application/vnd.google.colaboratory.intrinsic+json": {
              "type": "string"
            },
            "text/plain": [
              "'Honda'"
            ]
          },
          "metadata": {
            "tags": []
          },
          "execution_count": 86
        }
      ]
    },
    {
      "cell_type": "code",
      "metadata": {
        "colab": {
          "base_uri": "https://localhost:8080/"
        },
        "id": "BQdU6lfQWJDW",
        "outputId": "dc571dbe-cc8a-4d46-92c5-38fb8251379b"
      },
      "source": [
        "x=1\n",
        "\n",
        "if(x!=1):\n",
        "\n",
        "  print('Hello')\n",
        "\n",
        "else:\n",
        "\n",
        "  print('Hi')\n",
        "\n",
        "print('Mike')"
      ],
      "execution_count": null,
      "outputs": [
        {
          "output_type": "stream",
          "text": [
            "Hi\n",
            "Mike\n"
          ],
          "name": "stdout"
        }
      ]
    },
    {
      "cell_type": "code",
      "metadata": {
        "colab": {
          "base_uri": "https://localhost:8080/"
        },
        "id": "-SJk8keQWYCH",
        "outputId": "808558f3-0700-4f3f-8312-4eb213dac921"
      },
      "source": [
        "A=['1','2','3']\n",
        "\n",
        "for a in A:\n",
        "\n",
        "  print(2*a)"
      ],
      "execution_count": null,
      "outputs": [
        {
          "output_type": "stream",
          "text": [
            "11\n",
            "22\n",
            "33\n"
          ],
          "name": "stdout"
        }
      ]
    },
    {
      "cell_type": "code",
      "metadata": {
        "id": "z2mW27daWe3C"
      },
      "source": [
        "def Delta(x):\n",
        "\n",
        "  if x==0:\n",
        "\n",
        "    y=1;\n",
        "\n",
        "  else:\n",
        "\n",
        "    y=0;\n",
        "\n",
        "  return(y)"
      ],
      "execution_count": null,
      "outputs": []
    },
    {
      "cell_type": "code",
      "metadata": {
        "colab": {
          "base_uri": "https://localhost:8080/"
        },
        "id": "PtPty2dCWkyF",
        "outputId": "15fab102-2224-4fd2-a0aa-51151e7ed830"
      },
      "source": [
        "Delta(0)"
      ],
      "execution_count": null,
      "outputs": [
        {
          "output_type": "execute_result",
          "data": {
            "text/plain": [
              "1"
            ]
          },
          "metadata": {
            "tags": []
          },
          "execution_count": 97
        }
      ]
    },
    {
      "cell_type": "code",
      "metadata": {
        "id": "ZErAAeVGWl44"
      },
      "source": [
        "b = [1,3,6,5,7,8,9,2,3,0]"
      ],
      "execution_count": null,
      "outputs": []
    },
    {
      "cell_type": "code",
      "metadata": {
        "id": "_ZiKT1zwXOO-"
      },
      "source": [
        "b.sort()"
      ],
      "execution_count": null,
      "outputs": []
    },
    {
      "cell_type": "code",
      "metadata": {
        "colab": {
          "base_uri": "https://localhost:8080/"
        },
        "id": "1YHK1gTeXP4d",
        "outputId": "14f1af27-cc17-4a2d-c219-f869a825e932"
      },
      "source": [
        "print(b)"
      ],
      "execution_count": null,
      "outputs": [
        {
          "output_type": "stream",
          "text": [
            "[0, 1, 2, 3, 3, 5, 6, 7, 8, 9]\n"
          ],
          "name": "stdout"
        }
      ]
    },
    {
      "cell_type": "markdown",
      "metadata": {
        "id": "BN2fjOY3S7yK"
      },
      "source": [
        "\n",
        "\n",
        "```\n",
        "# with open(\"exemplo1.txt\", 'r') as file1:\n",
        "    file_stuff = file1.read()\n",
        "    print(file_stuff)\n",
        "\n",
        "print(file1.closed)\n",
        "print(file_stuff)\n",
        "```\n",
        "\n",
        "*   r - reading\n",
        "*   w - writing\n",
        "*   a - appending\n",
        "\n",
        "\n",
        "```\n",
        "# print(file_stuff)\n",
        "this is line 1\n",
        "this is line 2\n",
        "this is line 3\n",
        "\n",
        "file_stuff:\n",
        "  this is line 1 \\n this is line 2 \\n this is line 3\n",
        "```"
      ]
    },
    {
      "cell_type": "markdown",
      "metadata": {
        "id": "5x-C5x9OUjtB"
      },
      "source": [
        "\n",
        "\n",
        "```\n",
        "# with open(\"exemplo1.txt\", 'r') as file1:\n",
        "    file_stuff = file1.readline()\n",
        "    print(file_stuff)\n",
        "\n",
        "# with open(\"exemplo1.txt\", 'r') as file1:\n",
        "    for line in file1:\n",
        "    print(line)\n",
        "\n",
        "```\n",
        "linha por linha\n",
        "\n",
        "\n",
        "\n",
        "\n",
        "```\n",
        "# with open(\"exemplo1.txt\", 'r') as file1:\n",
        "    file_stuff = file1.readline(4)\n",
        "    print(file_stuff)\n",
        "```\n",
        "\n",
        "traz os 4 primeiros caracteres da primeira linha"
      ]
    },
    {
      "cell_type": "markdown",
      "metadata": {
        "id": "RmkKySHIVhjj"
      },
      "source": [
        "\n",
        "\n",
        "```\n",
        "# with open(\"exemplo1.txt\", 'r') as file1:\n",
        "    file_stuff = file1.readline(2)\n",
        "    print(file_stuff)\n",
        "    file_stuff = file1.readline(4)\n",
        "    print(file_stuff)\n",
        "    file_stuff = file1.readline(16)\n",
        "    print(file_stuff)    \n",
        "```\n",
        "\n",
        "a primeira linha le os 2 primeiros caracteres da linha \n",
        "\n",
        "a segunda, le 4 caracteres da linha \n",
        "\n",
        "a terceita, le 16 caracteres da linha \n",
        "\n",
        "lembrando que, acontece numa sequencia...this is line 1 \\n this is line 2 \\n this is line 3\n",
        "\n",
        "2 = th\n",
        "\n",
        "4 = is i\n",
        "\n",
        "16 = s line 1  this is < "
      ]
    },
    {
      "cell_type": "markdown",
      "metadata": {
        "id": "pqsm7VDa3Q6-"
      },
      "source": [
        "\n",
        "\n",
        "```\n",
        "# with open(\"exemplo1.txt\", 'w') as file1:\n",
        "    file1.write(\"This is line A\")\n",
        "```\n",
        "escreve no arquivo file1 \n"
      ]
    },
    {
      "cell_type": "markdown",
      "metadata": {
        "id": "hkoe5cPN3oIJ"
      },
      "source": [
        "\n",
        "\n",
        "```\n",
        "Lines = [\"This is line A\\n\",\"This is line B\\n\", \"This is line C\\n\"] \n",
        "with open(\"exemplo1.txt\", 'w') as file1:\n",
        "    for line in Lines:\n",
        "      file1.write(line)\n",
        "```\n",
        "\n"
      ]
    },
    {
      "cell_type": "markdown",
      "metadata": {
        "id": "6dkQNRg34Af3"
      },
      "source": [
        "\n",
        "\n",
        "```\n",
        "with open(\"exemplo1.txt\", 'a') as file1:\n",
        "  file1.write(\"This is line C\")\n",
        "```\n",
        "\n"
      ]
    },
    {
      "cell_type": "markdown",
      "metadata": {
        "id": "h-0R5oYs4sk4"
      },
      "source": [
        "\n",
        "\n",
        "```\n",
        "with open(\"exemplo1.txt\", 'r') as readfile:\n",
        "  with open(\"exemplo2.txt\", 'w') as writefile:\n",
        "    for line in readfile:\n",
        "      writefile.write(line)\n",
        "\n",
        "\n",
        "\n",
        "```\n",
        "\n"
      ]
    },
    {
      "cell_type": "code",
      "metadata": {
        "id": "0_2TYRQk4_VK"
      },
      "source": [
        ""
      ],
      "execution_count": null,
      "outputs": []
    },
    {
      "cell_type": "markdown",
      "metadata": {
        "id": "a23TWA0n8sl-"
      },
      "source": [
        "\n",
        "```\n",
        "import pandas as pd\n",
        "\n",
        "csv_path='file1.csv'\n",
        "df = pd.read_csv(csv_path)\n",
        "\n",
        "```\n",
        "Pandas:\n",
        "* read_csv()\n",
        "* Series()\n",
        "* DataFrame()\n",
        "* values\n"
      ]
    },
    {
      "cell_type": "code",
      "metadata": {
        "id": "3iIMCmfw8fBn"
      },
      "source": [
        ""
      ],
      "execution_count": null,
      "outputs": []
    },
    {
      "cell_type": "markdown",
      "metadata": {
        "id": "4AAdY01Z-Ctg"
      },
      "source": [
        "df.ix[1,0] or df.iloc[1,0]"
      ]
    },
    {
      "cell_type": "code",
      "metadata": {
        "id": "Z1sE_vGC-Djw"
      },
      "source": [
        "A = '1234567'"
      ],
      "execution_count": null,
      "outputs": []
    },
    {
      "cell_type": "code",
      "metadata": {
        "colab": {
          "base_uri": "https://localhost:8080/",
          "height": 35
        },
        "id": "b_MS8uymGxnQ",
        "outputId": "5c7e4b4a-6f17-467d-d622-4aa19b8d01e3"
      },
      "source": [
        "A [1 :: 2]"
      ],
      "execution_count": null,
      "outputs": [
        {
          "output_type": "execute_result",
          "data": {
            "application/vnd.google.colaboratory.intrinsic+json": {
              "type": "string"
            },
            "text/plain": [
              "'246'"
            ]
          },
          "metadata": {
            "tags": []
          },
          "execution_count": 4
        }
      ]
    },
    {
      "cell_type": "code",
      "metadata": {
        "colab": {
          "base_uri": "https://localhost:8080/"
        },
        "id": "dKTKt6kPG6rr",
        "outputId": "bed9706c-0fee-4c3e-ff4a-bc0c4790c11b"
      },
      "source": [
        "Name=\"Michael Jackson\"\n",
        "Name.find('el')"
      ],
      "execution_count": null,
      "outputs": [
        {
          "output_type": "execute_result",
          "data": {
            "text/plain": [
              "5"
            ]
          },
          "metadata": {
            "tags": []
          },
          "execution_count": 5
        }
      ]
    },
    {
      "cell_type": "code",
      "metadata": {
        "id": "kPXFCwMxG766"
      },
      "source": [
        "A=((11,12),[21,22])"
      ],
      "execution_count": null,
      "outputs": []
    },
    {
      "cell_type": "code",
      "metadata": {
        "colab": {
          "base_uri": "https://localhost:8080/"
        },
        "id": "TrQ3USGlHQox",
        "outputId": "b5812650-4073-4e43-bf82-dc631286ec4f"
      },
      "source": [
        "A[1]"
      ],
      "execution_count": null,
      "outputs": [
        {
          "output_type": "execute_result",
          "data": {
            "text/plain": [
              "[21, 22]"
            ]
          },
          "metadata": {
            "tags": []
          },
          "execution_count": 7
        }
      ]
    },
    {
      "cell_type": "code",
      "metadata": {
        "colab": {
          "base_uri": "https://localhost:8080/"
        },
        "id": "1umiuDkSHR4R",
        "outputId": "a1683383-5a7b-4e7b-ac62-a9fa25a8ddeb"
      },
      "source": [
        "A [0] [1]"
      ],
      "execution_count": null,
      "outputs": [
        {
          "output_type": "execute_result",
          "data": {
            "text/plain": [
              "12"
            ]
          },
          "metadata": {
            "tags": []
          },
          "execution_count": 8
        }
      ]
    },
    {
      "cell_type": "code",
      "metadata": {
        "colab": {
          "base_uri": "https://localhost:8080/"
        },
        "id": "xOPCz0tNHbTP",
        "outputId": "a650167e-045a-440b-cc11-8a94f524de35"
      },
      "source": [
        "'1,2,3,4'.split(',')"
      ],
      "execution_count": null,
      "outputs": [
        {
          "output_type": "execute_result",
          "data": {
            "text/plain": [
              "['1', '2', '3', '4']"
            ]
          },
          "metadata": {
            "tags": []
          },
          "execution_count": 9
        }
      ]
    },
    {
      "cell_type": "code",
      "metadata": {
        "id": "quuyn_daIXxW"
      },
      "source": [
        "def Add(x,y):\n",
        "\n",
        "  z=y+x\n",
        "\n",
        "  return(y)\n",
        "  "
      ],
      "execution_count": null,
      "outputs": []
    },
    {
      "cell_type": "code",
      "metadata": {
        "colab": {
          "base_uri": "https://localhost:8080/"
        },
        "id": "l432vf6tIoBW",
        "outputId": "9e04459f-ee71-48b7-86b3-1ad2924e3a2a"
      },
      "source": [
        "Add(1,2)"
      ],
      "execution_count": null,
      "outputs": [
        {
          "output_type": "execute_result",
          "data": {
            "text/plain": [
              "2"
            ]
          },
          "metadata": {
            "tags": []
          },
          "execution_count": 13
        }
      ]
    },
    {
      "cell_type": "code",
      "metadata": {
        "id": "UYrRXq8QIrGU"
      },
      "source": [
        ""
      ],
      "execution_count": null,
      "outputs": []
    },
    {
      "cell_type": "markdown",
      "metadata": {
        "id": "V_efJosFI8AP"
      },
      "source": [
        "```\n",
        "class Points(object):\n",
        "\n",
        "  def __init__(self,x,y):\n",
        "\n",
        "    self.x=x (atributos)\n",
        "\n",
        "    self.y=y\n",
        "\n",
        "  def print_point(self):\n",
        "\n",
        "    print('x=',self.x,'y=',self.y)\n",
        "```"
      ]
    },
    {
      "cell_type": "code",
      "metadata": {
        "id": "DeYy8ttwI9mc"
      },
      "source": [
        ""
      ],
      "execution_count": null,
      "outputs": []
    }
  ]
}